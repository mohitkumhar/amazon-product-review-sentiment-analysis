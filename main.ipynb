{
 "cells": [
  {
   "cell_type": "code",
   "execution_count": 1,
   "id": "566c25b7-6ce7-4031-92bd-25aa27480804",
   "metadata": {},
   "outputs": [
    {
     "name": "stderr",
     "output_type": "stream",
     "text": [
      "[nltk_data] Downloading package stopwords to\n",
      "[nltk_data]     C:\\Users\\write\\AppData\\Roaming\\nltk_data...\n",
      "[nltk_data]   Package stopwords is already up-to-date!\n",
      "[nltk_data] Downloading package punkt_tab to\n",
      "[nltk_data]     C:\\Users\\write\\AppData\\Roaming\\nltk_data...\n",
      "[nltk_data]   Package punkt_tab is already up-to-date!\n"
     ]
    }
   ],
   "source": [
    "import pandas as pd\n",
    "pd.options.mode.chained_assignment = None\n",
    "\n",
    "import numpy as np\n",
    "\n",
    "from nltk.corpus import stopwords\n",
    "import nltk\n",
    "\n",
    "nltk.download('stopwords')\n",
    "\n",
    "\n",
    "import re\n",
    "\n",
    "from tqdm import tqdm\n",
    "tqdm.pandas()\n",
    "\n",
    "from bs4 import BeautifulSoup\n",
    "\n",
    "import string\n",
    "\n",
    "from nltk.tokenize import word_tokenize\n",
    "\n",
    "nltk.download('punkt_tab')\n",
    "\n",
    "from nltk.stem.porter import PorterStemmer\n",
    "from nltk.stem import WordNetLemmatizer\n",
    "\n",
    "import seaborn as sns\n",
    "from matplotlib import pyplot as plt\n",
    "\n",
    "from sklearn.feature_extraction.text import CountVectorizer, TfidfVectorizer\n",
    "\n",
    "from sklearn.model_selection import train_test_split\n",
    "\n",
    "from sklearn.ensemble import RandomForestClassifier\n",
    "\n",
    "from sklearn.metrics import accuracy_score\n",
    "\n",
    "from sklearn.ensemble import GradientBoostingClassifier, HistGradientBoostingClassifier\n",
    "\n",
    "from xgboost import DMatrix, train as xgb_train\n",
    "\n",
    "from sklearn.ensemble import StackingClassifier, VotingClassifier\n",
    "\n",
    "from fuzzywuzzy import fuzz\n",
    "\n",
    "from sklearn.linear_model import LogisticRegression, SGDClassifier\n",
    "\n",
    "from sklearn.preprocessing import StandardScaler"
   ]
  },
  {
   "cell_type": "code",
   "execution_count": 2,
   "id": "c9ca5d5f-839a-4150-bffe-e148ef98b659",
   "metadata": {},
   "outputs": [],
   "source": [
    "ps = PorterStemmer()\n",
    "ws = WordNetLemmatizer()"
   ]
  },
  {
   "cell_type": "code",
   "execution_count": 3,
   "id": "b9861a02",
   "metadata": {},
   "outputs": [],
   "source": [
    "stop_words = set(stopwords.words('english'))\n",
    "punc = string.punctuation"
   ]
  },
  {
   "cell_type": "code",
   "execution_count": 4,
   "id": "1b0efd90",
   "metadata": {},
   "outputs": [],
   "source": [
    "\n",
    "def remove_url(text):\n",
    "    if isinstance(text, str):  # Check if the input is a string\n",
    "        pattern = re.compile(r'https?://\\S+|www\\.\\S+')\n",
    "        return pattern.sub(r'', text)\n",
    "    return text  # If not a string, return it unchanged\n",
    "    \n",
    "def preprocessing(text):\n",
    "    \n",
    "    # removing urls\n",
    "    text = remove_url(text)\n",
    "\n",
    "    # remove html tags\n",
    "    text = BeautifulSoup(text, 'html.parser')\n",
    "    text = text.get_text()\n",
    "    if not text.strip():  # Check if text is empty after stripping HTML\n",
    "        return 'empty_text'\n",
    "\n",
    "    # tokenizing the text\n",
    "    text_list = word_tokenize(text)\n",
    "    if not text_list:  # Check if text is empty after stripping HTML\n",
    "        return 'empty_text'\n",
    "\n",
    "\n",
    "    # lowering the words\n",
    "    for i in range(len(text_list)):\n",
    "        text_list[i] = text_list[i].lower().strip()\n",
    "\n",
    "    # removing the stopwords\n",
    "    filtered_words = []\n",
    "    for word in text_list:\n",
    "        if word not in stop_words:\n",
    "            filtered_words.append(word)\n",
    "\n",
    "    text_list = filtered_words\n",
    "\n",
    "    # removing punctuation\n",
    "    filtered_words = []\n",
    "    for word in text_list:\n",
    "        if word not in punc:\n",
    "            filtered_words.append(word)\n",
    "    text_list = filtered_words\n",
    "\n",
    "    # stemming\n",
    "    for i in range(len(text_list)):\n",
    "        text_list[i] = text_list[i].replace('ing', '')\n",
    "        text_list[i] = text_list[i].replace(\"'s\", '')\n",
    "        text_list[i] = text_list[i].replace(\"'re\", '')\n",
    "        text_list[i] = text_list[i].replace(\"'ve\", '')\n",
    "        text_list[i] = text_list[i].replace(\"'nt\", '')\n",
    "        text_list[i] = ws.lemmatize(text_list[i])\n",
    "\n",
    "    final_text =  ' '.join(text_list)\n",
    "\n",
    "    if not final_text.strip():\n",
    "        return 'empty_text'\n",
    "    return final_text"
   ]
  },
  {
   "cell_type": "code",
   "execution_count": 5,
   "id": "19a7caa5",
   "metadata": {},
   "outputs": [],
   "source": [
    "def fetch_fuzzy_features(row):\n",
    "    q1 = str(row['char_len'])\n",
    "    q2 = str(row['word_len'])\n",
    "\n",
    "    fuzze_features = [0.0] * 4\n",
    "\n",
    "    fuzze_features[0] = fuzz.QRatio(q1, q2)\n",
    "    fuzze_features[1] = fuzz.partial_ratio(q1, q2)\n",
    "    fuzze_features[2] = fuzz.token_sort_ratio(q1, q2)\n",
    "    fuzze_features[3] = fuzz.token_set_ratio(q1, q2)\n",
    "\n",
    "    return fuzze_features"
   ]
  },
  {
   "cell_type": "code",
   "execution_count": 6,
   "id": "5b89dcf9",
   "metadata": {},
   "outputs": [],
   "source": [
    "\n",
    "def feature_engineering(row):\n",
    "    row['char_len'] = row['Review'].str.len()\n",
    "    row['word_len'] = row['Review'].apply(lambda x: len(x.split()))\n",
    "    row['char_word_len_ratio'] = row['char_len'] / row['word_len']\n",
    "    row['first_char_len'] = row['Review'].apply(lambda x: len(x.split()[0]))\n",
    "    row['last_char_len'] = row['Review'].apply(lambda x: len(x.split()[-1]))\n",
    "    fuzzy_features = row.apply(fetch_fuzzy_features, axis=1)\n",
    "    row['fuzz_ratio'] = list(map(lambda x: x[0], fuzzy_features))\n",
    "    row['fuzz_partial_ratio'] = list(map(lambda x: x[1], fuzzy_features))\n",
    "    row['fuzz_token_sort_ratio'] = list(map(lambda x: x[2], fuzzy_features))\n",
    "    row['fuzz_token_set_ratio'] = list(map(lambda x: x[3], fuzzy_features))\n",
    "    return row\n",
    "    "
   ]
  },
  {
   "cell_type": "code",
   "execution_count": 7,
   "id": "cdf23bbf-713f-4531-ad62-fd737530424a",
   "metadata": {},
   "outputs": [
    {
     "name": "stdout",
     "output_type": "stream",
     "text": [
      "dataset amazon analysis punc read read read\n"
     ]
    }
   ],
   "source": [
    "a = preprocessing(\"This is the dataset of Amazon analysis https://instagram.com ! this is punc! and?. read reading reads? \")\n",
    "print(a)"
   ]
  },
  {
   "cell_type": "code",
   "execution_count": 8,
   "id": "cfc67363-1f75-47e4-8f5d-44ee4a87ce46",
   "metadata": {},
   "outputs": [],
   "source": [
    "test_df = pd.read_csv('test.csv')"
   ]
  },
  {
   "cell_type": "code",
   "execution_count": 9,
   "id": "5c4280f7-5bce-40df-8694-d0cd68bdf32e",
   "metadata": {},
   "outputs": [],
   "source": [
    "test_df = test_df.sample(30000, random_state=42)"
   ]
  },
  {
   "cell_type": "code",
   "execution_count": 10,
   "id": "79b7f621-6efe-42cd-91a0-8822a7dd4eba",
   "metadata": {},
   "outputs": [
    {
     "data": {
      "text/plain": [
       "(30000, 2)"
      ]
     },
     "execution_count": 10,
     "metadata": {},
     "output_type": "execute_result"
    }
   ],
   "source": [
    "test_df.shape"
   ]
  },
  {
   "cell_type": "code",
   "execution_count": null,
   "id": "c9d25020-1fd4-47c9-af0c-0fbceecaaa66",
   "metadata": {},
   "outputs": [],
   "source": []
  },
  {
   "cell_type": "code",
   "execution_count": 11,
   "id": "26cf7aa8-cec8-43b3-aa2a-5d5f03d5ff2a",
   "metadata": {},
   "outputs": [
    {
     "data": {
      "text/plain": [
       "(30000, 2)"
      ]
     },
     "execution_count": 11,
     "metadata": {},
     "output_type": "execute_result"
    }
   ],
   "source": [
    "test_df.shape"
   ]
  },
  {
   "cell_type": "code",
   "execution_count": 12,
   "id": "d301a09b-e7a2-486c-851a-c4dc3d4b8c98",
   "metadata": {},
   "outputs": [],
   "source": [
    "train_df = pd.read_csv('train.csv')"
   ]
  },
  {
   "cell_type": "code",
   "execution_count": 13,
   "id": "1c0ab176-c750-44a1-b440-01f955588bf9",
   "metadata": {},
   "outputs": [],
   "source": [
    "train_df = train_df.sample(90000, random_state=42)"
   ]
  },
  {
   "cell_type": "code",
   "execution_count": 14,
   "id": "a8222bd6-312f-4f73-b884-dfe23bea40cf",
   "metadata": {},
   "outputs": [
    {
     "data": {
      "text/plain": [
       "(90000, 2)"
      ]
     },
     "execution_count": 14,
     "metadata": {},
     "output_type": "execute_result"
    }
   ],
   "source": [
    "train_df.shape"
   ]
  },
  {
   "cell_type": "code",
   "execution_count": 15,
   "id": "e80e7a87-7880-4b04-a890-a2913ff62dd4",
   "metadata": {},
   "outputs": [
    {
     "name": "stdout",
     "output_type": "stream",
     "text": [
      "(90000, 2)\n",
      "(30000, 2)\n"
     ]
    }
   ],
   "source": [
    "print(train_df.shape)\n",
    "print(test_df.shape)"
   ]
  },
  {
   "cell_type": "code",
   "execution_count": 16,
   "id": "5f4ba8e3-1e50-4dbb-97b7-8f5b98cff10f",
   "metadata": {},
   "outputs": [
    {
     "data": {
      "text/plain": [
       "(90000, 2)"
      ]
     },
     "execution_count": 16,
     "metadata": {},
     "output_type": "execute_result"
    }
   ],
   "source": [
    "train_df.shape"
   ]
  },
  {
   "cell_type": "code",
   "execution_count": null,
   "id": "e4697183",
   "metadata": {},
   "outputs": [],
   "source": []
  },
  {
   "cell_type": "code",
   "execution_count": 17,
   "id": "fbfd68a3-7663-4967-855b-e939420e3b2b",
   "metadata": {},
   "outputs": [],
   "source": [
    "df = pd.concat([train_df, test_df])"
   ]
  },
  {
   "cell_type": "code",
   "execution_count": 18,
   "id": "47f36feb-f81b-4860-a15e-cc935111e574",
   "metadata": {},
   "outputs": [
    {
     "data": {
      "text/plain": [
       "(120000, 2)"
      ]
     },
     "execution_count": 18,
     "metadata": {},
     "output_type": "execute_result"
    }
   ],
   "source": [
    "df.shape"
   ]
  },
  {
   "cell_type": "code",
   "execution_count": 19,
   "id": "9363bcbf-1506-4eca-a8b5-ba537506b533",
   "metadata": {},
   "outputs": [
    {
     "data": {
      "text/html": [
       "<div>\n",
       "<style scoped>\n",
       "    .dataframe tbody tr th:only-of-type {\n",
       "        vertical-align: middle;\n",
       "    }\n",
       "\n",
       "    .dataframe tbody tr th {\n",
       "        vertical-align: top;\n",
       "    }\n",
       "\n",
       "    .dataframe thead th {\n",
       "        text-align: right;\n",
       "    }\n",
       "</style>\n",
       "<table border=\"1\" class=\"dataframe\">\n",
       "  <thead>\n",
       "    <tr style=\"text-align: right;\">\n",
       "      <th></th>\n",
       "      <th>Label</th>\n",
       "      <th>Review</th>\n",
       "    </tr>\n",
       "  </thead>\n",
       "  <tbody>\n",
       "    <tr>\n",
       "      <th>3314016</th>\n",
       "      <td>2</td>\n",
       "      <td>The Guardian-: I never write comments but this...</td>\n",
       "    </tr>\n",
       "    <tr>\n",
       "      <th>939664</th>\n",
       "      <td>2</td>\n",
       "      <td>A wonderful story: I can only add to the plaud...</td>\n",
       "    </tr>\n",
       "    <tr>\n",
       "      <th>301983</th>\n",
       "      <td>1</td>\n",
       "      <td>Thanks for perpuating the ignorance: This book...</td>\n",
       "    </tr>\n",
       "    <tr>\n",
       "      <th>2841468</th>\n",
       "      <td>2</td>\n",
       "      <td>creative Travel Dock 900: What a great little ...</td>\n",
       "    </tr>\n",
       "    <tr>\n",
       "      <th>765183</th>\n",
       "      <td>1</td>\n",
       "      <td>VERY Disappointing: I bought this DVD based on...</td>\n",
       "    </tr>\n",
       "  </tbody>\n",
       "</table>\n",
       "</div>"
      ],
      "text/plain": [
       "         Label                                             Review\n",
       "3314016      2  The Guardian-: I never write comments but this...\n",
       "939664       2  A wonderful story: I can only add to the plaud...\n",
       "301983       1  Thanks for perpuating the ignorance: This book...\n",
       "2841468      2  creative Travel Dock 900: What a great little ...\n",
       "765183       1  VERY Disappointing: I bought this DVD based on..."
      ]
     },
     "execution_count": 19,
     "metadata": {},
     "output_type": "execute_result"
    }
   ],
   "source": [
    "df.sample(5)"
   ]
  },
  {
   "cell_type": "code",
   "execution_count": 20,
   "id": "ce010ff4-f970-4b8d-8a7a-91a571124791",
   "metadata": {},
   "outputs": [
    {
     "data": {
      "text/plain": [
       "array([1, 2], dtype=int64)"
      ]
     },
     "execution_count": 20,
     "metadata": {},
     "output_type": "execute_result"
    }
   ],
   "source": [
    "df['Label'].unique()"
   ]
  },
  {
   "cell_type": "code",
   "execution_count": 21,
   "id": "13f9a391-6c0d-4b9c-8e3e-f715055d85ef",
   "metadata": {},
   "outputs": [
    {
     "name": "stderr",
     "output_type": "stream",
     "text": [
      "100%|█████████| 120000/120000 [00:00<00:00, 591133.50it/s]\n"
     ]
    }
   ],
   "source": [
    "df['Label'] = df['Label'].progress_apply(lambda x: 0 if x == 1 else 1)"
   ]
  },
  {
   "cell_type": "code",
   "execution_count": 22,
   "id": "c69ee1ab-9c3c-474a-ada5-f3643afdb24f",
   "metadata": {},
   "outputs": [
    {
     "data": {
      "text/plain": [
       "Label     0\n",
       "Review    0\n",
       "dtype: int64"
      ]
     },
     "execution_count": 22,
     "metadata": {},
     "output_type": "execute_result"
    }
   ],
   "source": [
    "df.isnull().sum()"
   ]
  },
  {
   "cell_type": "code",
   "execution_count": 23,
   "id": "bfb4bc01-b680-4931-a471-d3fddbccdc4f",
   "metadata": {},
   "outputs": [
    {
     "data": {
      "text/html": [
       "<div>\n",
       "<style scoped>\n",
       "    .dataframe tbody tr th:only-of-type {\n",
       "        vertical-align: middle;\n",
       "    }\n",
       "\n",
       "    .dataframe tbody tr th {\n",
       "        vertical-align: top;\n",
       "    }\n",
       "\n",
       "    .dataframe thead th {\n",
       "        text-align: right;\n",
       "    }\n",
       "</style>\n",
       "<table border=\"1\" class=\"dataframe\">\n",
       "  <thead>\n",
       "    <tr style=\"text-align: right;\">\n",
       "      <th></th>\n",
       "      <th>Label</th>\n",
       "      <th>Review</th>\n",
       "    </tr>\n",
       "  </thead>\n",
       "  <tbody>\n",
       "    <tr>\n",
       "      <th>2079998</th>\n",
       "      <td>0</td>\n",
       "      <td>Expensive Junk: This product consists of a pie...</td>\n",
       "    </tr>\n",
       "    <tr>\n",
       "      <th>1443106</th>\n",
       "      <td>0</td>\n",
       "      <td>Toast too dark: Even on the lowest setting, th...</td>\n",
       "    </tr>\n",
       "    <tr>\n",
       "      <th>3463669</th>\n",
       "      <td>1</td>\n",
       "      <td>Excellent imagery...dumbed down story: I enjoy...</td>\n",
       "    </tr>\n",
       "    <tr>\n",
       "      <th>2914699</th>\n",
       "      <td>0</td>\n",
       "      <td>Are we pretending everyone is married?: The au...</td>\n",
       "    </tr>\n",
       "    <tr>\n",
       "      <th>1603231</th>\n",
       "      <td>0</td>\n",
       "      <td>Not worth your time: Might as well just use a ...</td>\n",
       "    </tr>\n",
       "  </tbody>\n",
       "</table>\n",
       "</div>"
      ],
      "text/plain": [
       "         Label                                             Review\n",
       "2079998      0  Expensive Junk: This product consists of a pie...\n",
       "1443106      0  Toast too dark: Even on the lowest setting, th...\n",
       "3463669      1  Excellent imagery...dumbed down story: I enjoy...\n",
       "2914699      0  Are we pretending everyone is married?: The au...\n",
       "1603231      0  Not worth your time: Might as well just use a ..."
      ]
     },
     "execution_count": 23,
     "metadata": {},
     "output_type": "execute_result"
    }
   ],
   "source": [
    "df.head(5)"
   ]
  },
  {
   "cell_type": "code",
   "execution_count": null,
   "id": "18adffc0-705a-47cc-99f5-747d468297e4",
   "metadata": {},
   "outputs": [],
   "source": []
  },
  {
   "cell_type": "code",
   "execution_count": 24,
   "id": "47c9f5ea-7965-424c-9d66-d7f49389c028",
   "metadata": {
    "scrolled": true
   },
   "outputs": [
    {
     "data": {
      "text/plain": [
       "{'a',\n",
       " 'about',\n",
       " 'above',\n",
       " 'after',\n",
       " 'again',\n",
       " 'against',\n",
       " 'ain',\n",
       " 'all',\n",
       " 'am',\n",
       " 'an',\n",
       " 'and',\n",
       " 'any',\n",
       " 'are',\n",
       " 'aren',\n",
       " \"aren't\",\n",
       " 'as',\n",
       " 'at',\n",
       " 'be',\n",
       " 'because',\n",
       " 'been',\n",
       " 'before',\n",
       " 'being',\n",
       " 'below',\n",
       " 'between',\n",
       " 'both',\n",
       " 'but',\n",
       " 'by',\n",
       " 'can',\n",
       " 'couldn',\n",
       " \"couldn't\",\n",
       " 'd',\n",
       " 'did',\n",
       " 'didn',\n",
       " \"didn't\",\n",
       " 'do',\n",
       " 'does',\n",
       " 'doesn',\n",
       " \"doesn't\",\n",
       " 'doing',\n",
       " 'don',\n",
       " \"don't\",\n",
       " 'down',\n",
       " 'during',\n",
       " 'each',\n",
       " 'few',\n",
       " 'for',\n",
       " 'from',\n",
       " 'further',\n",
       " 'had',\n",
       " 'hadn',\n",
       " \"hadn't\",\n",
       " 'has',\n",
       " 'hasn',\n",
       " \"hasn't\",\n",
       " 'have',\n",
       " 'haven',\n",
       " \"haven't\",\n",
       " 'having',\n",
       " 'he',\n",
       " 'her',\n",
       " 'here',\n",
       " 'hers',\n",
       " 'herself',\n",
       " 'him',\n",
       " 'himself',\n",
       " 'his',\n",
       " 'how',\n",
       " 'i',\n",
       " 'if',\n",
       " 'in',\n",
       " 'into',\n",
       " 'is',\n",
       " 'isn',\n",
       " \"isn't\",\n",
       " 'it',\n",
       " \"it's\",\n",
       " 'its',\n",
       " 'itself',\n",
       " 'just',\n",
       " 'll',\n",
       " 'm',\n",
       " 'ma',\n",
       " 'me',\n",
       " 'mightn',\n",
       " \"mightn't\",\n",
       " 'more',\n",
       " 'most',\n",
       " 'mustn',\n",
       " \"mustn't\",\n",
       " 'my',\n",
       " 'myself',\n",
       " 'needn',\n",
       " \"needn't\",\n",
       " 'no',\n",
       " 'nor',\n",
       " 'not',\n",
       " 'now',\n",
       " 'o',\n",
       " 'of',\n",
       " 'off',\n",
       " 'on',\n",
       " 'once',\n",
       " 'only',\n",
       " 'or',\n",
       " 'other',\n",
       " 'our',\n",
       " 'ours',\n",
       " 'ourselves',\n",
       " 'out',\n",
       " 'over',\n",
       " 'own',\n",
       " 're',\n",
       " 's',\n",
       " 'same',\n",
       " 'shan',\n",
       " \"shan't\",\n",
       " 'she',\n",
       " \"she's\",\n",
       " 'should',\n",
       " \"should've\",\n",
       " 'shouldn',\n",
       " \"shouldn't\",\n",
       " 'so',\n",
       " 'some',\n",
       " 'such',\n",
       " 't',\n",
       " 'than',\n",
       " 'that',\n",
       " \"that'll\",\n",
       " 'the',\n",
       " 'their',\n",
       " 'theirs',\n",
       " 'them',\n",
       " 'themselves',\n",
       " 'then',\n",
       " 'there',\n",
       " 'these',\n",
       " 'they',\n",
       " 'this',\n",
       " 'those',\n",
       " 'through',\n",
       " 'to',\n",
       " 'too',\n",
       " 'under',\n",
       " 'until',\n",
       " 'up',\n",
       " 've',\n",
       " 'very',\n",
       " 'was',\n",
       " 'wasn',\n",
       " \"wasn't\",\n",
       " 'we',\n",
       " 'were',\n",
       " 'weren',\n",
       " \"weren't\",\n",
       " 'what',\n",
       " 'when',\n",
       " 'where',\n",
       " 'which',\n",
       " 'while',\n",
       " 'who',\n",
       " 'whom',\n",
       " 'why',\n",
       " 'will',\n",
       " 'with',\n",
       " 'won',\n",
       " \"won't\",\n",
       " 'wouldn',\n",
       " \"wouldn't\",\n",
       " 'y',\n",
       " 'you',\n",
       " \"you'd\",\n",
       " \"you'll\",\n",
       " \"you're\",\n",
       " \"you've\",\n",
       " 'your',\n",
       " 'yours',\n",
       " 'yourself',\n",
       " 'yourselves'}"
      ]
     },
     "execution_count": 24,
     "metadata": {},
     "output_type": "execute_result"
    }
   ],
   "source": [
    "stop_words"
   ]
  },
  {
   "cell_type": "code",
   "execution_count": null,
   "id": "4db5c2c2-45db-4af2-8145-d1fc7975b65a",
   "metadata": {},
   "outputs": [],
   "source": []
  },
  {
   "cell_type": "code",
   "execution_count": 25,
   "id": "3d0c6831-9e10-4551-9fbb-00c6be9f59f8",
   "metadata": {},
   "outputs": [
    {
     "data": {
      "text/plain": [
       "'!\"#$%&\\'()*+,-./:;<=>?@[\\\\]^_`{|}~'"
      ]
     },
     "execution_count": 25,
     "metadata": {},
     "output_type": "execute_result"
    }
   ],
   "source": [
    "punc"
   ]
  },
  {
   "cell_type": "code",
   "execution_count": null,
   "id": "6e8e5348-14bc-4f64-86db-ef4d6689113e",
   "metadata": {},
   "outputs": [],
   "source": []
  },
  {
   "cell_type": "code",
   "execution_count": null,
   "id": "9fe9019a-eb3a-41cd-aa90-fdd2e422bb5d",
   "metadata": {},
   "outputs": [],
   "source": []
  },
  {
   "cell_type": "code",
   "execution_count": null,
   "id": "544d2cc1-8d58-454c-937e-9bde6c9f2580",
   "metadata": {},
   "outputs": [],
   "source": []
  },
  {
   "cell_type": "markdown",
   "id": "e29f4b5a-4f8d-4424-8ccb-7c237291d920",
   "metadata": {},
   "source": [
    "### Feature Engineering"
   ]
  },
  {
   "cell_type": "code",
   "execution_count": 26,
   "id": "fd7bd7e1-dfdb-4884-8892-c84af3ca0314",
   "metadata": {},
   "outputs": [
    {
     "data": {
      "text/html": [
       "<div>\n",
       "<style scoped>\n",
       "    .dataframe tbody tr th:only-of-type {\n",
       "        vertical-align: middle;\n",
       "    }\n",
       "\n",
       "    .dataframe tbody tr th {\n",
       "        vertical-align: top;\n",
       "    }\n",
       "\n",
       "    .dataframe thead th {\n",
       "        text-align: right;\n",
       "    }\n",
       "</style>\n",
       "<table border=\"1\" class=\"dataframe\">\n",
       "  <thead>\n",
       "    <tr style=\"text-align: right;\">\n",
       "      <th></th>\n",
       "      <th>Label</th>\n",
       "      <th>Review</th>\n",
       "    </tr>\n",
       "  </thead>\n",
       "  <tbody>\n",
       "    <tr>\n",
       "      <th>2079998</th>\n",
       "      <td>0</td>\n",
       "      <td>Expensive Junk: This product consists of a pie...</td>\n",
       "    </tr>\n",
       "    <tr>\n",
       "      <th>1443106</th>\n",
       "      <td>0</td>\n",
       "      <td>Toast too dark: Even on the lowest setting, th...</td>\n",
       "    </tr>\n",
       "    <tr>\n",
       "      <th>3463669</th>\n",
       "      <td>1</td>\n",
       "      <td>Excellent imagery...dumbed down story: I enjoy...</td>\n",
       "    </tr>\n",
       "    <tr>\n",
       "      <th>2914699</th>\n",
       "      <td>0</td>\n",
       "      <td>Are we pretending everyone is married?: The au...</td>\n",
       "    </tr>\n",
       "    <tr>\n",
       "      <th>1603231</th>\n",
       "      <td>0</td>\n",
       "      <td>Not worth your time: Might as well just use a ...</td>\n",
       "    </tr>\n",
       "  </tbody>\n",
       "</table>\n",
       "</div>"
      ],
      "text/plain": [
       "         Label                                             Review\n",
       "2079998      0  Expensive Junk: This product consists of a pie...\n",
       "1443106      0  Toast too dark: Even on the lowest setting, th...\n",
       "3463669      1  Excellent imagery...dumbed down story: I enjoy...\n",
       "2914699      0  Are we pretending everyone is married?: The au...\n",
       "1603231      0  Not worth your time: Might as well just use a ..."
      ]
     },
     "execution_count": 26,
     "metadata": {},
     "output_type": "execute_result"
    }
   ],
   "source": [
    "df.head()"
   ]
  },
  {
   "cell_type": "code",
   "execution_count": 27,
   "id": "89f915b9-f11e-4e77-b787-dfbfe31e4e64",
   "metadata": {},
   "outputs": [],
   "source": [
    "df['char_len'] = df['Review'].str.len()"
   ]
  },
  {
   "cell_type": "code",
   "execution_count": 28,
   "id": "f8845b54-da66-4346-b622-94a1d0dcf63b",
   "metadata": {},
   "outputs": [
    {
     "data": {
      "text/html": [
       "<div>\n",
       "<style scoped>\n",
       "    .dataframe tbody tr th:only-of-type {\n",
       "        vertical-align: middle;\n",
       "    }\n",
       "\n",
       "    .dataframe tbody tr th {\n",
       "        vertical-align: top;\n",
       "    }\n",
       "\n",
       "    .dataframe thead th {\n",
       "        text-align: right;\n",
       "    }\n",
       "</style>\n",
       "<table border=\"1\" class=\"dataframe\">\n",
       "  <thead>\n",
       "    <tr style=\"text-align: right;\">\n",
       "      <th></th>\n",
       "      <th>Label</th>\n",
       "      <th>Review</th>\n",
       "      <th>char_len</th>\n",
       "    </tr>\n",
       "  </thead>\n",
       "  <tbody>\n",
       "    <tr>\n",
       "      <th>2079998</th>\n",
       "      <td>0</td>\n",
       "      <td>Expensive Junk: This product consists of a pie...</td>\n",
       "      <td>623</td>\n",
       "    </tr>\n",
       "    <tr>\n",
       "      <th>1443106</th>\n",
       "      <td>0</td>\n",
       "      <td>Toast too dark: Even on the lowest setting, th...</td>\n",
       "      <td>207</td>\n",
       "    </tr>\n",
       "    <tr>\n",
       "      <th>3463669</th>\n",
       "      <td>1</td>\n",
       "      <td>Excellent imagery...dumbed down story: I enjoy...</td>\n",
       "      <td>410</td>\n",
       "    </tr>\n",
       "    <tr>\n",
       "      <th>2914699</th>\n",
       "      <td>0</td>\n",
       "      <td>Are we pretending everyone is married?: The au...</td>\n",
       "      <td>382</td>\n",
       "    </tr>\n",
       "    <tr>\n",
       "      <th>1603231</th>\n",
       "      <td>0</td>\n",
       "      <td>Not worth your time: Might as well just use a ...</td>\n",
       "      <td>124</td>\n",
       "    </tr>\n",
       "  </tbody>\n",
       "</table>\n",
       "</div>"
      ],
      "text/plain": [
       "         Label                                             Review  char_len\n",
       "2079998      0  Expensive Junk: This product consists of a pie...       623\n",
       "1443106      0  Toast too dark: Even on the lowest setting, th...       207\n",
       "3463669      1  Excellent imagery...dumbed down story: I enjoy...       410\n",
       "2914699      0  Are we pretending everyone is married?: The au...       382\n",
       "1603231      0  Not worth your time: Might as well just use a ...       124"
      ]
     },
     "execution_count": 28,
     "metadata": {},
     "output_type": "execute_result"
    }
   ],
   "source": [
    "df.head()"
   ]
  },
  {
   "cell_type": "code",
   "execution_count": 29,
   "id": "2b3a0683-5ff6-42d9-9546-1a715c04223c",
   "metadata": {},
   "outputs": [
    {
     "name": "stderr",
     "output_type": "stream",
     "text": [
      "100%|██████████| 120000/120000 [00:01<00:00, 94752.31it/s]\n"
     ]
    }
   ],
   "source": [
    "df['word_len'] = df['Review'].progress_apply(lambda x: len(x.split()))"
   ]
  },
  {
   "cell_type": "code",
   "execution_count": 30,
   "id": "60e3c47f-c1d5-46dd-9403-ba3e6a364e2a",
   "metadata": {},
   "outputs": [
    {
     "data": {
      "text/html": [
       "<div>\n",
       "<style scoped>\n",
       "    .dataframe tbody tr th:only-of-type {\n",
       "        vertical-align: middle;\n",
       "    }\n",
       "\n",
       "    .dataframe tbody tr th {\n",
       "        vertical-align: top;\n",
       "    }\n",
       "\n",
       "    .dataframe thead th {\n",
       "        text-align: right;\n",
       "    }\n",
       "</style>\n",
       "<table border=\"1\" class=\"dataframe\">\n",
       "  <thead>\n",
       "    <tr style=\"text-align: right;\">\n",
       "      <th></th>\n",
       "      <th>Label</th>\n",
       "      <th>Review</th>\n",
       "      <th>char_len</th>\n",
       "      <th>word_len</th>\n",
       "    </tr>\n",
       "  </thead>\n",
       "  <tbody>\n",
       "    <tr>\n",
       "      <th>2079998</th>\n",
       "      <td>0</td>\n",
       "      <td>Expensive Junk: This product consists of a pie...</td>\n",
       "      <td>623</td>\n",
       "      <td>101</td>\n",
       "    </tr>\n",
       "    <tr>\n",
       "      <th>1443106</th>\n",
       "      <td>0</td>\n",
       "      <td>Toast too dark: Even on the lowest setting, th...</td>\n",
       "      <td>207</td>\n",
       "      <td>39</td>\n",
       "    </tr>\n",
       "    <tr>\n",
       "      <th>3463669</th>\n",
       "      <td>1</td>\n",
       "      <td>Excellent imagery...dumbed down story: I enjoy...</td>\n",
       "      <td>410</td>\n",
       "      <td>70</td>\n",
       "    </tr>\n",
       "    <tr>\n",
       "      <th>2914699</th>\n",
       "      <td>0</td>\n",
       "      <td>Are we pretending everyone is married?: The au...</td>\n",
       "      <td>382</td>\n",
       "      <td>65</td>\n",
       "    </tr>\n",
       "    <tr>\n",
       "      <th>1603231</th>\n",
       "      <td>0</td>\n",
       "      <td>Not worth your time: Might as well just use a ...</td>\n",
       "      <td>124</td>\n",
       "      <td>25</td>\n",
       "    </tr>\n",
       "  </tbody>\n",
       "</table>\n",
       "</div>"
      ],
      "text/plain": [
       "         Label                                             Review  char_len  \\\n",
       "2079998      0  Expensive Junk: This product consists of a pie...       623   \n",
       "1443106      0  Toast too dark: Even on the lowest setting, th...       207   \n",
       "3463669      1  Excellent imagery...dumbed down story: I enjoy...       410   \n",
       "2914699      0  Are we pretending everyone is married?: The au...       382   \n",
       "1603231      0  Not worth your time: Might as well just use a ...       124   \n",
       "\n",
       "         word_len  \n",
       "2079998       101  \n",
       "1443106        39  \n",
       "3463669        70  \n",
       "2914699        65  \n",
       "1603231        25  "
      ]
     },
     "execution_count": 30,
     "metadata": {},
     "output_type": "execute_result"
    }
   ],
   "source": [
    "df.head()"
   ]
  },
  {
   "cell_type": "code",
   "execution_count": 31,
   "id": "83b81fa6-a293-49f4-ad59-86237365d7fb",
   "metadata": {},
   "outputs": [],
   "source": [
    "df['char_word_len_ratio'] = df['char_len'] / df['word_len']"
   ]
  },
  {
   "cell_type": "code",
   "execution_count": 32,
   "id": "b1b3b17a-76c7-4c68-b129-e28a1004f6e8",
   "metadata": {},
   "outputs": [
    {
     "data": {
      "text/html": [
       "<div>\n",
       "<style scoped>\n",
       "    .dataframe tbody tr th:only-of-type {\n",
       "        vertical-align: middle;\n",
       "    }\n",
       "\n",
       "    .dataframe tbody tr th {\n",
       "        vertical-align: top;\n",
       "    }\n",
       "\n",
       "    .dataframe thead th {\n",
       "        text-align: right;\n",
       "    }\n",
       "</style>\n",
       "<table border=\"1\" class=\"dataframe\">\n",
       "  <thead>\n",
       "    <tr style=\"text-align: right;\">\n",
       "      <th></th>\n",
       "      <th>Label</th>\n",
       "      <th>Review</th>\n",
       "      <th>char_len</th>\n",
       "      <th>word_len</th>\n",
       "      <th>char_word_len_ratio</th>\n",
       "    </tr>\n",
       "  </thead>\n",
       "  <tbody>\n",
       "    <tr>\n",
       "      <th>2079998</th>\n",
       "      <td>0</td>\n",
       "      <td>Expensive Junk: This product consists of a pie...</td>\n",
       "      <td>623</td>\n",
       "      <td>101</td>\n",
       "      <td>6.168317</td>\n",
       "    </tr>\n",
       "    <tr>\n",
       "      <th>1443106</th>\n",
       "      <td>0</td>\n",
       "      <td>Toast too dark: Even on the lowest setting, th...</td>\n",
       "      <td>207</td>\n",
       "      <td>39</td>\n",
       "      <td>5.307692</td>\n",
       "    </tr>\n",
       "    <tr>\n",
       "      <th>3463669</th>\n",
       "      <td>1</td>\n",
       "      <td>Excellent imagery...dumbed down story: I enjoy...</td>\n",
       "      <td>410</td>\n",
       "      <td>70</td>\n",
       "      <td>5.857143</td>\n",
       "    </tr>\n",
       "    <tr>\n",
       "      <th>2914699</th>\n",
       "      <td>0</td>\n",
       "      <td>Are we pretending everyone is married?: The au...</td>\n",
       "      <td>382</td>\n",
       "      <td>65</td>\n",
       "      <td>5.876923</td>\n",
       "    </tr>\n",
       "    <tr>\n",
       "      <th>1603231</th>\n",
       "      <td>0</td>\n",
       "      <td>Not worth your time: Might as well just use a ...</td>\n",
       "      <td>124</td>\n",
       "      <td>25</td>\n",
       "      <td>4.960000</td>\n",
       "    </tr>\n",
       "  </tbody>\n",
       "</table>\n",
       "</div>"
      ],
      "text/plain": [
       "         Label                                             Review  char_len  \\\n",
       "2079998      0  Expensive Junk: This product consists of a pie...       623   \n",
       "1443106      0  Toast too dark: Even on the lowest setting, th...       207   \n",
       "3463669      1  Excellent imagery...dumbed down story: I enjoy...       410   \n",
       "2914699      0  Are we pretending everyone is married?: The au...       382   \n",
       "1603231      0  Not worth your time: Might as well just use a ...       124   \n",
       "\n",
       "         word_len  char_word_len_ratio  \n",
       "2079998       101             6.168317  \n",
       "1443106        39             5.307692  \n",
       "3463669        70             5.857143  \n",
       "2914699        65             5.876923  \n",
       "1603231        25             4.960000  "
      ]
     },
     "execution_count": 32,
     "metadata": {},
     "output_type": "execute_result"
    }
   ],
   "source": [
    "df.head()"
   ]
  },
  {
   "cell_type": "code",
   "execution_count": 33,
   "id": "b688e05f-e841-48cc-bf79-5f2e23496fc0",
   "metadata": {},
   "outputs": [
    {
     "name": "stderr",
     "output_type": "stream",
     "text": [
      "100%|██████████| 120000/120000 [00:01<00:00, 86579.09it/s]\n"
     ]
    }
   ],
   "source": [
    "df['first_char_len'] = df['Review'].progress_apply(lambda x: len(x.split()[0]))"
   ]
  },
  {
   "cell_type": "code",
   "execution_count": 34,
   "id": "5f2a5274-9701-4bbe-9b43-4c986f392eaa",
   "metadata": {},
   "outputs": [
    {
     "data": {
      "text/html": [
       "<div>\n",
       "<style scoped>\n",
       "    .dataframe tbody tr th:only-of-type {\n",
       "        vertical-align: middle;\n",
       "    }\n",
       "\n",
       "    .dataframe tbody tr th {\n",
       "        vertical-align: top;\n",
       "    }\n",
       "\n",
       "    .dataframe thead th {\n",
       "        text-align: right;\n",
       "    }\n",
       "</style>\n",
       "<table border=\"1\" class=\"dataframe\">\n",
       "  <thead>\n",
       "    <tr style=\"text-align: right;\">\n",
       "      <th></th>\n",
       "      <th>Label</th>\n",
       "      <th>Review</th>\n",
       "      <th>char_len</th>\n",
       "      <th>word_len</th>\n",
       "      <th>char_word_len_ratio</th>\n",
       "      <th>first_char_len</th>\n",
       "    </tr>\n",
       "  </thead>\n",
       "  <tbody>\n",
       "    <tr>\n",
       "      <th>2079998</th>\n",
       "      <td>0</td>\n",
       "      <td>Expensive Junk: This product consists of a pie...</td>\n",
       "      <td>623</td>\n",
       "      <td>101</td>\n",
       "      <td>6.168317</td>\n",
       "      <td>9</td>\n",
       "    </tr>\n",
       "    <tr>\n",
       "      <th>1443106</th>\n",
       "      <td>0</td>\n",
       "      <td>Toast too dark: Even on the lowest setting, th...</td>\n",
       "      <td>207</td>\n",
       "      <td>39</td>\n",
       "      <td>5.307692</td>\n",
       "      <td>5</td>\n",
       "    </tr>\n",
       "    <tr>\n",
       "      <th>3463669</th>\n",
       "      <td>1</td>\n",
       "      <td>Excellent imagery...dumbed down story: I enjoy...</td>\n",
       "      <td>410</td>\n",
       "      <td>70</td>\n",
       "      <td>5.857143</td>\n",
       "      <td>9</td>\n",
       "    </tr>\n",
       "    <tr>\n",
       "      <th>2914699</th>\n",
       "      <td>0</td>\n",
       "      <td>Are we pretending everyone is married?: The au...</td>\n",
       "      <td>382</td>\n",
       "      <td>65</td>\n",
       "      <td>5.876923</td>\n",
       "      <td>3</td>\n",
       "    </tr>\n",
       "    <tr>\n",
       "      <th>1603231</th>\n",
       "      <td>0</td>\n",
       "      <td>Not worth your time: Might as well just use a ...</td>\n",
       "      <td>124</td>\n",
       "      <td>25</td>\n",
       "      <td>4.960000</td>\n",
       "      <td>3</td>\n",
       "    </tr>\n",
       "  </tbody>\n",
       "</table>\n",
       "</div>"
      ],
      "text/plain": [
       "         Label                                             Review  char_len  \\\n",
       "2079998      0  Expensive Junk: This product consists of a pie...       623   \n",
       "1443106      0  Toast too dark: Even on the lowest setting, th...       207   \n",
       "3463669      1  Excellent imagery...dumbed down story: I enjoy...       410   \n",
       "2914699      0  Are we pretending everyone is married?: The au...       382   \n",
       "1603231      0  Not worth your time: Might as well just use a ...       124   \n",
       "\n",
       "         word_len  char_word_len_ratio  first_char_len  \n",
       "2079998       101             6.168317               9  \n",
       "1443106        39             5.307692               5  \n",
       "3463669        70             5.857143               9  \n",
       "2914699        65             5.876923               3  \n",
       "1603231        25             4.960000               3  "
      ]
     },
     "execution_count": 34,
     "metadata": {},
     "output_type": "execute_result"
    }
   ],
   "source": [
    "df.head()"
   ]
  },
  {
   "cell_type": "code",
   "execution_count": 35,
   "id": "da26d88a-ae46-47cf-8374-6e3e05423db6",
   "metadata": {},
   "outputs": [
    {
     "name": "stderr",
     "output_type": "stream",
     "text": [
      "100%|██████████| 120000/120000 [00:01<00:00, 88237.45it/s]\n"
     ]
    }
   ],
   "source": [
    "df['last_char_len'] = df['Review'].progress_apply(lambda x: len(x.split()[-1]))"
   ]
  },
  {
   "cell_type": "code",
   "execution_count": 36,
   "id": "e8e6ceda-0ea7-4188-8faf-aeec3a0f2b88",
   "metadata": {},
   "outputs": [
    {
     "data": {
      "text/html": [
       "<div>\n",
       "<style scoped>\n",
       "    .dataframe tbody tr th:only-of-type {\n",
       "        vertical-align: middle;\n",
       "    }\n",
       "\n",
       "    .dataframe tbody tr th {\n",
       "        vertical-align: top;\n",
       "    }\n",
       "\n",
       "    .dataframe thead th {\n",
       "        text-align: right;\n",
       "    }\n",
       "</style>\n",
       "<table border=\"1\" class=\"dataframe\">\n",
       "  <thead>\n",
       "    <tr style=\"text-align: right;\">\n",
       "      <th></th>\n",
       "      <th>Label</th>\n",
       "      <th>Review</th>\n",
       "      <th>char_len</th>\n",
       "      <th>word_len</th>\n",
       "      <th>char_word_len_ratio</th>\n",
       "      <th>first_char_len</th>\n",
       "      <th>last_char_len</th>\n",
       "    </tr>\n",
       "  </thead>\n",
       "  <tbody>\n",
       "    <tr>\n",
       "      <th>2079998</th>\n",
       "      <td>0</td>\n",
       "      <td>Expensive Junk: This product consists of a pie...</td>\n",
       "      <td>623</td>\n",
       "      <td>101</td>\n",
       "      <td>6.168317</td>\n",
       "      <td>9</td>\n",
       "      <td>5</td>\n",
       "    </tr>\n",
       "    <tr>\n",
       "      <th>1443106</th>\n",
       "      <td>0</td>\n",
       "      <td>Toast too dark: Even on the lowest setting, th...</td>\n",
       "      <td>207</td>\n",
       "      <td>39</td>\n",
       "      <td>5.307692</td>\n",
       "      <td>5</td>\n",
       "      <td>10</td>\n",
       "    </tr>\n",
       "    <tr>\n",
       "      <th>3463669</th>\n",
       "      <td>1</td>\n",
       "      <td>Excellent imagery...dumbed down story: I enjoy...</td>\n",
       "      <td>410</td>\n",
       "      <td>70</td>\n",
       "      <td>5.857143</td>\n",
       "      <td>9</td>\n",
       "      <td>3</td>\n",
       "    </tr>\n",
       "    <tr>\n",
       "      <th>2914699</th>\n",
       "      <td>0</td>\n",
       "      <td>Are we pretending everyone is married?: The au...</td>\n",
       "      <td>382</td>\n",
       "      <td>65</td>\n",
       "      <td>5.876923</td>\n",
       "      <td>3</td>\n",
       "      <td>3</td>\n",
       "    </tr>\n",
       "    <tr>\n",
       "      <th>1603231</th>\n",
       "      <td>0</td>\n",
       "      <td>Not worth your time: Might as well just use a ...</td>\n",
       "      <td>124</td>\n",
       "      <td>25</td>\n",
       "      <td>4.960000</td>\n",
       "      <td>3</td>\n",
       "      <td>8</td>\n",
       "    </tr>\n",
       "  </tbody>\n",
       "</table>\n",
       "</div>"
      ],
      "text/plain": [
       "         Label                                             Review  char_len  \\\n",
       "2079998      0  Expensive Junk: This product consists of a pie...       623   \n",
       "1443106      0  Toast too dark: Even on the lowest setting, th...       207   \n",
       "3463669      1  Excellent imagery...dumbed down story: I enjoy...       410   \n",
       "2914699      0  Are we pretending everyone is married?: The au...       382   \n",
       "1603231      0  Not worth your time: Might as well just use a ...       124   \n",
       "\n",
       "         word_len  char_word_len_ratio  first_char_len  last_char_len  \n",
       "2079998       101             6.168317               9              5  \n",
       "1443106        39             5.307692               5             10  \n",
       "3463669        70             5.857143               9              3  \n",
       "2914699        65             5.876923               3              3  \n",
       "1603231        25             4.960000               3              8  "
      ]
     },
     "execution_count": 36,
     "metadata": {},
     "output_type": "execute_result"
    }
   ],
   "source": [
    "df.head()"
   ]
  },
  {
   "cell_type": "code",
   "execution_count": null,
   "id": "940befc1-1e58-439d-a739-5ae3565c1c47",
   "metadata": {},
   "outputs": [],
   "source": []
  },
  {
   "cell_type": "code",
   "execution_count": 37,
   "id": "947ac59f-974e-4848-83d5-07dfb68f0ef1",
   "metadata": {
    "scrolled": true
   },
   "outputs": [
    {
     "name": "stderr",
     "output_type": "stream",
     "text": [
      "100%|███████████| 120000/120000 [00:16<00:00, 7375.46it/s]\n"
     ]
    }
   ],
   "source": [
    "fuzzy_features = df.progress_apply(fetch_fuzzy_features, axis=1)"
   ]
  },
  {
   "cell_type": "code",
   "execution_count": 38,
   "id": "61b257c8-23be-4304-8ddd-7366ac16a390",
   "metadata": {},
   "outputs": [],
   "source": [
    "df['fuzz_ratio'] = list(map(lambda x: x[0], fuzzy_features))"
   ]
  },
  {
   "cell_type": "code",
   "execution_count": 39,
   "id": "c0482c62-eb80-46f8-be2d-21a5d1bf4bcf",
   "metadata": {},
   "outputs": [],
   "source": [
    "df['fuzz_partial_ratio'] = list(map(lambda x: x[1], fuzzy_features))"
   ]
  },
  {
   "cell_type": "code",
   "execution_count": 40,
   "id": "206e5595-bcfc-46cd-91f0-a35449ac3e88",
   "metadata": {},
   "outputs": [],
   "source": [
    "df['fuzz_token_sort_ratio'] = list(map(lambda x: x[2], fuzzy_features))"
   ]
  },
  {
   "cell_type": "code",
   "execution_count": 41,
   "id": "15bdf167-1134-4dfa-81fe-ef7b3708e46a",
   "metadata": {},
   "outputs": [],
   "source": [
    "df['fuzz_token_set_ratio'] = list(map(lambda x: x[3], fuzzy_features))"
   ]
  },
  {
   "cell_type": "code",
   "execution_count": 42,
   "id": "061fc6f2-f949-450f-abe4-dfa3f2ed35e0",
   "metadata": {},
   "outputs": [
    {
     "data": {
      "text/html": [
       "<div>\n",
       "<style scoped>\n",
       "    .dataframe tbody tr th:only-of-type {\n",
       "        vertical-align: middle;\n",
       "    }\n",
       "\n",
       "    .dataframe tbody tr th {\n",
       "        vertical-align: top;\n",
       "    }\n",
       "\n",
       "    .dataframe thead th {\n",
       "        text-align: right;\n",
       "    }\n",
       "</style>\n",
       "<table border=\"1\" class=\"dataframe\">\n",
       "  <thead>\n",
       "    <tr style=\"text-align: right;\">\n",
       "      <th></th>\n",
       "      <th>Label</th>\n",
       "      <th>Review</th>\n",
       "      <th>char_len</th>\n",
       "      <th>word_len</th>\n",
       "      <th>char_word_len_ratio</th>\n",
       "      <th>first_char_len</th>\n",
       "      <th>last_char_len</th>\n",
       "      <th>fuzz_ratio</th>\n",
       "      <th>fuzz_partial_ratio</th>\n",
       "      <th>fuzz_token_sort_ratio</th>\n",
       "      <th>fuzz_token_set_ratio</th>\n",
       "    </tr>\n",
       "  </thead>\n",
       "  <tbody>\n",
       "    <tr>\n",
       "      <th>2079998</th>\n",
       "      <td>0</td>\n",
       "      <td>Expensive Junk: This product consists of a pie...</td>\n",
       "      <td>623</td>\n",
       "      <td>101</td>\n",
       "      <td>6.168317</td>\n",
       "      <td>9</td>\n",
       "      <td>5</td>\n",
       "      <td>0</td>\n",
       "      <td>0</td>\n",
       "      <td>0</td>\n",
       "      <td>0</td>\n",
       "    </tr>\n",
       "    <tr>\n",
       "      <th>1443106</th>\n",
       "      <td>0</td>\n",
       "      <td>Toast too dark: Even on the lowest setting, th...</td>\n",
       "      <td>207</td>\n",
       "      <td>39</td>\n",
       "      <td>5.307692</td>\n",
       "      <td>5</td>\n",
       "      <td>10</td>\n",
       "      <td>0</td>\n",
       "      <td>0</td>\n",
       "      <td>0</td>\n",
       "      <td>0</td>\n",
       "    </tr>\n",
       "    <tr>\n",
       "      <th>3463669</th>\n",
       "      <td>1</td>\n",
       "      <td>Excellent imagery...dumbed down story: I enjoy...</td>\n",
       "      <td>410</td>\n",
       "      <td>70</td>\n",
       "      <td>5.857143</td>\n",
       "      <td>9</td>\n",
       "      <td>3</td>\n",
       "      <td>40</td>\n",
       "      <td>50</td>\n",
       "      <td>40</td>\n",
       "      <td>40</td>\n",
       "    </tr>\n",
       "    <tr>\n",
       "      <th>2914699</th>\n",
       "      <td>0</td>\n",
       "      <td>Are we pretending everyone is married?: The au...</td>\n",
       "      <td>382</td>\n",
       "      <td>65</td>\n",
       "      <td>5.876923</td>\n",
       "      <td>3</td>\n",
       "      <td>3</td>\n",
       "      <td>0</td>\n",
       "      <td>0</td>\n",
       "      <td>0</td>\n",
       "      <td>0</td>\n",
       "    </tr>\n",
       "    <tr>\n",
       "      <th>1603231</th>\n",
       "      <td>0</td>\n",
       "      <td>Not worth your time: Might as well just use a ...</td>\n",
       "      <td>124</td>\n",
       "      <td>25</td>\n",
       "      <td>4.960000</td>\n",
       "      <td>3</td>\n",
       "      <td>8</td>\n",
       "      <td>40</td>\n",
       "      <td>50</td>\n",
       "      <td>40</td>\n",
       "      <td>40</td>\n",
       "    </tr>\n",
       "  </tbody>\n",
       "</table>\n",
       "</div>"
      ],
      "text/plain": [
       "         Label                                             Review  char_len  \\\n",
       "2079998      0  Expensive Junk: This product consists of a pie...       623   \n",
       "1443106      0  Toast too dark: Even on the lowest setting, th...       207   \n",
       "3463669      1  Excellent imagery...dumbed down story: I enjoy...       410   \n",
       "2914699      0  Are we pretending everyone is married?: The au...       382   \n",
       "1603231      0  Not worth your time: Might as well just use a ...       124   \n",
       "\n",
       "         word_len  char_word_len_ratio  first_char_len  last_char_len  \\\n",
       "2079998       101             6.168317               9              5   \n",
       "1443106        39             5.307692               5             10   \n",
       "3463669        70             5.857143               9              3   \n",
       "2914699        65             5.876923               3              3   \n",
       "1603231        25             4.960000               3              8   \n",
       "\n",
       "         fuzz_ratio  fuzz_partial_ratio  fuzz_token_sort_ratio  \\\n",
       "2079998           0                   0                      0   \n",
       "1443106           0                   0                      0   \n",
       "3463669          40                  50                     40   \n",
       "2914699           0                   0                      0   \n",
       "1603231          40                  50                     40   \n",
       "\n",
       "         fuzz_token_set_ratio  \n",
       "2079998                     0  \n",
       "1443106                     0  \n",
       "3463669                    40  \n",
       "2914699                     0  \n",
       "1603231                    40  "
      ]
     },
     "execution_count": 42,
     "metadata": {},
     "output_type": "execute_result"
    }
   ],
   "source": [
    "df.head()"
   ]
  },
  {
   "cell_type": "markdown",
   "id": "9cf8ae54-e9c6-411d-a537-a7c304f44fae",
   "metadata": {},
   "source": [
    "### Data analysis"
   ]
  },
  {
   "cell_type": "code",
   "execution_count": 43,
   "id": "2b00e0c8-9281-4961-94b1-ed6f99842686",
   "metadata": {},
   "outputs": [
    {
     "name": "stdout",
     "output_type": "stream",
     "text": [
      "char_len\n"
     ]
    },
    {
     "name": "stderr",
     "output_type": "stream",
     "text": [
      "C:\\Users\\write\\AppData\\Local\\Temp\\ipykernel_6348\\3049779150.py:2: UserWarning: \n",
      "\n",
      "`distplot` is a deprecated function and will be removed in seaborn v0.14.0.\n",
      "\n",
      "Please adapt your code to use either `displot` (a figure-level function with\n",
      "similar flexibility) or `histplot` (an axes-level function for histograms).\n",
      "\n",
      "For a guide to updating your code to use the new functions, please see\n",
      "https://gist.github.com/mwaskom/de44147ed2974457ad6372750bbe5751\n",
      "\n",
      "  sns.distplot(df[df['Label'] == 1]['char_len'], label='Positive')\n",
      "C:\\Users\\write\\AppData\\Local\\Temp\\ipykernel_6348\\3049779150.py:3: UserWarning: \n",
      "\n",
      "`distplot` is a deprecated function and will be removed in seaborn v0.14.0.\n",
      "\n",
      "Please adapt your code to use either `displot` (a figure-level function with\n",
      "similar flexibility) or `histplot` (an axes-level function for histograms).\n",
      "\n",
      "For a guide to updating your code to use the new functions, please see\n",
      "https://gist.github.com/mwaskom/de44147ed2974457ad6372750bbe5751\n",
      "\n",
      "  sns.distplot(df[df['Label'] == 0]['char_len'], label='Negative')\n"
     ]
    },
    {
     "data": {
      "text/plain": [
       "<matplotlib.legend.Legend at 0x1a6199d8430>"
      ]
     },
     "execution_count": 43,
     "metadata": {},
     "output_type": "execute_result"
    },
    {
     "data": {
      "image/png": "[encoded data removed]",
      "text/plain": [
       "<Figure size 640x480 with 1 Axes>"
      ]
     },
     "metadata": {},
     "output_type": "display_data"
    }
   ],
   "source": [
    "print('char_len')\n",
    "sns.distplot(df[df['Label'] == 1]['char_len'], label='Positive')\n",
    "sns.distplot(df[df['Label'] == 0]['char_len'], label='Negative')\n",
    "\n",
    "plt.legend()"
   ]
  },
  {
   "cell_type": "code",
   "execution_count": 44,
   "id": "8a912e8e-92a8-4632-b234-e97dd5a2eead",
   "metadata": {},
   "outputs": [
    {
     "name": "stdout",
     "output_type": "stream",
     "text": [
      "word_len\n"
     ]
    },
    {
     "name": "stderr",
     "output_type": "stream",
     "text": [
      "C:\\Users\\write\\AppData\\Local\\Temp\\ipykernel_6348\\830522520.py:2: UserWarning: \n",
      "\n",
      "`distplot` is a deprecated function and will be removed in seaborn v0.14.0.\n",
      "\n",
      "Please adapt your code to use either `displot` (a figure-level function with\n",
      "similar flexibility) or `histplot` (an axes-level function for histograms).\n",
      "\n",
      "For a guide to updating your code to use the new functions, please see\n",
      "https://gist.github.com/mwaskom/de44147ed2974457ad6372750bbe5751\n",
      "\n",
      "  sns.distplot(df[df['Label'] == 1]['word_len'], label='Positive')\n",
      "C:\\Users\\write\\AppData\\Local\\Temp\\ipykernel_6348\\830522520.py:3: UserWarning: \n",
      "\n",
      "`distplot` is a deprecated function and will be removed in seaborn v0.14.0.\n",
      "\n",
      "Please adapt your code to use either `displot` (a figure-level function with\n",
      "similar flexibility) or `histplot` (an axes-level function for histograms).\n",
      "\n",
      "For a guide to updating your code to use the new functions, please see\n",
      "https://gist.github.com/mwaskom/de44147ed2974457ad6372750bbe5751\n",
      "\n",
      "  sns.distplot(df[df['Label'] == 0]['word_len'], label='Negative')\n"
     ]
    },
    {
     "data": {
      "text/plain": [
       "<matplotlib.legend.Legend at 0x1a610988790>"
      ]
     },
     "execution_count": 44,
     "metadata": {},
     "output_type": "execute_result"
    },
    {
     "data": {
      "image/png": "[encoded data removed]",
      "text/plain": [
       "<Figure size 640x480 with 1 Axes>"
      ]
     },
     "metadata": {},
     "output_type": "display_data"
    }
   ],
   "source": [
    "print('word_len')\n",
    "sns.distplot(df[df['Label'] == 1]['word_len'], label='Positive')\n",
    "sns.distplot(df[df['Label'] == 0]['word_len'], label='Negative')\n",
    "\n",
    "plt.legend()"
   ]
  },
  {
   "cell_type": "code",
   "execution_count": 45,
   "id": "46bdaae3-6c6d-4eac-8c30-3111bde808c0",
   "metadata": {},
   "outputs": [
    {
     "name": "stdout",
     "output_type": "stream",
     "text": [
      "char_word_len_ratio\n"
     ]
    },
    {
     "name": "stderr",
     "output_type": "stream",
     "text": [
      "C:\\Users\\write\\AppData\\Local\\Temp\\ipykernel_6348\\3368765356.py:2: UserWarning: \n",
      "\n",
      "`distplot` is a deprecated function and will be removed in seaborn v0.14.0.\n",
      "\n",
      "Please adapt your code to use either `displot` (a figure-level function with\n",
      "similar flexibility) or `histplot` (an axes-level function for histograms).\n",
      "\n",
      "For a guide to updating your code to use the new functions, please see\n",
      "https://gist.github.com/mwaskom/de44147ed2974457ad6372750bbe5751\n",
      "\n",
      "  sns.distplot(df[df['Label'] == 1]['char_word_len_ratio'], label='Positive')\n",
      "C:\\Users\\write\\AppData\\Local\\Temp\\ipykernel_6348\\3368765356.py:3: UserWarning: \n",
      "\n",
      "`distplot` is a deprecated function and will be removed in seaborn v0.14.0.\n",
      "\n",
      "Please adapt your code to use either `displot` (a figure-level function with\n",
      "similar flexibility) or `histplot` (an axes-level function for histograms).\n",
      "\n",
      "For a guide to updating your code to use the new functions, please see\n",
      "https://gist.github.com/mwaskom/de44147ed2974457ad6372750bbe5751\n",
      "\n",
      "  sns.distplot(df[df['Label'] == 0]['char_word_len_ratio'], label='Negative')\n"
     ]
    },
    {
     "data": {
      "text/plain": [
       "<matplotlib.legend.Legend at 0x1a6199d88e0>"
      ]
     },
     "execution_count": 45,
     "metadata": {},
     "output_type": "execute_result"
    },
    {
     "data": {
      "image/png": "[encoded data removed]",
      "text/plain": [
       "<Figure size 640x480 with 1 Axes>"
      ]
     },
     "metadata": {},
     "output_type": "display_data"
    }
   ],
   "source": [
    "print('char_word_len_ratio')\n",
    "sns.distplot(df[df['Label'] == 1]['char_word_len_ratio'], label='Positive')\n",
    "sns.distplot(df[df['Label'] == 0]['char_word_len_ratio'], label='Negative')\n",
    "\n",
    "plt.legend()"
   ]
  },
  {
   "cell_type": "code",
   "execution_count": 46,
   "id": "f99bca90-20e2-4a28-aea6-1959d36395ed",
   "metadata": {},
   "outputs": [
    {
     "name": "stdout",
     "output_type": "stream",
     "text": [
      "first_char_len\n"
     ]
    },
    {
     "data": {
      "image/png": "[encoded data removed]",
      "text/plain": [
       "<Figure size 640x480 with 1 Axes>"
      ]
     },
     "metadata": {},
     "output_type": "display_data"
    }
   ],
   "source": [
    "print('first_char_len')\n",
    "sns.histplot(df[df['Label'] == 1]['first_char_len'], label='Positive', kde=True, element='poly')\n",
    "sns.histplot(df[df['Label'] == 0]['first_char_len'], label='Negative', kde=True, element='poly')\n",
    "\n",
    "plt.legend()\n",
    "plt.show()"
   ]
  },
  {
   "cell_type": "code",
   "execution_count": 47,
   "id": "bf35d695-0c33-4a67-8ff4-84876abec6b6",
   "metadata": {},
   "outputs": [
    {
     "name": "stdout",
     "output_type": "stream",
     "text": [
      "last_char_len\n"
     ]
    },
    {
     "name": "stderr",
     "output_type": "stream",
     "text": [
      "C:\\Users\\write\\AppData\\Local\\Temp\\ipykernel_6348\\1288512297.py:3: UserWarning: \n",
      "\n",
      "`distplot` is a deprecated function and will be removed in seaborn v0.14.0.\n",
      "\n",
      "Please adapt your code to use either `displot` (a figure-level function with\n",
      "similar flexibility) or `histplot` (an axes-level function for histograms).\n",
      "\n",
      "For a guide to updating your code to use the new functions, please see\n",
      "https://gist.github.com/mwaskom/de44147ed2974457ad6372750bbe5751\n",
      "\n",
      "  sns.distplot(df[df['Label'] == 1]['last_char_len'], label='Positive')\n",
      "C:\\Users\\write\\AppData\\Local\\Temp\\ipykernel_6348\\1288512297.py:4: UserWarning: \n",
      "\n",
      "`distplot` is a deprecated function and will be removed in seaborn v0.14.0.\n",
      "\n",
      "Please adapt your code to use either `displot` (a figure-level function with\n",
      "similar flexibility) or `histplot` (an axes-level function for histograms).\n",
      "\n",
      "For a guide to updating your code to use the new functions, please see\n",
      "https://gist.github.com/mwaskom/de44147ed2974457ad6372750bbe5751\n",
      "\n",
      "  sns.distplot(df[df['Label'] == 0]['last_char_len'], label='Negative')\n"
     ]
    },
    {
     "data": {
      "text/plain": [
       "<matplotlib.legend.Legend at 0x1a6887d13c0>"
      ]
     },
     "execution_count": 47,
     "metadata": {},
     "output_type": "execute_result"
    },
    {
     "data": {
      "image/png": "[encoded data removed]",
      "text/plain": [
       "<Figure size 640x480 with 1 Axes>"
      ]
     },
     "metadata": {},
     "output_type": "display_data"
    }
   ],
   "source": [
    "print('last_char_len')\n",
    "\n",
    "sns.distplot(df[df['Label'] == 1]['last_char_len'], label='Positive')\n",
    "sns.distplot(df[df['Label'] == 0]['last_char_len'], label='Negative')\n",
    "\n",
    "plt.legend()"
   ]
  },
  {
   "cell_type": "code",
   "execution_count": 48,
   "id": "5331d116-aa51-4130-8775-3816f543126e",
   "metadata": {},
   "outputs": [
    {
     "name": "stdout",
     "output_type": "stream",
     "text": [
      "fuzz_ratio\n"
     ]
    },
    {
     "name": "stderr",
     "output_type": "stream",
     "text": [
      "C:\\Users\\write\\AppData\\Local\\Temp\\ipykernel_6348\\871580030.py:3: UserWarning: \n",
      "\n",
      "`distplot` is a deprecated function and will be removed in seaborn v0.14.0.\n",
      "\n",
      "Please adapt your code to use either `displot` (a figure-level function with\n",
      "similar flexibility) or `histplot` (an axes-level function for histograms).\n",
      "\n",
      "For a guide to updating your code to use the new functions, please see\n",
      "https://gist.github.com/mwaskom/de44147ed2974457ad6372750bbe5751\n",
      "\n",
      "  sns.distplot(df[df['Label'] == 1]['fuzz_ratio'], label='Positive')\n",
      "C:\\Users\\write\\AppData\\Local\\Temp\\ipykernel_6348\\871580030.py:4: UserWarning: \n",
      "\n",
      "`distplot` is a deprecated function and will be removed in seaborn v0.14.0.\n",
      "\n",
      "Please adapt your code to use either `displot` (a figure-level function with\n",
      "similar flexibility) or `histplot` (an axes-level function for histograms).\n",
      "\n",
      "For a guide to updating your code to use the new functions, please see\n",
      "https://gist.github.com/mwaskom/de44147ed2974457ad6372750bbe5751\n",
      "\n",
      "  sns.distplot(df[df['Label'] == 0]['fuzz_ratio'], label='Negative')\n"
     ]
    },
    {
     "data": {
      "text/plain": [
       "<matplotlib.legend.Legend at 0x1a6887d3640>"
      ]
     },
     "execution_count": 48,
     "metadata": {},
     "output_type": "execute_result"
    },
    {
     "data": {
      "image/png": "[encoded data removed]",
      "text/plain": [
       "<Figure size 640x480 with 1 Axes>"
      ]
     },
     "metadata": {},
     "output_type": "display_data"
    }
   ],
   "source": [
    "print('fuzz_ratio')\n",
    "\n",
    "sns.distplot(df[df['Label'] == 1]['fuzz_ratio'], label='Positive')\n",
    "sns.distplot(df[df['Label'] == 0]['fuzz_ratio'], label='Negative')\n",
    "\n",
    "plt.legend()"
   ]
  },
  {
   "cell_type": "code",
   "execution_count": 49,
   "id": "8318ef94-85a9-4074-adfa-6ba0c4561a5a",
   "metadata": {},
   "outputs": [
    {
     "name": "stdout",
     "output_type": "stream",
     "text": [
      "fuzz_partial_ratio\n"
     ]
    },
    {
     "name": "stderr",
     "output_type": "stream",
     "text": [
      "C:\\Users\\write\\AppData\\Local\\Temp\\ipykernel_6348\\650349939.py:2: UserWarning: \n",
      "\n",
      "`distplot` is a deprecated function and will be removed in seaborn v0.14.0.\n",
      "\n",
      "Please adapt your code to use either `displot` (a figure-level function with\n",
      "similar flexibility) or `histplot` (an axes-level function for histograms).\n",
      "\n",
      "For a guide to updating your code to use the new functions, please see\n",
      "https://gist.github.com/mwaskom/de44147ed2974457ad6372750bbe5751\n",
      "\n",
      "  sns.distplot(df[df['Label'] == 1]['fuzz_partial_ratio'], label='Positive')\n",
      "C:\\Users\\write\\AppData\\Local\\Temp\\ipykernel_6348\\650349939.py:3: UserWarning: \n",
      "\n",
      "`distplot` is a deprecated function and will be removed in seaborn v0.14.0.\n",
      "\n",
      "Please adapt your code to use either `displot` (a figure-level function with\n",
      "similar flexibility) or `histplot` (an axes-level function for histograms).\n",
      "\n",
      "For a guide to updating your code to use the new functions, please see\n",
      "https://gist.github.com/mwaskom/de44147ed2974457ad6372750bbe5751\n",
      "\n",
      "  sns.distplot(df[df['Label'] == 0]['fuzz_partial_ratio'], label='Negative')\n"
     ]
    },
    {
     "data": {
      "text/plain": [
       "<matplotlib.legend.Legend at 0x1a68f753880>"
      ]
     },
     "execution_count": 49,
     "metadata": {},
     "output_type": "execute_result"
    },
    {
     "data": {
      "image/png": "[encoded data removed]",
      "text/plain": [
       "<Figure size 640x480 with 1 Axes>"
      ]
     },
     "metadata": {},
     "output_type": "display_data"
    }
   ],
   "source": [
    "print('fuzz_partial_ratio')\n",
    "sns.distplot(df[df['Label'] == 1]['fuzz_partial_ratio'], label='Positive')\n",
    "sns.distplot(df[df['Label'] == 0]['fuzz_partial_ratio'], label='Negative')\n",
    "\n",
    "plt.legend()"
   ]
  },
  {
   "cell_type": "code",
   "execution_count": 50,
   "id": "94128370-bbbd-4046-966e-477e18f14ef5",
   "metadata": {},
   "outputs": [
    {
     "name": "stdout",
     "output_type": "stream",
     "text": [
      "fuzz_partial_ratio\n"
     ]
    },
    {
     "name": "stderr",
     "output_type": "stream",
     "text": [
      "C:\\Users\\write\\AppData\\Local\\Temp\\ipykernel_6348\\2452733385.py:2: UserWarning: \n",
      "\n",
      "`distplot` is a deprecated function and will be removed in seaborn v0.14.0.\n",
      "\n",
      "Please adapt your code to use either `displot` (a figure-level function with\n",
      "similar flexibility) or `histplot` (an axes-level function for histograms).\n",
      "\n",
      "For a guide to updating your code to use the new functions, please see\n",
      "https://gist.github.com/mwaskom/de44147ed2974457ad6372750bbe5751\n",
      "\n",
      "  sns.distplot(df[df['Label'] == 1]['fuzz_token_sort_ratio'], label='Positive')\n",
      "C:\\Users\\write\\AppData\\Local\\Temp\\ipykernel_6348\\2452733385.py:3: UserWarning: \n",
      "\n",
      "`distplot` is a deprecated function and will be removed in seaborn v0.14.0.\n",
      "\n",
      "Please adapt your code to use either `displot` (a figure-level function with\n",
      "similar flexibility) or `histplot` (an axes-level function for histograms).\n",
      "\n",
      "For a guide to updating your code to use the new functions, please see\n",
      "https://gist.github.com/mwaskom/de44147ed2974457ad6372750bbe5751\n",
      "\n",
      "  sns.distplot(df[df['Label'] == 0]['fuzz_token_sort_ratio'], label='Negative')\n"
     ]
    },
    {
     "data": {
      "text/plain": [
       "<matplotlib.legend.Legend at 0x1a6887d3310>"
      ]
     },
     "execution_count": 50,
     "metadata": {},
     "output_type": "execute_result"
    },
    {
     "data": {
      "image/png": "[encoded data removed]",
      "text/plain": [
       "<Figure size 640x480 with 1 Axes>"
      ]
     },
     "metadata": {},
     "output_type": "display_data"
    }
   ],
   "source": [
    "print('fuzz_partial_ratio')\n",
    "sns.distplot(df[df['Label'] == 1]['fuzz_token_sort_ratio'], label='Positive')\n",
    "sns.distplot(df[df['Label'] == 0]['fuzz_token_sort_ratio'], label='Negative')\n",
    "\n",
    "plt.legend()"
   ]
  },
  {
   "cell_type": "code",
   "execution_count": 51,
   "id": "b2783414-3d68-465e-9c64-6e1dd268a59f",
   "metadata": {},
   "outputs": [
    {
     "name": "stdout",
     "output_type": "stream",
     "text": [
      "fuzz_partial_ratio\n"
     ]
    },
    {
     "name": "stderr",
     "output_type": "stream",
     "text": [
      "C:\\Users\\write\\AppData\\Local\\Temp\\ipykernel_6348\\3615947629.py:2: UserWarning: \n",
      "\n",
      "`distplot` is a deprecated function and will be removed in seaborn v0.14.0.\n",
      "\n",
      "Please adapt your code to use either `displot` (a figure-level function with\n",
      "similar flexibility) or `histplot` (an axes-level function for histograms).\n",
      "\n",
      "For a guide to updating your code to use the new functions, please see\n",
      "https://gist.github.com/mwaskom/de44147ed2974457ad6372750bbe5751\n",
      "\n",
      "  sns.distplot(df[df['Label'] == 1]['fuzz_token_set_ratio'], label='Positive')\n",
      "C:\\Users\\write\\AppData\\Local\\Temp\\ipykernel_6348\\3615947629.py:3: UserWarning: \n",
      "\n",
      "`distplot` is a deprecated function and will be removed in seaborn v0.14.0.\n",
      "\n",
      "Please adapt your code to use either `displot` (a figure-level function with\n",
      "similar flexibility) or `histplot` (an axes-level function for histograms).\n",
      "\n",
      "For a guide to updating your code to use the new functions, please see\n",
      "https://gist.github.com/mwaskom/de44147ed2974457ad6372750bbe5751\n",
      "\n",
      "  sns.distplot(df[df['Label'] == 0]['fuzz_token_set_ratio'], label='Negative')\n"
     ]
    },
    {
     "data": {
      "text/plain": [
       "<matplotlib.legend.Legend at 0x1a623a9bd00>"
      ]
     },
     "execution_count": 51,
     "metadata": {},
     "output_type": "execute_result"
    },
    {
     "data": {
      "image/png": "[encoded data removed]",
      "text/plain": [
       "<Figure size 640x480 with 1 Axes>"
      ]
     },
     "metadata": {},
     "output_type": "display_data"
    }
   ],
   "source": [
    "print('fuzz_partial_ratio')\n",
    "sns.distplot(df[df['Label'] == 1]['fuzz_token_set_ratio'], label='Positive')\n",
    "sns.distplot(df[df['Label'] == 0]['fuzz_token_set_ratio'], label='Negative')\n",
    "\n",
    "plt.legend()"
   ]
  },
  {
   "cell_type": "code",
   "execution_count": 43,
   "id": "9a61cba2-f1dd-4068-aff8-fdf0dc14536e",
   "metadata": {},
   "outputs": [
    {
     "data": {
      "text/html": [
       "<div>\n",
       "<style scoped>\n",
       "    .dataframe tbody tr th:only-of-type {\n",
       "        vertical-align: middle;\n",
       "    }\n",
       "\n",
       "    .dataframe tbody tr th {\n",
       "        vertical-align: top;\n",
       "    }\n",
       "\n",
       "    .dataframe thead th {\n",
       "        text-align: right;\n",
       "    }\n",
       "</style>\n",
       "<table border=\"1\" class=\"dataframe\">\n",
       "  <thead>\n",
       "    <tr style=\"text-align: right;\">\n",
       "      <th></th>\n",
       "      <th>Label</th>\n",
       "      <th>Review</th>\n",
       "      <th>char_len</th>\n",
       "      <th>word_len</th>\n",
       "      <th>char_word_len_ratio</th>\n",
       "      <th>first_char_len</th>\n",
       "      <th>last_char_len</th>\n",
       "      <th>fuzz_ratio</th>\n",
       "      <th>fuzz_partial_ratio</th>\n",
       "      <th>fuzz_token_sort_ratio</th>\n",
       "      <th>fuzz_token_set_ratio</th>\n",
       "    </tr>\n",
       "  </thead>\n",
       "  <tbody>\n",
       "    <tr>\n",
       "      <th>2079998</th>\n",
       "      <td>0</td>\n",
       "      <td>Expensive Junk: This product consists of a pie...</td>\n",
       "      <td>623</td>\n",
       "      <td>101</td>\n",
       "      <td>6.168317</td>\n",
       "      <td>9</td>\n",
       "      <td>5</td>\n",
       "      <td>0</td>\n",
       "      <td>0</td>\n",
       "      <td>0</td>\n",
       "      <td>0</td>\n",
       "    </tr>\n",
       "    <tr>\n",
       "      <th>1443106</th>\n",
       "      <td>0</td>\n",
       "      <td>Toast too dark: Even on the lowest setting, th...</td>\n",
       "      <td>207</td>\n",
       "      <td>39</td>\n",
       "      <td>5.307692</td>\n",
       "      <td>5</td>\n",
       "      <td>10</td>\n",
       "      <td>0</td>\n",
       "      <td>0</td>\n",
       "      <td>0</td>\n",
       "      <td>0</td>\n",
       "    </tr>\n",
       "    <tr>\n",
       "      <th>3463669</th>\n",
       "      <td>1</td>\n",
       "      <td>Excellent imagery...dumbed down story: I enjoy...</td>\n",
       "      <td>410</td>\n",
       "      <td>70</td>\n",
       "      <td>5.857143</td>\n",
       "      <td>9</td>\n",
       "      <td>3</td>\n",
       "      <td>40</td>\n",
       "      <td>50</td>\n",
       "      <td>40</td>\n",
       "      <td>40</td>\n",
       "    </tr>\n",
       "    <tr>\n",
       "      <th>2914699</th>\n",
       "      <td>0</td>\n",
       "      <td>Are we pretending everyone is married?: The au...</td>\n",
       "      <td>382</td>\n",
       "      <td>65</td>\n",
       "      <td>5.876923</td>\n",
       "      <td>3</td>\n",
       "      <td>3</td>\n",
       "      <td>0</td>\n",
       "      <td>0</td>\n",
       "      <td>0</td>\n",
       "      <td>0</td>\n",
       "    </tr>\n",
       "    <tr>\n",
       "      <th>1603231</th>\n",
       "      <td>0</td>\n",
       "      <td>Not worth your time: Might as well just use a ...</td>\n",
       "      <td>124</td>\n",
       "      <td>25</td>\n",
       "      <td>4.960000</td>\n",
       "      <td>3</td>\n",
       "      <td>8</td>\n",
       "      <td>40</td>\n",
       "      <td>50</td>\n",
       "      <td>40</td>\n",
       "      <td>40</td>\n",
       "    </tr>\n",
       "  </tbody>\n",
       "</table>\n",
       "</div>"
      ],
      "text/plain": [
       "         Label                                             Review  char_len  \\\n",
       "2079998      0  Expensive Junk: This product consists of a pie...       623   \n",
       "1443106      0  Toast too dark: Even on the lowest setting, th...       207   \n",
       "3463669      1  Excellent imagery...dumbed down story: I enjoy...       410   \n",
       "2914699      0  Are we pretending everyone is married?: The au...       382   \n",
       "1603231      0  Not worth your time: Might as well just use a ...       124   \n",
       "\n",
       "         word_len  char_word_len_ratio  first_char_len  last_char_len  \\\n",
       "2079998       101             6.168317               9              5   \n",
       "1443106        39             5.307692               5             10   \n",
       "3463669        70             5.857143               9              3   \n",
       "2914699        65             5.876923               3              3   \n",
       "1603231        25             4.960000               3              8   \n",
       "\n",
       "         fuzz_ratio  fuzz_partial_ratio  fuzz_token_sort_ratio  \\\n",
       "2079998           0                   0                      0   \n",
       "1443106           0                   0                      0   \n",
       "3463669          40                  50                     40   \n",
       "2914699           0                   0                      0   \n",
       "1603231          40                  50                     40   \n",
       "\n",
       "         fuzz_token_set_ratio  \n",
       "2079998                     0  \n",
       "1443106                     0  \n",
       "3463669                    40  \n",
       "2914699                     0  \n",
       "1603231                    40  "
      ]
     },
     "execution_count": 43,
     "metadata": {},
     "output_type": "execute_result"
    }
   ],
   "source": [
    "df.head()"
   ]
  },
  {
   "cell_type": "markdown",
   "id": "f1c24e13-fd5b-4b37-9aa5-ecf8e140558d",
   "metadata": {},
   "source": [
    "### bag of words"
   ]
  },
  {
   "cell_type": "code",
   "execution_count": 44,
   "id": "6a6b764f-0248-43bc-a912-fe034b0b176f",
   "metadata": {},
   "outputs": [],
   "source": [
    "tfidf = TfidfVectorizer(max_features=5000)"
   ]
  },
  {
   "cell_type": "code",
   "execution_count": 45,
   "id": "4ca7b57b-a9d6-4a6a-bcee-a08e23da8533",
   "metadata": {},
   "outputs": [],
   "source": [
    "reviews = df['Review'].tolist()"
   ]
  },
  {
   "cell_type": "code",
   "execution_count": 46,
   "id": "b519aa8b-8538-4b90-98ef-28d0168b619e",
   "metadata": {},
   "outputs": [
    {
     "data": {
      "text/plain": [
       "120000"
      ]
     },
     "execution_count": 46,
     "metadata": {},
     "output_type": "execute_result"
    }
   ],
   "source": [
    "len(reviews)"
   ]
  },
  {
   "cell_type": "code",
   "execution_count": 47,
   "id": "049b17a6-658b-4150-a8f2-5b3cc8e4a6ef",
   "metadata": {},
   "outputs": [],
   "source": [
    "reviews_transform = tfidf.fit_transform(reviews).toarray()"
   ]
  },
  {
   "cell_type": "code",
   "execution_count": 48,
   "id": "b6838308-f81a-4ace-9d57-53df4e465c6b",
   "metadata": {},
   "outputs": [
    {
     "data": {
      "text/plain": [
       "array([[0., 0., 0., ..., 0., 0., 0.],\n",
       "       [0., 0., 0., ..., 0., 0., 0.],\n",
       "       [0., 0., 0., ..., 0., 0., 0.],\n",
       "       ...,\n",
       "       [0., 0., 0., ..., 0., 0., 0.],\n",
       "       [0., 0., 0., ..., 0., 0., 0.],\n",
       "       [0., 0., 0., ..., 0., 0., 0.]])"
      ]
     },
     "execution_count": 48,
     "metadata": {},
     "output_type": "execute_result"
    }
   ],
   "source": [
    "reviews_transform"
   ]
  },
  {
   "cell_type": "code",
   "execution_count": 49,
   "id": "e3813696-6ba9-4e5e-be12-8ca203e662b7",
   "metadata": {},
   "outputs": [
    {
     "data": {
      "text/plain": [
       "(120000, 5000)"
      ]
     },
     "execution_count": 49,
     "metadata": {},
     "output_type": "execute_result"
    }
   ],
   "source": [
    "reviews_transform.shape"
   ]
  },
  {
   "cell_type": "code",
   "execution_count": 50,
   "id": "7b9bc778-e72b-44db-98ae-c29ee7301a8f",
   "metadata": {},
   "outputs": [],
   "source": [
    "review_temp_df = pd.DataFrame(reviews_transform)"
   ]
  },
  {
   "cell_type": "code",
   "execution_count": 51,
   "id": "32a63c1f-41cf-4b8a-b3bb-a5f2ed6ec56c",
   "metadata": {},
   "outputs": [
    {
     "data": {
      "text/html": [
       "<div>\n",
       "<style scoped>\n",
       "    .dataframe tbody tr th:only-of-type {\n",
       "        vertical-align: middle;\n",
       "    }\n",
       "\n",
       "    .dataframe tbody tr th {\n",
       "        vertical-align: top;\n",
       "    }\n",
       "\n",
       "    .dataframe thead th {\n",
       "        text-align: right;\n",
       "    }\n",
       "</style>\n",
       "<table border=\"1\" class=\"dataframe\">\n",
       "  <thead>\n",
       "    <tr style=\"text-align: right;\">\n",
       "      <th></th>\n",
       "      <th>0</th>\n",
       "      <th>1</th>\n",
       "      <th>2</th>\n",
       "      <th>3</th>\n",
       "      <th>4</th>\n",
       "      <th>5</th>\n",
       "      <th>6</th>\n",
       "      <th>7</th>\n",
       "      <th>8</th>\n",
       "      <th>9</th>\n",
       "      <th>...</th>\n",
       "      <th>4990</th>\n",
       "      <th>4991</th>\n",
       "      <th>4992</th>\n",
       "      <th>4993</th>\n",
       "      <th>4994</th>\n",
       "      <th>4995</th>\n",
       "      <th>4996</th>\n",
       "      <th>4997</th>\n",
       "      <th>4998</th>\n",
       "      <th>4999</th>\n",
       "    </tr>\n",
       "  </thead>\n",
       "  <tbody>\n",
       "    <tr>\n",
       "      <th>0</th>\n",
       "      <td>0.0</td>\n",
       "      <td>0.0</td>\n",
       "      <td>0.0</td>\n",
       "      <td>0.0</td>\n",
       "      <td>0.0</td>\n",
       "      <td>0.0</td>\n",
       "      <td>0.0</td>\n",
       "      <td>0.0</td>\n",
       "      <td>0.0</td>\n",
       "      <td>0.0</td>\n",
       "      <td>...</td>\n",
       "      <td>0.0</td>\n",
       "      <td>0.0</td>\n",
       "      <td>0.0</td>\n",
       "      <td>0.0</td>\n",
       "      <td>0.0</td>\n",
       "      <td>0.0</td>\n",
       "      <td>0.0</td>\n",
       "      <td>0.0</td>\n",
       "      <td>0.0</td>\n",
       "      <td>0.0</td>\n",
       "    </tr>\n",
       "    <tr>\n",
       "      <th>1</th>\n",
       "      <td>0.0</td>\n",
       "      <td>0.0</td>\n",
       "      <td>0.0</td>\n",
       "      <td>0.0</td>\n",
       "      <td>0.0</td>\n",
       "      <td>0.0</td>\n",
       "      <td>0.0</td>\n",
       "      <td>0.0</td>\n",
       "      <td>0.0</td>\n",
       "      <td>0.0</td>\n",
       "      <td>...</td>\n",
       "      <td>0.0</td>\n",
       "      <td>0.0</td>\n",
       "      <td>0.0</td>\n",
       "      <td>0.0</td>\n",
       "      <td>0.0</td>\n",
       "      <td>0.0</td>\n",
       "      <td>0.0</td>\n",
       "      <td>0.0</td>\n",
       "      <td>0.0</td>\n",
       "      <td>0.0</td>\n",
       "    </tr>\n",
       "    <tr>\n",
       "      <th>2</th>\n",
       "      <td>0.0</td>\n",
       "      <td>0.0</td>\n",
       "      <td>0.0</td>\n",
       "      <td>0.0</td>\n",
       "      <td>0.0</td>\n",
       "      <td>0.0</td>\n",
       "      <td>0.0</td>\n",
       "      <td>0.0</td>\n",
       "      <td>0.0</td>\n",
       "      <td>0.0</td>\n",
       "      <td>...</td>\n",
       "      <td>0.0</td>\n",
       "      <td>0.0</td>\n",
       "      <td>0.0</td>\n",
       "      <td>0.0</td>\n",
       "      <td>0.0</td>\n",
       "      <td>0.0</td>\n",
       "      <td>0.0</td>\n",
       "      <td>0.0</td>\n",
       "      <td>0.0</td>\n",
       "      <td>0.0</td>\n",
       "    </tr>\n",
       "    <tr>\n",
       "      <th>3</th>\n",
       "      <td>0.0</td>\n",
       "      <td>0.0</td>\n",
       "      <td>0.0</td>\n",
       "      <td>0.0</td>\n",
       "      <td>0.0</td>\n",
       "      <td>0.0</td>\n",
       "      <td>0.0</td>\n",
       "      <td>0.0</td>\n",
       "      <td>0.0</td>\n",
       "      <td>0.0</td>\n",
       "      <td>...</td>\n",
       "      <td>0.0</td>\n",
       "      <td>0.0</td>\n",
       "      <td>0.0</td>\n",
       "      <td>0.0</td>\n",
       "      <td>0.0</td>\n",
       "      <td>0.0</td>\n",
       "      <td>0.0</td>\n",
       "      <td>0.0</td>\n",
       "      <td>0.0</td>\n",
       "      <td>0.0</td>\n",
       "    </tr>\n",
       "    <tr>\n",
       "      <th>4</th>\n",
       "      <td>0.0</td>\n",
       "      <td>0.0</td>\n",
       "      <td>0.0</td>\n",
       "      <td>0.0</td>\n",
       "      <td>0.0</td>\n",
       "      <td>0.0</td>\n",
       "      <td>0.0</td>\n",
       "      <td>0.0</td>\n",
       "      <td>0.0</td>\n",
       "      <td>0.0</td>\n",
       "      <td>...</td>\n",
       "      <td>0.0</td>\n",
       "      <td>0.0</td>\n",
       "      <td>0.0</td>\n",
       "      <td>0.0</td>\n",
       "      <td>0.0</td>\n",
       "      <td>0.0</td>\n",
       "      <td>0.0</td>\n",
       "      <td>0.0</td>\n",
       "      <td>0.0</td>\n",
       "      <td>0.0</td>\n",
       "    </tr>\n",
       "  </tbody>\n",
       "</table>\n",
       "<p>5 rows × 5000 columns</p>\n",
       "</div>"
      ],
      "text/plain": [
       "   0     1     2     3     4     5     6     7     8     9     ...  4990  \\\n",
       "0   0.0   0.0   0.0   0.0   0.0   0.0   0.0   0.0   0.0   0.0  ...   0.0   \n",
       "1   0.0   0.0   0.0   0.0   0.0   0.0   0.0   0.0   0.0   0.0  ...   0.0   \n",
       "2   0.0   0.0   0.0   0.0   0.0   0.0   0.0   0.0   0.0   0.0  ...   0.0   \n",
       "3   0.0   0.0   0.0   0.0   0.0   0.0   0.0   0.0   0.0   0.0  ...   0.0   \n",
       "4   0.0   0.0   0.0   0.0   0.0   0.0   0.0   0.0   0.0   0.0  ...   0.0   \n",
       "\n",
       "   4991  4992  4993  4994  4995  4996  4997  4998  4999  \n",
       "0   0.0   0.0   0.0   0.0   0.0   0.0   0.0   0.0   0.0  \n",
       "1   0.0   0.0   0.0   0.0   0.0   0.0   0.0   0.0   0.0  \n",
       "2   0.0   0.0   0.0   0.0   0.0   0.0   0.0   0.0   0.0  \n",
       "3   0.0   0.0   0.0   0.0   0.0   0.0   0.0   0.0   0.0  \n",
       "4   0.0   0.0   0.0   0.0   0.0   0.0   0.0   0.0   0.0  \n",
       "\n",
       "[5 rows x 5000 columns]"
      ]
     },
     "execution_count": 51,
     "metadata": {},
     "output_type": "execute_result"
    }
   ],
   "source": [
    "review_temp_df.head()"
   ]
  },
  {
   "cell_type": "code",
   "execution_count": 52,
   "id": "0567f347-4089-4842-9300-d0a251ca262c",
   "metadata": {},
   "outputs": [
    {
     "data": {
      "text/plain": [
       "(120000, 5000)"
      ]
     },
     "execution_count": 52,
     "metadata": {},
     "output_type": "execute_result"
    }
   ],
   "source": [
    "review_temp_df.shape"
   ]
  },
  {
   "cell_type": "code",
   "execution_count": 53,
   "id": "12409fcd-862e-4310-a7b1-2078cb2b1914",
   "metadata": {},
   "outputs": [
    {
     "data": {
      "text/html": [
       "<div>\n",
       "<style scoped>\n",
       "    .dataframe tbody tr th:only-of-type {\n",
       "        vertical-align: middle;\n",
       "    }\n",
       "\n",
       "    .dataframe tbody tr th {\n",
       "        vertical-align: top;\n",
       "    }\n",
       "\n",
       "    .dataframe thead th {\n",
       "        text-align: right;\n",
       "    }\n",
       "</style>\n",
       "<table border=\"1\" class=\"dataframe\">\n",
       "  <thead>\n",
       "    <tr style=\"text-align: right;\">\n",
       "      <th></th>\n",
       "      <th>Label</th>\n",
       "      <th>Review</th>\n",
       "      <th>char_len</th>\n",
       "      <th>word_len</th>\n",
       "      <th>char_word_len_ratio</th>\n",
       "      <th>first_char_len</th>\n",
       "      <th>last_char_len</th>\n",
       "      <th>fuzz_ratio</th>\n",
       "      <th>fuzz_partial_ratio</th>\n",
       "      <th>fuzz_token_sort_ratio</th>\n",
       "      <th>fuzz_token_set_ratio</th>\n",
       "    </tr>\n",
       "  </thead>\n",
       "  <tbody>\n",
       "    <tr>\n",
       "      <th>2079998</th>\n",
       "      <td>0</td>\n",
       "      <td>Expensive Junk: This product consists of a pie...</td>\n",
       "      <td>623</td>\n",
       "      <td>101</td>\n",
       "      <td>6.168317</td>\n",
       "      <td>9</td>\n",
       "      <td>5</td>\n",
       "      <td>0</td>\n",
       "      <td>0</td>\n",
       "      <td>0</td>\n",
       "      <td>0</td>\n",
       "    </tr>\n",
       "    <tr>\n",
       "      <th>1443106</th>\n",
       "      <td>0</td>\n",
       "      <td>Toast too dark: Even on the lowest setting, th...</td>\n",
       "      <td>207</td>\n",
       "      <td>39</td>\n",
       "      <td>5.307692</td>\n",
       "      <td>5</td>\n",
       "      <td>10</td>\n",
       "      <td>0</td>\n",
       "      <td>0</td>\n",
       "      <td>0</td>\n",
       "      <td>0</td>\n",
       "    </tr>\n",
       "    <tr>\n",
       "      <th>3463669</th>\n",
       "      <td>1</td>\n",
       "      <td>Excellent imagery...dumbed down story: I enjoy...</td>\n",
       "      <td>410</td>\n",
       "      <td>70</td>\n",
       "      <td>5.857143</td>\n",
       "      <td>9</td>\n",
       "      <td>3</td>\n",
       "      <td>40</td>\n",
       "      <td>50</td>\n",
       "      <td>40</td>\n",
       "      <td>40</td>\n",
       "    </tr>\n",
       "    <tr>\n",
       "      <th>2914699</th>\n",
       "      <td>0</td>\n",
       "      <td>Are we pretending everyone is married?: The au...</td>\n",
       "      <td>382</td>\n",
       "      <td>65</td>\n",
       "      <td>5.876923</td>\n",
       "      <td>3</td>\n",
       "      <td>3</td>\n",
       "      <td>0</td>\n",
       "      <td>0</td>\n",
       "      <td>0</td>\n",
       "      <td>0</td>\n",
       "    </tr>\n",
       "    <tr>\n",
       "      <th>1603231</th>\n",
       "      <td>0</td>\n",
       "      <td>Not worth your time: Might as well just use a ...</td>\n",
       "      <td>124</td>\n",
       "      <td>25</td>\n",
       "      <td>4.960000</td>\n",
       "      <td>3</td>\n",
       "      <td>8</td>\n",
       "      <td>40</td>\n",
       "      <td>50</td>\n",
       "      <td>40</td>\n",
       "      <td>40</td>\n",
       "    </tr>\n",
       "  </tbody>\n",
       "</table>\n",
       "</div>"
      ],
      "text/plain": [
       "         Label                                             Review  char_len  \\\n",
       "2079998      0  Expensive Junk: This product consists of a pie...       623   \n",
       "1443106      0  Toast too dark: Even on the lowest setting, th...       207   \n",
       "3463669      1  Excellent imagery...dumbed down story: I enjoy...       410   \n",
       "2914699      0  Are we pretending everyone is married?: The au...       382   \n",
       "1603231      0  Not worth your time: Might as well just use a ...       124   \n",
       "\n",
       "         word_len  char_word_len_ratio  first_char_len  last_char_len  \\\n",
       "2079998       101             6.168317               9              5   \n",
       "1443106        39             5.307692               5             10   \n",
       "3463669        70             5.857143               9              3   \n",
       "2914699        65             5.876923               3              3   \n",
       "1603231        25             4.960000               3              8   \n",
       "\n",
       "         fuzz_ratio  fuzz_partial_ratio  fuzz_token_sort_ratio  \\\n",
       "2079998           0                   0                      0   \n",
       "1443106           0                   0                      0   \n",
       "3463669          40                  50                     40   \n",
       "2914699           0                   0                      0   \n",
       "1603231          40                  50                     40   \n",
       "\n",
       "         fuzz_token_set_ratio  \n",
       "2079998                     0  \n",
       "1443106                     0  \n",
       "3463669                    40  \n",
       "2914699                     0  \n",
       "1603231                    40  "
      ]
     },
     "execution_count": 53,
     "metadata": {},
     "output_type": "execute_result"
    }
   ],
   "source": [
    "df.head()"
   ]
  },
  {
   "cell_type": "code",
   "execution_count": 54,
   "id": "048002ba-b031-4ad5-afc7-bbf2d0fe2b11",
   "metadata": {},
   "outputs": [],
   "source": [
    "other_temp_df = df.drop(columns=['Review'])"
   ]
  },
  {
   "cell_type": "code",
   "execution_count": 55,
   "id": "f861cd29-4120-4089-a8c9-dc02ec941a11",
   "metadata": {},
   "outputs": [
    {
     "data": {
      "text/html": [
       "<div>\n",
       "<style scoped>\n",
       "    .dataframe tbody tr th:only-of-type {\n",
       "        vertical-align: middle;\n",
       "    }\n",
       "\n",
       "    .dataframe tbody tr th {\n",
       "        vertical-align: top;\n",
       "    }\n",
       "\n",
       "    .dataframe thead th {\n",
       "        text-align: right;\n",
       "    }\n",
       "</style>\n",
       "<table border=\"1\" class=\"dataframe\">\n",
       "  <thead>\n",
       "    <tr style=\"text-align: right;\">\n",
       "      <th></th>\n",
       "      <th>Label</th>\n",
       "      <th>char_len</th>\n",
       "      <th>word_len</th>\n",
       "      <th>char_word_len_ratio</th>\n",
       "      <th>first_char_len</th>\n",
       "      <th>last_char_len</th>\n",
       "      <th>fuzz_ratio</th>\n",
       "      <th>fuzz_partial_ratio</th>\n",
       "      <th>fuzz_token_sort_ratio</th>\n",
       "      <th>fuzz_token_set_ratio</th>\n",
       "    </tr>\n",
       "  </thead>\n",
       "  <tbody>\n",
       "    <tr>\n",
       "      <th>2079998</th>\n",
       "      <td>0</td>\n",
       "      <td>623</td>\n",
       "      <td>101</td>\n",
       "      <td>6.168317</td>\n",
       "      <td>9</td>\n",
       "      <td>5</td>\n",
       "      <td>0</td>\n",
       "      <td>0</td>\n",
       "      <td>0</td>\n",
       "      <td>0</td>\n",
       "    </tr>\n",
       "    <tr>\n",
       "      <th>1443106</th>\n",
       "      <td>0</td>\n",
       "      <td>207</td>\n",
       "      <td>39</td>\n",
       "      <td>5.307692</td>\n",
       "      <td>5</td>\n",
       "      <td>10</td>\n",
       "      <td>0</td>\n",
       "      <td>0</td>\n",
       "      <td>0</td>\n",
       "      <td>0</td>\n",
       "    </tr>\n",
       "    <tr>\n",
       "      <th>3463669</th>\n",
       "      <td>1</td>\n",
       "      <td>410</td>\n",
       "      <td>70</td>\n",
       "      <td>5.857143</td>\n",
       "      <td>9</td>\n",
       "      <td>3</td>\n",
       "      <td>40</td>\n",
       "      <td>50</td>\n",
       "      <td>40</td>\n",
       "      <td>40</td>\n",
       "    </tr>\n",
       "    <tr>\n",
       "      <th>2914699</th>\n",
       "      <td>0</td>\n",
       "      <td>382</td>\n",
       "      <td>65</td>\n",
       "      <td>5.876923</td>\n",
       "      <td>3</td>\n",
       "      <td>3</td>\n",
       "      <td>0</td>\n",
       "      <td>0</td>\n",
       "      <td>0</td>\n",
       "      <td>0</td>\n",
       "    </tr>\n",
       "    <tr>\n",
       "      <th>1603231</th>\n",
       "      <td>0</td>\n",
       "      <td>124</td>\n",
       "      <td>25</td>\n",
       "      <td>4.960000</td>\n",
       "      <td>3</td>\n",
       "      <td>8</td>\n",
       "      <td>40</td>\n",
       "      <td>50</td>\n",
       "      <td>40</td>\n",
       "      <td>40</td>\n",
       "    </tr>\n",
       "  </tbody>\n",
       "</table>\n",
       "</div>"
      ],
      "text/plain": [
       "         Label  char_len  word_len  char_word_len_ratio  first_char_len  \\\n",
       "2079998      0       623       101             6.168317               9   \n",
       "1443106      0       207        39             5.307692               5   \n",
       "3463669      1       410        70             5.857143               9   \n",
       "2914699      0       382        65             5.876923               3   \n",
       "1603231      0       124        25             4.960000               3   \n",
       "\n",
       "         last_char_len  fuzz_ratio  fuzz_partial_ratio  fuzz_token_sort_ratio  \\\n",
       "2079998              5           0                   0                      0   \n",
       "1443106             10           0                   0                      0   \n",
       "3463669              3          40                  50                     40   \n",
       "2914699              3           0                   0                      0   \n",
       "1603231              8          40                  50                     40   \n",
       "\n",
       "         fuzz_token_set_ratio  \n",
       "2079998                     0  \n",
       "1443106                     0  \n",
       "3463669                    40  \n",
       "2914699                     0  \n",
       "1603231                    40  "
      ]
     },
     "execution_count": 55,
     "metadata": {},
     "output_type": "execute_result"
    }
   ],
   "source": [
    "other_temp_df.head()"
   ]
  },
  {
   "cell_type": "code",
   "execution_count": 56,
   "id": "5b47099b-b8b7-405e-9a58-562ebb152bcb",
   "metadata": {},
   "outputs": [
    {
     "data": {
      "text/plain": [
       "pandas.core.frame.DataFrame"
      ]
     },
     "execution_count": 56,
     "metadata": {},
     "output_type": "execute_result"
    }
   ],
   "source": [
    "type(other_temp_df)"
   ]
  },
  {
   "cell_type": "code",
   "execution_count": 57,
   "id": "ac0f812e-e87d-4c4e-86ff-2cb3ce2249b1",
   "metadata": {},
   "outputs": [
    {
     "data": {
      "text/plain": [
       "(120000, 10)"
      ]
     },
     "execution_count": 57,
     "metadata": {},
     "output_type": "execute_result"
    }
   ],
   "source": [
    "other_temp_df.shape"
   ]
  },
  {
   "cell_type": "code",
   "execution_count": 58,
   "id": "4724f6b3-1181-404c-a570-b78e51c6682a",
   "metadata": {},
   "outputs": [],
   "source": [
    "other_temp_df = other_temp_df.reset_index(drop=True)\n",
    "review_temp_df = review_temp_df.reset_index(drop=True)"
   ]
  },
  {
   "cell_type": "code",
   "execution_count": 59,
   "id": "cb8cd4cc-bba3-4be0-8e0f-0164739858d5",
   "metadata": {},
   "outputs": [],
   "source": [
    "final_df = pd.concat([other_temp_df, review_temp_df], axis=1)"
   ]
  },
  {
   "cell_type": "code",
   "execution_count": 60,
   "id": "e66c8f81-a733-4da8-a715-92437f4a547d",
   "metadata": {},
   "outputs": [
    {
     "data": {
      "text/html": [
       "<div>\n",
       "<style scoped>\n",
       "    .dataframe tbody tr th:only-of-type {\n",
       "        vertical-align: middle;\n",
       "    }\n",
       "\n",
       "    .dataframe tbody tr th {\n",
       "        vertical-align: top;\n",
       "    }\n",
       "\n",
       "    .dataframe thead th {\n",
       "        text-align: right;\n",
       "    }\n",
       "</style>\n",
       "<table border=\"1\" class=\"dataframe\">\n",
       "  <thead>\n",
       "    <tr style=\"text-align: right;\">\n",
       "      <th></th>\n",
       "      <th>Label</th>\n",
       "      <th>char_len</th>\n",
       "      <th>word_len</th>\n",
       "      <th>char_word_len_ratio</th>\n",
       "      <th>first_char_len</th>\n",
       "      <th>last_char_len</th>\n",
       "      <th>fuzz_ratio</th>\n",
       "      <th>fuzz_partial_ratio</th>\n",
       "      <th>fuzz_token_sort_ratio</th>\n",
       "      <th>fuzz_token_set_ratio</th>\n",
       "      <th>...</th>\n",
       "      <th>4990</th>\n",
       "      <th>4991</th>\n",
       "      <th>4992</th>\n",
       "      <th>4993</th>\n",
       "      <th>4994</th>\n",
       "      <th>4995</th>\n",
       "      <th>4996</th>\n",
       "      <th>4997</th>\n",
       "      <th>4998</th>\n",
       "      <th>4999</th>\n",
       "    </tr>\n",
       "  </thead>\n",
       "  <tbody>\n",
       "    <tr>\n",
       "      <th>0</th>\n",
       "      <td>0</td>\n",
       "      <td>623</td>\n",
       "      <td>101</td>\n",
       "      <td>6.168317</td>\n",
       "      <td>9</td>\n",
       "      <td>5</td>\n",
       "      <td>0</td>\n",
       "      <td>0</td>\n",
       "      <td>0</td>\n",
       "      <td>0</td>\n",
       "      <td>...</td>\n",
       "      <td>0.0</td>\n",
       "      <td>0.0</td>\n",
       "      <td>0.0</td>\n",
       "      <td>0.0</td>\n",
       "      <td>0.0</td>\n",
       "      <td>0.0</td>\n",
       "      <td>0.0</td>\n",
       "      <td>0.0</td>\n",
       "      <td>0.0</td>\n",
       "      <td>0.0</td>\n",
       "    </tr>\n",
       "    <tr>\n",
       "      <th>1</th>\n",
       "      <td>0</td>\n",
       "      <td>207</td>\n",
       "      <td>39</td>\n",
       "      <td>5.307692</td>\n",
       "      <td>5</td>\n",
       "      <td>10</td>\n",
       "      <td>0</td>\n",
       "      <td>0</td>\n",
       "      <td>0</td>\n",
       "      <td>0</td>\n",
       "      <td>...</td>\n",
       "      <td>0.0</td>\n",
       "      <td>0.0</td>\n",
       "      <td>0.0</td>\n",
       "      <td>0.0</td>\n",
       "      <td>0.0</td>\n",
       "      <td>0.0</td>\n",
       "      <td>0.0</td>\n",
       "      <td>0.0</td>\n",
       "      <td>0.0</td>\n",
       "      <td>0.0</td>\n",
       "    </tr>\n",
       "    <tr>\n",
       "      <th>2</th>\n",
       "      <td>1</td>\n",
       "      <td>410</td>\n",
       "      <td>70</td>\n",
       "      <td>5.857143</td>\n",
       "      <td>9</td>\n",
       "      <td>3</td>\n",
       "      <td>40</td>\n",
       "      <td>50</td>\n",
       "      <td>40</td>\n",
       "      <td>40</td>\n",
       "      <td>...</td>\n",
       "      <td>0.0</td>\n",
       "      <td>0.0</td>\n",
       "      <td>0.0</td>\n",
       "      <td>0.0</td>\n",
       "      <td>0.0</td>\n",
       "      <td>0.0</td>\n",
       "      <td>0.0</td>\n",
       "      <td>0.0</td>\n",
       "      <td>0.0</td>\n",
       "      <td>0.0</td>\n",
       "    </tr>\n",
       "    <tr>\n",
       "      <th>3</th>\n",
       "      <td>0</td>\n",
       "      <td>382</td>\n",
       "      <td>65</td>\n",
       "      <td>5.876923</td>\n",
       "      <td>3</td>\n",
       "      <td>3</td>\n",
       "      <td>0</td>\n",
       "      <td>0</td>\n",
       "      <td>0</td>\n",
       "      <td>0</td>\n",
       "      <td>...</td>\n",
       "      <td>0.0</td>\n",
       "      <td>0.0</td>\n",
       "      <td>0.0</td>\n",
       "      <td>0.0</td>\n",
       "      <td>0.0</td>\n",
       "      <td>0.0</td>\n",
       "      <td>0.0</td>\n",
       "      <td>0.0</td>\n",
       "      <td>0.0</td>\n",
       "      <td>0.0</td>\n",
       "    </tr>\n",
       "    <tr>\n",
       "      <th>4</th>\n",
       "      <td>0</td>\n",
       "      <td>124</td>\n",
       "      <td>25</td>\n",
       "      <td>4.960000</td>\n",
       "      <td>3</td>\n",
       "      <td>8</td>\n",
       "      <td>40</td>\n",
       "      <td>50</td>\n",
       "      <td>40</td>\n",
       "      <td>40</td>\n",
       "      <td>...</td>\n",
       "      <td>0.0</td>\n",
       "      <td>0.0</td>\n",
       "      <td>0.0</td>\n",
       "      <td>0.0</td>\n",
       "      <td>0.0</td>\n",
       "      <td>0.0</td>\n",
       "      <td>0.0</td>\n",
       "      <td>0.0</td>\n",
       "      <td>0.0</td>\n",
       "      <td>0.0</td>\n",
       "    </tr>\n",
       "    <tr>\n",
       "      <th>...</th>\n",
       "      <td>...</td>\n",
       "      <td>...</td>\n",
       "      <td>...</td>\n",
       "      <td>...</td>\n",
       "      <td>...</td>\n",
       "      <td>...</td>\n",
       "      <td>...</td>\n",
       "      <td>...</td>\n",
       "      <td>...</td>\n",
       "      <td>...</td>\n",
       "      <td>...</td>\n",
       "      <td>...</td>\n",
       "      <td>...</td>\n",
       "      <td>...</td>\n",
       "      <td>...</td>\n",
       "      <td>...</td>\n",
       "      <td>...</td>\n",
       "      <td>...</td>\n",
       "      <td>...</td>\n",
       "      <td>...</td>\n",
       "      <td>...</td>\n",
       "    </tr>\n",
       "    <tr>\n",
       "      <th>119995</th>\n",
       "      <td>0</td>\n",
       "      <td>167</td>\n",
       "      <td>24</td>\n",
       "      <td>6.958333</td>\n",
       "      <td>7</td>\n",
       "      <td>5</td>\n",
       "      <td>0</td>\n",
       "      <td>0</td>\n",
       "      <td>0</td>\n",
       "      <td>0</td>\n",
       "      <td>...</td>\n",
       "      <td>0.0</td>\n",
       "      <td>0.0</td>\n",
       "      <td>0.0</td>\n",
       "      <td>0.0</td>\n",
       "      <td>0.0</td>\n",
       "      <td>0.0</td>\n",
       "      <td>0.0</td>\n",
       "      <td>0.0</td>\n",
       "      <td>0.0</td>\n",
       "      <td>0.0</td>\n",
       "    </tr>\n",
       "    <tr>\n",
       "      <th>119996</th>\n",
       "      <td>1</td>\n",
       "      <td>745</td>\n",
       "      <td>141</td>\n",
       "      <td>5.283688</td>\n",
       "      <td>3</td>\n",
       "      <td>6</td>\n",
       "      <td>33</td>\n",
       "      <td>33</td>\n",
       "      <td>33</td>\n",
       "      <td>33</td>\n",
       "      <td>...</td>\n",
       "      <td>0.0</td>\n",
       "      <td>0.0</td>\n",
       "      <td>0.0</td>\n",
       "      <td>0.0</td>\n",
       "      <td>0.0</td>\n",
       "      <td>0.0</td>\n",
       "      <td>0.0</td>\n",
       "      <td>0.0</td>\n",
       "      <td>0.0</td>\n",
       "      <td>0.0</td>\n",
       "    </tr>\n",
       "    <tr>\n",
       "      <th>119997</th>\n",
       "      <td>0</td>\n",
       "      <td>816</td>\n",
       "      <td>167</td>\n",
       "      <td>4.886228</td>\n",
       "      <td>5</td>\n",
       "      <td>5</td>\n",
       "      <td>67</td>\n",
       "      <td>67</td>\n",
       "      <td>67</td>\n",
       "      <td>67</td>\n",
       "      <td>...</td>\n",
       "      <td>0.0</td>\n",
       "      <td>0.0</td>\n",
       "      <td>0.0</td>\n",
       "      <td>0.0</td>\n",
       "      <td>0.0</td>\n",
       "      <td>0.0</td>\n",
       "      <td>0.0</td>\n",
       "      <td>0.0</td>\n",
       "      <td>0.0</td>\n",
       "      <td>0.0</td>\n",
       "    </tr>\n",
       "    <tr>\n",
       "      <th>119998</th>\n",
       "      <td>1</td>\n",
       "      <td>391</td>\n",
       "      <td>70</td>\n",
       "      <td>5.585714</td>\n",
       "      <td>7</td>\n",
       "      <td>3</td>\n",
       "      <td>0</td>\n",
       "      <td>0</td>\n",
       "      <td>0</td>\n",
       "      <td>0</td>\n",
       "      <td>...</td>\n",
       "      <td>0.0</td>\n",
       "      <td>0.0</td>\n",
       "      <td>0.0</td>\n",
       "      <td>0.0</td>\n",
       "      <td>0.0</td>\n",
       "      <td>0.0</td>\n",
       "      <td>0.0</td>\n",
       "      <td>0.0</td>\n",
       "      <td>0.0</td>\n",
       "      <td>0.0</td>\n",
       "    </tr>\n",
       "    <tr>\n",
       "      <th>119999</th>\n",
       "      <td>0</td>\n",
       "      <td>716</td>\n",
       "      <td>125</td>\n",
       "      <td>5.728000</td>\n",
       "      <td>4</td>\n",
       "      <td>11</td>\n",
       "      <td>33</td>\n",
       "      <td>33</td>\n",
       "      <td>33</td>\n",
       "      <td>33</td>\n",
       "      <td>...</td>\n",
       "      <td>0.0</td>\n",
       "      <td>0.0</td>\n",
       "      <td>0.0</td>\n",
       "      <td>0.0</td>\n",
       "      <td>0.0</td>\n",
       "      <td>0.0</td>\n",
       "      <td>0.0</td>\n",
       "      <td>0.0</td>\n",
       "      <td>0.0</td>\n",
       "      <td>0.0</td>\n",
       "    </tr>\n",
       "  </tbody>\n",
       "</table>\n",
       "<p>120000 rows × 5010 columns</p>\n",
       "</div>"
      ],
      "text/plain": [
       "        Label  char_len  word_len  char_word_len_ratio  first_char_len  \\\n",
       "0           0       623       101             6.168317               9   \n",
       "1           0       207        39             5.307692               5   \n",
       "2           1       410        70             5.857143               9   \n",
       "3           0       382        65             5.876923               3   \n",
       "4           0       124        25             4.960000               3   \n",
       "...       ...       ...       ...                  ...             ...   \n",
       "119995      0       167        24             6.958333               7   \n",
       "119996      1       745       141             5.283688               3   \n",
       "119997      0       816       167             4.886228               5   \n",
       "119998      1       391        70             5.585714               7   \n",
       "119999      0       716       125             5.728000               4   \n",
       "\n",
       "        last_char_len  fuzz_ratio  fuzz_partial_ratio  fuzz_token_sort_ratio  \\\n",
       "0                   5           0                   0                      0   \n",
       "1                  10           0                   0                      0   \n",
       "2                   3          40                  50                     40   \n",
       "3                   3           0                   0                      0   \n",
       "4                   8          40                  50                     40   \n",
       "...               ...         ...                 ...                    ...   \n",
       "119995              5           0                   0                      0   \n",
       "119996              6          33                  33                     33   \n",
       "119997              5          67                  67                     67   \n",
       "119998              3           0                   0                      0   \n",
       "119999             11          33                  33                     33   \n",
       "\n",
       "        fuzz_token_set_ratio  ...  4990  4991  4992  4993  4994  4995  4996  \\\n",
       "0                          0  ...   0.0   0.0   0.0   0.0   0.0   0.0   0.0   \n",
       "1                          0  ...   0.0   0.0   0.0   0.0   0.0   0.0   0.0   \n",
       "2                         40  ...   0.0   0.0   0.0   0.0   0.0   0.0   0.0   \n",
       "3                          0  ...   0.0   0.0   0.0   0.0   0.0   0.0   0.0   \n",
       "4                         40  ...   0.0   0.0   0.0   0.0   0.0   0.0   0.0   \n",
       "...                      ...  ...   ...   ...   ...   ...   ...   ...   ...   \n",
       "119995                     0  ...   0.0   0.0   0.0   0.0   0.0   0.0   0.0   \n",
       "119996                    33  ...   0.0   0.0   0.0   0.0   0.0   0.0   0.0   \n",
       "119997                    67  ...   0.0   0.0   0.0   0.0   0.0   0.0   0.0   \n",
       "119998                     0  ...   0.0   0.0   0.0   0.0   0.0   0.0   0.0   \n",
       "119999                    33  ...   0.0   0.0   0.0   0.0   0.0   0.0   0.0   \n",
       "\n",
       "        4997  4998  4999  \n",
       "0        0.0   0.0   0.0  \n",
       "1        0.0   0.0   0.0  \n",
       "2        0.0   0.0   0.0  \n",
       "3        0.0   0.0   0.0  \n",
       "4        0.0   0.0   0.0  \n",
       "...      ...   ...   ...  \n",
       "119995   0.0   0.0   0.0  \n",
       "119996   0.0   0.0   0.0  \n",
       "119997   0.0   0.0   0.0  \n",
       "119998   0.0   0.0   0.0  \n",
       "119999   0.0   0.0   0.0  \n",
       "\n",
       "[120000 rows x 5010 columns]"
      ]
     },
     "execution_count": 60,
     "metadata": {},
     "output_type": "execute_result"
    }
   ],
   "source": [
    "final_df"
   ]
  },
  {
   "cell_type": "markdown",
   "id": "81adc500-09e4-4602-9484-d41adf162d7c",
   "metadata": {},
   "source": [
    "### train test split"
   ]
  },
  {
   "cell_type": "code",
   "execution_count": 61,
   "id": "79094585-c4f4-4b40-9162-262a2c2868cc",
   "metadata": {},
   "outputs": [
    {
     "data": {
      "text/plain": [
       "(120000, 5010)"
      ]
     },
     "execution_count": 61,
     "metadata": {},
     "output_type": "execute_result"
    }
   ],
   "source": [
    "final_df.shape"
   ]
  },
  {
   "cell_type": "code",
   "execution_count": 62,
   "id": "a2f34a9a-e841-4f80-a0f4-b050ae231292",
   "metadata": {},
   "outputs": [],
   "source": [
    "final_df = final_df.sample(100000, random_state=42)"
   ]
  },
  {
   "cell_type": "code",
   "execution_count": 63,
   "id": "f443eacf-75f0-4177-bd71-305a41c67d1e",
   "metadata": {},
   "outputs": [],
   "source": [
    "X = final_df.drop(columns=['Label'])\n",
    "y = final_df['Label']"
   ]
  },
  {
   "cell_type": "code",
   "execution_count": 64,
   "id": "f6531603-94cf-4913-821d-4078b54b0984",
   "metadata": {},
   "outputs": [
    {
     "data": {
      "text/plain": [
       "Index([<class 'str'>, <class 'str'>, <class 'str'>, <class 'str'>,\n",
       "       <class 'str'>, <class 'str'>, <class 'str'>, <class 'str'>,\n",
       "       <class 'str'>, <class 'int'>,\n",
       "       ...\n",
       "       <class 'int'>, <class 'int'>, <class 'int'>, <class 'int'>,\n",
       "       <class 'int'>, <class 'int'>, <class 'int'>, <class 'int'>,\n",
       "       <class 'int'>, <class 'int'>],\n",
       "      dtype='object', length=5009)"
      ]
     },
     "execution_count": 64,
     "metadata": {},
     "output_type": "execute_result"
    }
   ],
   "source": [
    "X.columns.map(type)"
   ]
  },
  {
   "cell_type": "code",
   "execution_count": 65,
   "id": "a987ea37-a8b7-4b4c-9a18-0d8e1bd9891c",
   "metadata": {},
   "outputs": [],
   "source": [
    "X.columns = X.columns.astype(str)"
   ]
  },
  {
   "cell_type": "code",
   "execution_count": 66,
   "id": "0af01703-cf6c-4565-935a-25a6d9ac07c8",
   "metadata": {},
   "outputs": [
    {
     "data": {
      "text/plain": [
       "Index([<class 'str'>, <class 'str'>, <class 'str'>, <class 'str'>,\n",
       "       <class 'str'>, <class 'str'>, <class 'str'>, <class 'str'>,\n",
       "       <class 'str'>, <class 'str'>,\n",
       "       ...\n",
       "       <class 'str'>, <class 'str'>, <class 'str'>, <class 'str'>,\n",
       "       <class 'str'>, <class 'str'>, <class 'str'>, <class 'str'>,\n",
       "       <class 'str'>, <class 'str'>],\n",
       "      dtype='object', length=5009)"
      ]
     },
     "execution_count": 66,
     "metadata": {},
     "output_type": "execute_result"
    }
   ],
   "source": [
    "X.columns.map(type)"
   ]
  },
  {
   "cell_type": "code",
   "execution_count": 67,
   "id": "36836331-d3f1-4cef-86e0-9d04382c2b7b",
   "metadata": {},
   "outputs": [
    {
     "data": {
      "text/plain": [
       "dtype('int64')"
      ]
     },
     "execution_count": 67,
     "metadata": {},
     "output_type": "execute_result"
    }
   ],
   "source": [
    "y.dtypes"
   ]
  },
  {
   "cell_type": "code",
   "execution_count": 68,
   "id": "fdf5ad2a-7e00-4193-8e36-8b3037adca83",
   "metadata": {},
   "outputs": [
    {
     "data": {
      "text/plain": [
       "(100000,)"
      ]
     },
     "execution_count": 68,
     "metadata": {},
     "output_type": "execute_result"
    }
   ],
   "source": [
    "y.shape"
   ]
  },
  {
   "cell_type": "code",
   "execution_count": 69,
   "id": "31397e74-2c2a-443f-a44e-12dfb004dfc2",
   "metadata": {},
   "outputs": [
    {
     "data": {
      "text/plain": [
       "(100000, 5009)"
      ]
     },
     "execution_count": 69,
     "metadata": {},
     "output_type": "execute_result"
    }
   ],
   "source": [
    "X.shape"
   ]
  },
  {
   "cell_type": "code",
   "execution_count": 70,
   "id": "e9f92ded-8514-4fe7-b266-f1bdcfe757fb",
   "metadata": {},
   "outputs": [],
   "source": [
    "X_train, X_test, y_train, y_test = train_test_split(X, y, test_size=0.2, random_state=42)"
   ]
  },
  {
   "cell_type": "code",
   "execution_count": 71,
   "id": "ee91c64f-795c-407c-b309-6591ec8edd2a",
   "metadata": {},
   "outputs": [
    {
     "data": {
      "text/plain": [
       "(80000, 5009)"
      ]
     },
     "execution_count": 71,
     "metadata": {},
     "output_type": "execute_result"
    }
   ],
   "source": [
    "X_train.shape"
   ]
  },
  {
   "cell_type": "code",
   "execution_count": 72,
   "id": "2bd87655-38bc-4faa-8e7f-7545d742c632",
   "metadata": {},
   "outputs": [
    {
     "data": {
      "text/html": [
       "<div>\n",
       "<style scoped>\n",
       "    .dataframe tbody tr th:only-of-type {\n",
       "        vertical-align: middle;\n",
       "    }\n",
       "\n",
       "    .dataframe tbody tr th {\n",
       "        vertical-align: top;\n",
       "    }\n",
       "\n",
       "    .dataframe thead th {\n",
       "        text-align: right;\n",
       "    }\n",
       "</style>\n",
       "<table border=\"1\" class=\"dataframe\">\n",
       "  <thead>\n",
       "    <tr style=\"text-align: right;\">\n",
       "      <th></th>\n",
       "      <th>char_len</th>\n",
       "      <th>word_len</th>\n",
       "      <th>char_word_len_ratio</th>\n",
       "      <th>first_char_len</th>\n",
       "      <th>last_char_len</th>\n",
       "      <th>fuzz_ratio</th>\n",
       "      <th>fuzz_partial_ratio</th>\n",
       "      <th>fuzz_token_sort_ratio</th>\n",
       "      <th>fuzz_token_set_ratio</th>\n",
       "      <th>0</th>\n",
       "      <th>...</th>\n",
       "      <th>4990</th>\n",
       "      <th>4991</th>\n",
       "      <th>4992</th>\n",
       "      <th>4993</th>\n",
       "      <th>4994</th>\n",
       "      <th>4995</th>\n",
       "      <th>4996</th>\n",
       "      <th>4997</th>\n",
       "      <th>4998</th>\n",
       "      <th>4999</th>\n",
       "    </tr>\n",
       "  </thead>\n",
       "  <tbody>\n",
       "    <tr>\n",
       "      <th>31407</th>\n",
       "      <td>327</td>\n",
       "      <td>63</td>\n",
       "      <td>5.190476</td>\n",
       "      <td>5</td>\n",
       "      <td>6</td>\n",
       "      <td>40</td>\n",
       "      <td>0</td>\n",
       "      <td>40</td>\n",
       "      <td>40</td>\n",
       "      <td>0.0</td>\n",
       "      <td>...</td>\n",
       "      <td>0.0</td>\n",
       "      <td>0.0</td>\n",
       "      <td>0.0</td>\n",
       "      <td>0.000000</td>\n",
       "      <td>0.0</td>\n",
       "      <td>0.0</td>\n",
       "      <td>0.0</td>\n",
       "      <td>0.0</td>\n",
       "      <td>0.0</td>\n",
       "      <td>0.0</td>\n",
       "    </tr>\n",
       "    <tr>\n",
       "      <th>87309</th>\n",
       "      <td>165</td>\n",
       "      <td>26</td>\n",
       "      <td>6.346154</td>\n",
       "      <td>5</td>\n",
       "      <td>13</td>\n",
       "      <td>40</td>\n",
       "      <td>50</td>\n",
       "      <td>40</td>\n",
       "      <td>40</td>\n",
       "      <td>0.0</td>\n",
       "      <td>...</td>\n",
       "      <td>0.0</td>\n",
       "      <td>0.0</td>\n",
       "      <td>0.0</td>\n",
       "      <td>0.000000</td>\n",
       "      <td>0.0</td>\n",
       "      <td>0.0</td>\n",
       "      <td>0.0</td>\n",
       "      <td>0.0</td>\n",
       "      <td>0.0</td>\n",
       "      <td>0.0</td>\n",
       "    </tr>\n",
       "    <tr>\n",
       "      <th>31618</th>\n",
       "      <td>187</td>\n",
       "      <td>37</td>\n",
       "      <td>5.054054</td>\n",
       "      <td>5</td>\n",
       "      <td>12</td>\n",
       "      <td>40</td>\n",
       "      <td>50</td>\n",
       "      <td>40</td>\n",
       "      <td>40</td>\n",
       "      <td>0.0</td>\n",
       "      <td>...</td>\n",
       "      <td>0.0</td>\n",
       "      <td>0.0</td>\n",
       "      <td>0.0</td>\n",
       "      <td>0.286391</td>\n",
       "      <td>0.0</td>\n",
       "      <td>0.0</td>\n",
       "      <td>0.0</td>\n",
       "      <td>0.0</td>\n",
       "      <td>0.0</td>\n",
       "      <td>0.0</td>\n",
       "    </tr>\n",
       "    <tr>\n",
       "      <th>23190</th>\n",
       "      <td>326</td>\n",
       "      <td>58</td>\n",
       "      <td>5.620690</td>\n",
       "      <td>1</td>\n",
       "      <td>5</td>\n",
       "      <td>0</td>\n",
       "      <td>0</td>\n",
       "      <td>0</td>\n",
       "      <td>0</td>\n",
       "      <td>0.0</td>\n",
       "      <td>...</td>\n",
       "      <td>0.0</td>\n",
       "      <td>0.0</td>\n",
       "      <td>0.0</td>\n",
       "      <td>0.000000</td>\n",
       "      <td>0.0</td>\n",
       "      <td>0.0</td>\n",
       "      <td>0.0</td>\n",
       "      <td>0.0</td>\n",
       "      <td>0.0</td>\n",
       "      <td>0.0</td>\n",
       "    </tr>\n",
       "    <tr>\n",
       "      <th>112391</th>\n",
       "      <td>151</td>\n",
       "      <td>27</td>\n",
       "      <td>5.592593</td>\n",
       "      <td>4</td>\n",
       "      <td>11</td>\n",
       "      <td>0</td>\n",
       "      <td>0</td>\n",
       "      <td>0</td>\n",
       "      <td>0</td>\n",
       "      <td>0.0</td>\n",
       "      <td>...</td>\n",
       "      <td>0.0</td>\n",
       "      <td>0.0</td>\n",
       "      <td>0.0</td>\n",
       "      <td>0.000000</td>\n",
       "      <td>0.0</td>\n",
       "      <td>0.0</td>\n",
       "      <td>0.0</td>\n",
       "      <td>0.0</td>\n",
       "      <td>0.0</td>\n",
       "      <td>0.0</td>\n",
       "    </tr>\n",
       "  </tbody>\n",
       "</table>\n",
       "<p>5 rows × 5009 columns</p>\n",
       "</div>"
      ],
      "text/plain": [
       "        char_len  word_len  char_word_len_ratio  first_char_len  \\\n",
       "31407        327        63             5.190476               5   \n",
       "87309        165        26             6.346154               5   \n",
       "31618        187        37             5.054054               5   \n",
       "23190        326        58             5.620690               1   \n",
       "112391       151        27             5.592593               4   \n",
       "\n",
       "        last_char_len  fuzz_ratio  fuzz_partial_ratio  fuzz_token_sort_ratio  \\\n",
       "31407               6          40                   0                     40   \n",
       "87309              13          40                  50                     40   \n",
       "31618              12          40                  50                     40   \n",
       "23190               5           0                   0                      0   \n",
       "112391             11           0                   0                      0   \n",
       "\n",
       "        fuzz_token_set_ratio    0  ...  4990  4991  4992      4993  4994  \\\n",
       "31407                     40  0.0  ...   0.0   0.0   0.0  0.000000   0.0   \n",
       "87309                     40  0.0  ...   0.0   0.0   0.0  0.000000   0.0   \n",
       "31618                     40  0.0  ...   0.0   0.0   0.0  0.286391   0.0   \n",
       "23190                      0  0.0  ...   0.0   0.0   0.0  0.000000   0.0   \n",
       "112391                     0  0.0  ...   0.0   0.0   0.0  0.000000   0.0   \n",
       "\n",
       "        4995  4996  4997  4998  4999  \n",
       "31407    0.0   0.0   0.0   0.0   0.0  \n",
       "87309    0.0   0.0   0.0   0.0   0.0  \n",
       "31618    0.0   0.0   0.0   0.0   0.0  \n",
       "23190    0.0   0.0   0.0   0.0   0.0  \n",
       "112391   0.0   0.0   0.0   0.0   0.0  \n",
       "\n",
       "[5 rows x 5009 columns]"
      ]
     },
     "execution_count": 72,
     "metadata": {},
     "output_type": "execute_result"
    }
   ],
   "source": [
    "X_train.head()"
   ]
  },
  {
   "cell_type": "code",
   "execution_count": 73,
   "id": "64944c5b-72a2-4b34-9e1e-14ee06827d48",
   "metadata": {},
   "outputs": [
    {
     "data": {
      "text/plain": [
       "(20000, 5009)"
      ]
     },
     "execution_count": 73,
     "metadata": {},
     "output_type": "execute_result"
    }
   ],
   "source": [
    "X_test.shape"
   ]
  },
  {
   "cell_type": "code",
   "execution_count": 74,
   "id": "6a51a1b9-731d-41c4-889a-f75bd559e254",
   "metadata": {},
   "outputs": [
    {
     "data": {
      "text/html": [
       "<div>\n",
       "<style scoped>\n",
       "    .dataframe tbody tr th:only-of-type {\n",
       "        vertical-align: middle;\n",
       "    }\n",
       "\n",
       "    .dataframe tbody tr th {\n",
       "        vertical-align: top;\n",
       "    }\n",
       "\n",
       "    .dataframe thead th {\n",
       "        text-align: right;\n",
       "    }\n",
       "</style>\n",
       "<table border=\"1\" class=\"dataframe\">\n",
       "  <thead>\n",
       "    <tr style=\"text-align: right;\">\n",
       "      <th></th>\n",
       "      <th>char_len</th>\n",
       "      <th>word_len</th>\n",
       "      <th>char_word_len_ratio</th>\n",
       "      <th>first_char_len</th>\n",
       "      <th>last_char_len</th>\n",
       "      <th>fuzz_ratio</th>\n",
       "      <th>fuzz_partial_ratio</th>\n",
       "      <th>fuzz_token_sort_ratio</th>\n",
       "      <th>fuzz_token_set_ratio</th>\n",
       "      <th>0</th>\n",
       "      <th>...</th>\n",
       "      <th>4990</th>\n",
       "      <th>4991</th>\n",
       "      <th>4992</th>\n",
       "      <th>4993</th>\n",
       "      <th>4994</th>\n",
       "      <th>4995</th>\n",
       "      <th>4996</th>\n",
       "      <th>4997</th>\n",
       "      <th>4998</th>\n",
       "      <th>4999</th>\n",
       "    </tr>\n",
       "  </thead>\n",
       "  <tbody>\n",
       "    <tr>\n",
       "      <th>65913</th>\n",
       "      <td>458</td>\n",
       "      <td>87</td>\n",
       "      <td>5.264368</td>\n",
       "      <td>2</td>\n",
       "      <td>7</td>\n",
       "      <td>40</td>\n",
       "      <td>67</td>\n",
       "      <td>40</td>\n",
       "      <td>40</td>\n",
       "      <td>0.0</td>\n",
       "      <td>...</td>\n",
       "      <td>0.0</td>\n",
       "      <td>0.0</td>\n",
       "      <td>0.0</td>\n",
       "      <td>0.0</td>\n",
       "      <td>0.0</td>\n",
       "      <td>0.0</td>\n",
       "      <td>0.0</td>\n",
       "      <td>0.0</td>\n",
       "      <td>0.0</td>\n",
       "      <td>0.0</td>\n",
       "    </tr>\n",
       "    <tr>\n",
       "      <th>27055</th>\n",
       "      <td>216</td>\n",
       "      <td>39</td>\n",
       "      <td>5.538462</td>\n",
       "      <td>4</td>\n",
       "      <td>8</td>\n",
       "      <td>0</td>\n",
       "      <td>0</td>\n",
       "      <td>0</td>\n",
       "      <td>0</td>\n",
       "      <td>0.0</td>\n",
       "      <td>...</td>\n",
       "      <td>0.0</td>\n",
       "      <td>0.0</td>\n",
       "      <td>0.0</td>\n",
       "      <td>0.0</td>\n",
       "      <td>0.0</td>\n",
       "      <td>0.0</td>\n",
       "      <td>0.0</td>\n",
       "      <td>0.0</td>\n",
       "      <td>0.0</td>\n",
       "      <td>0.0</td>\n",
       "    </tr>\n",
       "    <tr>\n",
       "      <th>7628</th>\n",
       "      <td>883</td>\n",
       "      <td>163</td>\n",
       "      <td>5.417178</td>\n",
       "      <td>5</td>\n",
       "      <td>7</td>\n",
       "      <td>33</td>\n",
       "      <td>33</td>\n",
       "      <td>33</td>\n",
       "      <td>33</td>\n",
       "      <td>0.0</td>\n",
       "      <td>...</td>\n",
       "      <td>0.0</td>\n",
       "      <td>0.0</td>\n",
       "      <td>0.0</td>\n",
       "      <td>0.0</td>\n",
       "      <td>0.0</td>\n",
       "      <td>0.0</td>\n",
       "      <td>0.0</td>\n",
       "      <td>0.0</td>\n",
       "      <td>0.0</td>\n",
       "      <td>0.0</td>\n",
       "    </tr>\n",
       "    <tr>\n",
       "      <th>82763</th>\n",
       "      <td>566</td>\n",
       "      <td>113</td>\n",
       "      <td>5.008850</td>\n",
       "      <td>3</td>\n",
       "      <td>10</td>\n",
       "      <td>0</td>\n",
       "      <td>0</td>\n",
       "      <td>0</td>\n",
       "      <td>0</td>\n",
       "      <td>0.0</td>\n",
       "      <td>...</td>\n",
       "      <td>0.0</td>\n",
       "      <td>0.0</td>\n",
       "      <td>0.0</td>\n",
       "      <td>0.0</td>\n",
       "      <td>0.0</td>\n",
       "      <td>0.0</td>\n",
       "      <td>0.0</td>\n",
       "      <td>0.0</td>\n",
       "      <td>0.0</td>\n",
       "      <td>0.0</td>\n",
       "    </tr>\n",
       "    <tr>\n",
       "      <th>50559</th>\n",
       "      <td>314</td>\n",
       "      <td>57</td>\n",
       "      <td>5.508772</td>\n",
       "      <td>9</td>\n",
       "      <td>6</td>\n",
       "      <td>0</td>\n",
       "      <td>0</td>\n",
       "      <td>0</td>\n",
       "      <td>0</td>\n",
       "      <td>0.0</td>\n",
       "      <td>...</td>\n",
       "      <td>0.0</td>\n",
       "      <td>0.0</td>\n",
       "      <td>0.0</td>\n",
       "      <td>0.0</td>\n",
       "      <td>0.0</td>\n",
       "      <td>0.0</td>\n",
       "      <td>0.0</td>\n",
       "      <td>0.0</td>\n",
       "      <td>0.0</td>\n",
       "      <td>0.0</td>\n",
       "    </tr>\n",
       "  </tbody>\n",
       "</table>\n",
       "<p>5 rows × 5009 columns</p>\n",
       "</div>"
      ],
      "text/plain": [
       "       char_len  word_len  char_word_len_ratio  first_char_len  last_char_len  \\\n",
       "65913       458        87             5.264368               2              7   \n",
       "27055       216        39             5.538462               4              8   \n",
       "7628        883       163             5.417178               5              7   \n",
       "82763       566       113             5.008850               3             10   \n",
       "50559       314        57             5.508772               9              6   \n",
       "\n",
       "       fuzz_ratio  fuzz_partial_ratio  fuzz_token_sort_ratio  \\\n",
       "65913          40                  67                     40   \n",
       "27055           0                   0                      0   \n",
       "7628           33                  33                     33   \n",
       "82763           0                   0                      0   \n",
       "50559           0                   0                      0   \n",
       "\n",
       "       fuzz_token_set_ratio    0  ...  4990  4991  4992  4993  4994  4995  \\\n",
       "65913                    40  0.0  ...   0.0   0.0   0.0   0.0   0.0   0.0   \n",
       "27055                     0  0.0  ...   0.0   0.0   0.0   0.0   0.0   0.0   \n",
       "7628                     33  0.0  ...   0.0   0.0   0.0   0.0   0.0   0.0   \n",
       "82763                     0  0.0  ...   0.0   0.0   0.0   0.0   0.0   0.0   \n",
       "50559                     0  0.0  ...   0.0   0.0   0.0   0.0   0.0   0.0   \n",
       "\n",
       "       4996  4997  4998  4999  \n",
       "65913   0.0   0.0   0.0   0.0  \n",
       "27055   0.0   0.0   0.0   0.0  \n",
       "7628    0.0   0.0   0.0   0.0  \n",
       "82763   0.0   0.0   0.0   0.0  \n",
       "50559   0.0   0.0   0.0   0.0  \n",
       "\n",
       "[5 rows x 5009 columns]"
      ]
     },
     "execution_count": 74,
     "metadata": {},
     "output_type": "execute_result"
    }
   ],
   "source": [
    "X_test.head()"
   ]
  },
  {
   "cell_type": "markdown",
   "id": "672586db-39ec-4faa-852c-12cbd2fa62c0",
   "metadata": {},
   "source": [
    "## Training the model"
   ]
  },
  {
   "cell_type": "code",
   "execution_count": 75,
   "id": "25303e87-6825-4615-b766-c895ed2b5754",
   "metadata": {},
   "outputs": [
    {
     "data": {
      "text/html": [
       "<div>\n",
       "<style scoped>\n",
       "    .dataframe tbody tr th:only-of-type {\n",
       "        vertical-align: middle;\n",
       "    }\n",
       "\n",
       "    .dataframe tbody tr th {\n",
       "        vertical-align: top;\n",
       "    }\n",
       "\n",
       "    .dataframe thead th {\n",
       "        text-align: right;\n",
       "    }\n",
       "</style>\n",
       "<table border=\"1\" class=\"dataframe\">\n",
       "  <thead>\n",
       "    <tr style=\"text-align: right;\">\n",
       "      <th></th>\n",
       "      <th>char_len</th>\n",
       "      <th>word_len</th>\n",
       "      <th>char_word_len_ratio</th>\n",
       "      <th>first_char_len</th>\n",
       "      <th>last_char_len</th>\n",
       "      <th>fuzz_ratio</th>\n",
       "      <th>fuzz_partial_ratio</th>\n",
       "      <th>fuzz_token_sort_ratio</th>\n",
       "      <th>fuzz_token_set_ratio</th>\n",
       "      <th>0</th>\n",
       "      <th>...</th>\n",
       "      <th>4990</th>\n",
       "      <th>4991</th>\n",
       "      <th>4992</th>\n",
       "      <th>4993</th>\n",
       "      <th>4994</th>\n",
       "      <th>4995</th>\n",
       "      <th>4996</th>\n",
       "      <th>4997</th>\n",
       "      <th>4998</th>\n",
       "      <th>4999</th>\n",
       "    </tr>\n",
       "  </thead>\n",
       "  <tbody>\n",
       "    <tr>\n",
       "      <th>31407</th>\n",
       "      <td>327</td>\n",
       "      <td>63</td>\n",
       "      <td>5.190476</td>\n",
       "      <td>5</td>\n",
       "      <td>6</td>\n",
       "      <td>40</td>\n",
       "      <td>0</td>\n",
       "      <td>40</td>\n",
       "      <td>40</td>\n",
       "      <td>0.0</td>\n",
       "      <td>...</td>\n",
       "      <td>0.0</td>\n",
       "      <td>0.0</td>\n",
       "      <td>0.0</td>\n",
       "      <td>0.000000</td>\n",
       "      <td>0.0</td>\n",
       "      <td>0.0</td>\n",
       "      <td>0.0</td>\n",
       "      <td>0.0</td>\n",
       "      <td>0.0</td>\n",
       "      <td>0.0</td>\n",
       "    </tr>\n",
       "    <tr>\n",
       "      <th>87309</th>\n",
       "      <td>165</td>\n",
       "      <td>26</td>\n",
       "      <td>6.346154</td>\n",
       "      <td>5</td>\n",
       "      <td>13</td>\n",
       "      <td>40</td>\n",
       "      <td>50</td>\n",
       "      <td>40</td>\n",
       "      <td>40</td>\n",
       "      <td>0.0</td>\n",
       "      <td>...</td>\n",
       "      <td>0.0</td>\n",
       "      <td>0.0</td>\n",
       "      <td>0.0</td>\n",
       "      <td>0.000000</td>\n",
       "      <td>0.0</td>\n",
       "      <td>0.0</td>\n",
       "      <td>0.0</td>\n",
       "      <td>0.0</td>\n",
       "      <td>0.0</td>\n",
       "      <td>0.0</td>\n",
       "    </tr>\n",
       "    <tr>\n",
       "      <th>31618</th>\n",
       "      <td>187</td>\n",
       "      <td>37</td>\n",
       "      <td>5.054054</td>\n",
       "      <td>5</td>\n",
       "      <td>12</td>\n",
       "      <td>40</td>\n",
       "      <td>50</td>\n",
       "      <td>40</td>\n",
       "      <td>40</td>\n",
       "      <td>0.0</td>\n",
       "      <td>...</td>\n",
       "      <td>0.0</td>\n",
       "      <td>0.0</td>\n",
       "      <td>0.0</td>\n",
       "      <td>0.286391</td>\n",
       "      <td>0.0</td>\n",
       "      <td>0.0</td>\n",
       "      <td>0.0</td>\n",
       "      <td>0.0</td>\n",
       "      <td>0.0</td>\n",
       "      <td>0.0</td>\n",
       "    </tr>\n",
       "    <tr>\n",
       "      <th>23190</th>\n",
       "      <td>326</td>\n",
       "      <td>58</td>\n",
       "      <td>5.620690</td>\n",
       "      <td>1</td>\n",
       "      <td>5</td>\n",
       "      <td>0</td>\n",
       "      <td>0</td>\n",
       "      <td>0</td>\n",
       "      <td>0</td>\n",
       "      <td>0.0</td>\n",
       "      <td>...</td>\n",
       "      <td>0.0</td>\n",
       "      <td>0.0</td>\n",
       "      <td>0.0</td>\n",
       "      <td>0.000000</td>\n",
       "      <td>0.0</td>\n",
       "      <td>0.0</td>\n",
       "      <td>0.0</td>\n",
       "      <td>0.0</td>\n",
       "      <td>0.0</td>\n",
       "      <td>0.0</td>\n",
       "    </tr>\n",
       "    <tr>\n",
       "      <th>112391</th>\n",
       "      <td>151</td>\n",
       "      <td>27</td>\n",
       "      <td>5.592593</td>\n",
       "      <td>4</td>\n",
       "      <td>11</td>\n",
       "      <td>0</td>\n",
       "      <td>0</td>\n",
       "      <td>0</td>\n",
       "      <td>0</td>\n",
       "      <td>0.0</td>\n",
       "      <td>...</td>\n",
       "      <td>0.0</td>\n",
       "      <td>0.0</td>\n",
       "      <td>0.0</td>\n",
       "      <td>0.000000</td>\n",
       "      <td>0.0</td>\n",
       "      <td>0.0</td>\n",
       "      <td>0.0</td>\n",
       "      <td>0.0</td>\n",
       "      <td>0.0</td>\n",
       "      <td>0.0</td>\n",
       "    </tr>\n",
       "    <tr>\n",
       "      <th>...</th>\n",
       "      <td>...</td>\n",
       "      <td>...</td>\n",
       "      <td>...</td>\n",
       "      <td>...</td>\n",
       "      <td>...</td>\n",
       "      <td>...</td>\n",
       "      <td>...</td>\n",
       "      <td>...</td>\n",
       "      <td>...</td>\n",
       "      <td>...</td>\n",
       "      <td>...</td>\n",
       "      <td>...</td>\n",
       "      <td>...</td>\n",
       "      <td>...</td>\n",
       "      <td>...</td>\n",
       "      <td>...</td>\n",
       "      <td>...</td>\n",
       "      <td>...</td>\n",
       "      <td>...</td>\n",
       "      <td>...</td>\n",
       "      <td>...</td>\n",
       "    </tr>\n",
       "    <tr>\n",
       "      <th>87556</th>\n",
       "      <td>884</td>\n",
       "      <td>153</td>\n",
       "      <td>5.777778</td>\n",
       "      <td>1</td>\n",
       "      <td>7</td>\n",
       "      <td>0</td>\n",
       "      <td>0</td>\n",
       "      <td>0</td>\n",
       "      <td>0</td>\n",
       "      <td>0.0</td>\n",
       "      <td>...</td>\n",
       "      <td>0.0</td>\n",
       "      <td>0.0</td>\n",
       "      <td>0.0</td>\n",
       "      <td>0.000000</td>\n",
       "      <td>0.0</td>\n",
       "      <td>0.0</td>\n",
       "      <td>0.0</td>\n",
       "      <td>0.0</td>\n",
       "      <td>0.0</td>\n",
       "      <td>0.0</td>\n",
       "    </tr>\n",
       "    <tr>\n",
       "      <th>70025</th>\n",
       "      <td>556</td>\n",
       "      <td>100</td>\n",
       "      <td>5.560000</td>\n",
       "      <td>4</td>\n",
       "      <td>4</td>\n",
       "      <td>0</td>\n",
       "      <td>0</td>\n",
       "      <td>0</td>\n",
       "      <td>0</td>\n",
       "      <td>0.0</td>\n",
       "      <td>...</td>\n",
       "      <td>0.0</td>\n",
       "      <td>0.0</td>\n",
       "      <td>0.0</td>\n",
       "      <td>0.000000</td>\n",
       "      <td>0.0</td>\n",
       "      <td>0.0</td>\n",
       "      <td>0.0</td>\n",
       "      <td>0.0</td>\n",
       "      <td>0.0</td>\n",
       "      <td>0.0</td>\n",
       "    </tr>\n",
       "    <tr>\n",
       "      <th>25712</th>\n",
       "      <td>413</td>\n",
       "      <td>75</td>\n",
       "      <td>5.506667</td>\n",
       "      <td>3</td>\n",
       "      <td>7</td>\n",
       "      <td>0</td>\n",
       "      <td>0</td>\n",
       "      <td>0</td>\n",
       "      <td>0</td>\n",
       "      <td>0.0</td>\n",
       "      <td>...</td>\n",
       "      <td>0.0</td>\n",
       "      <td>0.0</td>\n",
       "      <td>0.0</td>\n",
       "      <td>0.000000</td>\n",
       "      <td>0.0</td>\n",
       "      <td>0.0</td>\n",
       "      <td>0.0</td>\n",
       "      <td>0.0</td>\n",
       "      <td>0.0</td>\n",
       "      <td>0.0</td>\n",
       "    </tr>\n",
       "    <tr>\n",
       "      <th>7682</th>\n",
       "      <td>153</td>\n",
       "      <td>27</td>\n",
       "      <td>5.666667</td>\n",
       "      <td>6</td>\n",
       "      <td>4</td>\n",
       "      <td>0</td>\n",
       "      <td>0</td>\n",
       "      <td>0</td>\n",
       "      <td>0</td>\n",
       "      <td>0.0</td>\n",
       "      <td>...</td>\n",
       "      <td>0.0</td>\n",
       "      <td>0.0</td>\n",
       "      <td>0.0</td>\n",
       "      <td>0.000000</td>\n",
       "      <td>0.0</td>\n",
       "      <td>0.0</td>\n",
       "      <td>0.0</td>\n",
       "      <td>0.0</td>\n",
       "      <td>0.0</td>\n",
       "      <td>0.0</td>\n",
       "    </tr>\n",
       "    <tr>\n",
       "      <th>15531</th>\n",
       "      <td>338</td>\n",
       "      <td>69</td>\n",
       "      <td>4.898551</td>\n",
       "      <td>1</td>\n",
       "      <td>4</td>\n",
       "      <td>0</td>\n",
       "      <td>0</td>\n",
       "      <td>0</td>\n",
       "      <td>0</td>\n",
       "      <td>0.0</td>\n",
       "      <td>...</td>\n",
       "      <td>0.0</td>\n",
       "      <td>0.0</td>\n",
       "      <td>0.0</td>\n",
       "      <td>0.000000</td>\n",
       "      <td>0.0</td>\n",
       "      <td>0.0</td>\n",
       "      <td>0.0</td>\n",
       "      <td>0.0</td>\n",
       "      <td>0.0</td>\n",
       "      <td>0.0</td>\n",
       "    </tr>\n",
       "  </tbody>\n",
       "</table>\n",
       "<p>80000 rows × 5009 columns</p>\n",
       "</div>"
      ],
      "text/plain": [
       "        char_len  word_len  char_word_len_ratio  first_char_len  \\\n",
       "31407        327        63             5.190476               5   \n",
       "87309        165        26             6.346154               5   \n",
       "31618        187        37             5.054054               5   \n",
       "23190        326        58             5.620690               1   \n",
       "112391       151        27             5.592593               4   \n",
       "...          ...       ...                  ...             ...   \n",
       "87556        884       153             5.777778               1   \n",
       "70025        556       100             5.560000               4   \n",
       "25712        413        75             5.506667               3   \n",
       "7682         153        27             5.666667               6   \n",
       "15531        338        69             4.898551               1   \n",
       "\n",
       "        last_char_len  fuzz_ratio  fuzz_partial_ratio  fuzz_token_sort_ratio  \\\n",
       "31407               6          40                   0                     40   \n",
       "87309              13          40                  50                     40   \n",
       "31618              12          40                  50                     40   \n",
       "23190               5           0                   0                      0   \n",
       "112391             11           0                   0                      0   \n",
       "...               ...         ...                 ...                    ...   \n",
       "87556               7           0                   0                      0   \n",
       "70025               4           0                   0                      0   \n",
       "25712               7           0                   0                      0   \n",
       "7682                4           0                   0                      0   \n",
       "15531               4           0                   0                      0   \n",
       "\n",
       "        fuzz_token_set_ratio    0  ...  4990  4991  4992      4993  4994  \\\n",
       "31407                     40  0.0  ...   0.0   0.0   0.0  0.000000   0.0   \n",
       "87309                     40  0.0  ...   0.0   0.0   0.0  0.000000   0.0   \n",
       "31618                     40  0.0  ...   0.0   0.0   0.0  0.286391   0.0   \n",
       "23190                      0  0.0  ...   0.0   0.0   0.0  0.000000   0.0   \n",
       "112391                     0  0.0  ...   0.0   0.0   0.0  0.000000   0.0   \n",
       "...                      ...  ...  ...   ...   ...   ...       ...   ...   \n",
       "87556                      0  0.0  ...   0.0   0.0   0.0  0.000000   0.0   \n",
       "70025                      0  0.0  ...   0.0   0.0   0.0  0.000000   0.0   \n",
       "25712                      0  0.0  ...   0.0   0.0   0.0  0.000000   0.0   \n",
       "7682                       0  0.0  ...   0.0   0.0   0.0  0.000000   0.0   \n",
       "15531                      0  0.0  ...   0.0   0.0   0.0  0.000000   0.0   \n",
       "\n",
       "        4995  4996  4997  4998  4999  \n",
       "31407    0.0   0.0   0.0   0.0   0.0  \n",
       "87309    0.0   0.0   0.0   0.0   0.0  \n",
       "31618    0.0   0.0   0.0   0.0   0.0  \n",
       "23190    0.0   0.0   0.0   0.0   0.0  \n",
       "112391   0.0   0.0   0.0   0.0   0.0  \n",
       "...      ...   ...   ...   ...   ...  \n",
       "87556    0.0   0.0   0.0   0.0   0.0  \n",
       "70025    0.0   0.0   0.0   0.0   0.0  \n",
       "25712    0.0   0.0   0.0   0.0   0.0  \n",
       "7682     0.0   0.0   0.0   0.0   0.0  \n",
       "15531    0.0   0.0   0.0   0.0   0.0  \n",
       "\n",
       "[80000 rows x 5009 columns]"
      ]
     },
     "execution_count": 75,
     "metadata": {},
     "output_type": "execute_result"
    }
   ],
   "source": [
    "X_train"
   ]
  },
  {
   "cell_type": "markdown",
   "id": "75f3a6a4-de94-48d8-853b-5ff7da538bee",
   "metadata": {},
   "source": [
    "#### XGBoost"
   ]
  },
  {
   "cell_type": "code",
   "execution_count": 76,
   "id": "e34efddd-488a-4524-b354-c8b18cb8cb74",
   "metadata": {},
   "outputs": [],
   "source": [
    "from xgboost import XGBClassifier"
   ]
  },
  {
   "cell_type": "code",
   "execution_count": 77,
   "id": "8e90c1d6-7dae-4379-8374-bf181f2600f0",
   "metadata": {},
   "outputs": [],
   "source": [
    "xgb = XGBClassifier(verbose=2)"
   ]
  },
  {
   "cell_type": "code",
   "execution_count": 78,
   "id": "983178e0-d090-4066-9124-b4b937943f4c",
   "metadata": {},
   "outputs": [
    {
     "name": "stderr",
     "output_type": "stream",
     "text": [
      "C:\\Users\\write\\AppData\\Local\\Programs\\Python\\Python310\\lib\\site-packages\\xgboost\\core.py:158: UserWarning: [20:18:18] WARNING: C:\\buildkite-agent\\builds\\buildkite-windows-cpu-autoscaling-group-i-0015a694724fa8361-1\\xgboost\\xgboost-ci-windows\\src\\learner.cc:740: \n",
      "Parameters: { \"verbose\" } are not used.\n",
      "\n",
      "  warnings.warn(smsg, UserWarning)\n"
     ]
    },
    {
     "data": {
      "text/html": [
       "<style>#sk-container-id-1 {\n",
       "  /* Definition of color scheme common for light and dark mode */\n",
       "  --sklearn-color-text: black;\n",
       "  --sklearn-color-line: gray;\n",
       "  /* Definition of color scheme for unfitted estimators */\n",
       "  --sklearn-color-unfitted-level-0: #fff5e6;\n",
       "  --sklearn-color-unfitted-level-1: #f6e4d2;\n",
       "  --sklearn-color-unfitted-level-2: #ffe0b3;\n",
       "  --sklearn-color-unfitted-level-3: chocolate;\n",
       "  /* Definition of color scheme for fitted estimators */\n",
       "  --sklearn-color-fitted-level-0: #f0f8ff;\n",
       "  --sklearn-color-fitted-level-1: #d4ebff;\n",
       "  --sklearn-color-fitted-level-2: #b3dbfd;\n",
       "  --sklearn-color-fitted-level-3: cornflowerblue;\n",
       "\n",
       "  /* Specific color for light theme */\n",
       "  --sklearn-color-text-on-default-background: var(--sg-text-color, var(--theme-code-foreground, var(--jp-content-font-color1, black)));\n",
       "  --sklearn-color-background: var(--sg-background-color, var(--theme-background, var(--jp-layout-color0, white)));\n",
       "  --sklearn-color-border-box: var(--sg-text-color, var(--theme-code-foreground, var(--jp-content-font-color1, black)));\n",
       "  --sklearn-color-icon: #696969;\n",
       "\n",
       "  @media (prefers-color-scheme: dark) {\n",
       "    /* Redefinition of color scheme for dark theme */\n",
       "    --sklearn-color-text-on-default-background: var(--sg-text-color, var(--theme-code-foreground, var(--jp-content-font-color1, white)));\n",
       "    --sklearn-color-background: var(--sg-background-color, var(--theme-background, var(--jp-layout-color0, #111)));\n",
       "    --sklearn-color-border-box: var(--sg-text-color, var(--theme-code-foreground, var(--jp-content-font-color1, white)));\n",
       "    --sklearn-color-icon: #878787;\n",
       "  }\n",
       "}\n",
       "\n",
       "#sk-container-id-1 {\n",
       "  color: var(--sklearn-color-text);\n",
       "}\n",
       "\n",
       "#sk-container-id-1 pre {\n",
       "  padding: 0;\n",
       "}\n",
       "\n",
       "#sk-container-id-1 input.sk-hidden--visually {\n",
       "  border: 0;\n",
       "  clip: rect(1px 1px 1px 1px);\n",
       "  clip: rect(1px, 1px, 1px, 1px);\n",
       "  height: 1px;\n",
       "  margin: -1px;\n",
       "  overflow: hidden;\n",
       "  padding: 0;\n",
       "  position: absolute;\n",
       "  width: 1px;\n",
       "}\n",
       "\n",
       "#sk-container-id-1 div.sk-dashed-wrapped {\n",
       "  border: 1px dashed var(--sklearn-color-line);\n",
       "  margin: 0 0.4em 0.5em 0.4em;\n",
       "  box-sizing: border-box;\n",
       "  padding-bottom: 0.4em;\n",
       "  background-color: var(--sklearn-color-background);\n",
       "}\n",
       "\n",
       "#sk-container-id-1 div.sk-container {\n",
       "  /* jupyter's `normalize.less` sets `[hidden] { display: none; }`\n",
       "     but bootstrap.min.css set `[hidden] { display: none !important; }`\n",
       "     so we also need the `!important` here to be able to override the\n",
       "     default hidden behavior on the sphinx rendered scikit-learn.org.\n",
       "     See: https://github.com/scikit-learn/scikit-learn/issues/21755 */\n",
       "  display: inline-block !important;\n",
       "  position: relative;\n",
       "}\n",
       "\n",
       "#sk-container-id-1 div.sk-text-repr-fallback {\n",
       "  display: none;\n",
       "}\n",
       "\n",
       "div.sk-parallel-item,\n",
       "div.sk-serial,\n",
       "div.sk-item {\n",
       "  /* draw centered vertical line to link estimators */\n",
       "  background-image: linear-gradient(var(--sklearn-color-text-on-default-background), var(--sklearn-color-text-on-default-background));\n",
       "  background-size: 2px 100%;\n",
       "  background-repeat: no-repeat;\n",
       "  background-position: center center;\n",
       "}\n",
       "\n",
       "/* Parallel-specific style estimator block */\n",
       "\n",
       "#sk-container-id-1 div.sk-parallel-item::after {\n",
       "  content: \"\";\n",
       "  width: 100%;\n",
       "  border-bottom: 2px solid var(--sklearn-color-text-on-default-background);\n",
       "  flex-grow: 1;\n",
       "}\n",
       "\n",
       "#sk-container-id-1 div.sk-parallel {\n",
       "  display: flex;\n",
       "  align-items: stretch;\n",
       "  justify-content: center;\n",
       "  background-color: var(--sklearn-color-background);\n",
       "  position: relative;\n",
       "}\n",
       "\n",
       "#sk-container-id-1 div.sk-parallel-item {\n",
       "  display: flex;\n",
       "  flex-direction: column;\n",
       "}\n",
       "\n",
       "#sk-container-id-1 div.sk-parallel-item:first-child::after {\n",
       "  align-self: flex-end;\n",
       "  width: 50%;\n",
       "}\n",
       "\n",
       "#sk-container-id-1 div.sk-parallel-item:last-child::after {\n",
       "  align-self: flex-start;\n",
       "  width: 50%;\n",
       "}\n",
       "\n",
       "#sk-container-id-1 div.sk-parallel-item:only-child::after {\n",
       "  width: 0;\n",
       "}\n",
       "\n",
       "/* Serial-specific style estimator block */\n",
       "\n",
       "#sk-container-id-1 div.sk-serial {\n",
       "  display: flex;\n",
       "  flex-direction: column;\n",
       "  align-items: center;\n",
       "  background-color: var(--sklearn-color-background);\n",
       "  padding-right: 1em;\n",
       "  padding-left: 1em;\n",
       "}\n",
       "\n",
       "\n",
       "/* Toggleable style: style used for estimator/Pipeline/ColumnTransformer box that is\n",
       "clickable and can be expanded/collapsed.\n",
       "- Pipeline and ColumnTransformer use this feature and define the default style\n",
       "- Estimators will overwrite some part of the style using the `sk-estimator` class\n",
       "*/\n",
       "\n",
       "/* Pipeline and ColumnTransformer style (default) */\n",
       "\n",
       "#sk-container-id-1 div.sk-toggleable {\n",
       "  /* Default theme specific background. It is overwritten whether we have a\n",
       "  specific estimator or a Pipeline/ColumnTransformer */\n",
       "  background-color: var(--sklearn-color-background);\n",
       "}\n",
       "\n",
       "/* Toggleable label */\n",
       "#sk-container-id-1 label.sk-toggleable__label {\n",
       "  cursor: pointer;\n",
       "  display: block;\n",
       "  width: 100%;\n",
       "  margin-bottom: 0;\n",
       "  padding: 0.5em;\n",
       "  box-sizing: border-box;\n",
       "  text-align: center;\n",
       "}\n",
       "\n",
       "#sk-container-id-1 label.sk-toggleable__label-arrow:before {\n",
       "  /* Arrow on the left of the label */\n",
       "  content: \"▸\";\n",
       "  float: left;\n",
       "  margin-right: 0.25em;\n",
       "  color: var(--sklearn-color-icon);\n",
       "}\n",
       "\n",
       "#sk-container-id-1 label.sk-toggleable__label-arrow:hover:before {\n",
       "  color: var(--sklearn-color-text);\n",
       "}\n",
       "\n",
       "/* Toggleable content - dropdown */\n",
       "\n",
       "#sk-container-id-1 div.sk-toggleable__content {\n",
       "  max-height: 0;\n",
       "  max-width: 0;\n",
       "  overflow: hidden;\n",
       "  text-align: left;\n",
       "  /* unfitted */\n",
       "  background-color: var(--sklearn-color-unfitted-level-0);\n",
       "}\n",
       "\n",
       "#sk-container-id-1 div.sk-toggleable__content.fitted {\n",
       "  /* fitted */\n",
       "  background-color: var(--sklearn-color-fitted-level-0);\n",
       "}\n",
       "\n",
       "#sk-container-id-1 div.sk-toggleable__content pre {\n",
       "  margin: 0.2em;\n",
       "  border-radius: 0.25em;\n",
       "  color: var(--sklearn-color-text);\n",
       "  /* unfitted */\n",
       "  background-color: var(--sklearn-color-unfitted-level-0);\n",
       "}\n",
       "\n",
       "#sk-container-id-1 div.sk-toggleable__content.fitted pre {\n",
       "  /* unfitted */\n",
       "  background-color: var(--sklearn-color-fitted-level-0);\n",
       "}\n",
       "\n",
       "#sk-container-id-1 input.sk-toggleable__control:checked~div.sk-toggleable__content {\n",
       "  /* Expand drop-down */\n",
       "  max-height: 200px;\n",
       "  max-width: 100%;\n",
       "  overflow: auto;\n",
       "}\n",
       "\n",
       "#sk-container-id-1 input.sk-toggleable__control:checked~label.sk-toggleable__label-arrow:before {\n",
       "  content: \"▾\";\n",
       "}\n",
       "\n",
       "/* Pipeline/ColumnTransformer-specific style */\n",
       "\n",
       "#sk-container-id-1 div.sk-label input.sk-toggleable__control:checked~label.sk-toggleable__label {\n",
       "  color: var(--sklearn-color-text);\n",
       "  background-color: var(--sklearn-color-unfitted-level-2);\n",
       "}\n",
       "\n",
       "#sk-container-id-1 div.sk-label.fitted input.sk-toggleable__control:checked~label.sk-toggleable__label {\n",
       "  background-color: var(--sklearn-color-fitted-level-2);\n",
       "}\n",
       "\n",
       "/* Estimator-specific style */\n",
       "\n",
       "/* Colorize estimator box */\n",
       "#sk-container-id-1 div.sk-estimator input.sk-toggleable__control:checked~label.sk-toggleable__label {\n",
       "  /* unfitted */\n",
       "  background-color: var(--sklearn-color-unfitted-level-2);\n",
       "}\n",
       "\n",
       "#sk-container-id-1 div.sk-estimator.fitted input.sk-toggleable__control:checked~label.sk-toggleable__label {\n",
       "  /* fitted */\n",
       "  background-color: var(--sklearn-color-fitted-level-2);\n",
       "}\n",
       "\n",
       "#sk-container-id-1 div.sk-label label.sk-toggleable__label,\n",
       "#sk-container-id-1 div.sk-label label {\n",
       "  /* The background is the default theme color */\n",
       "  color: var(--sklearn-color-text-on-default-background);\n",
       "}\n",
       "\n",
       "/* On hover, darken the color of the background */\n",
       "#sk-container-id-1 div.sk-label:hover label.sk-toggleable__label {\n",
       "  color: var(--sklearn-color-text);\n",
       "  background-color: var(--sklearn-color-unfitted-level-2);\n",
       "}\n",
       "\n",
       "/* Label box, darken color on hover, fitted */\n",
       "#sk-container-id-1 div.sk-label.fitted:hover label.sk-toggleable__label.fitted {\n",
       "  color: var(--sklearn-color-text);\n",
       "  background-color: var(--sklearn-color-fitted-level-2);\n",
       "}\n",
       "\n",
       "/* Estimator label */\n",
       "\n",
       "#sk-container-id-1 div.sk-label label {\n",
       "  font-family: monospace;\n",
       "  font-weight: bold;\n",
       "  display: inline-block;\n",
       "  line-height: 1.2em;\n",
       "}\n",
       "\n",
       "#sk-container-id-1 div.sk-label-container {\n",
       "  text-align: center;\n",
       "}\n",
       "\n",
       "/* Estimator-specific */\n",
       "#sk-container-id-1 div.sk-estimator {\n",
       "  font-family: monospace;\n",
       "  border: 1px dotted var(--sklearn-color-border-box);\n",
       "  border-radius: 0.25em;\n",
       "  box-sizing: border-box;\n",
       "  margin-bottom: 0.5em;\n",
       "  /* unfitted */\n",
       "  background-color: var(--sklearn-color-unfitted-level-0);\n",
       "}\n",
       "\n",
       "#sk-container-id-1 div.sk-estimator.fitted {\n",
       "  /* fitted */\n",
       "  background-color: var(--sklearn-color-fitted-level-0);\n",
       "}\n",
       "\n",
       "/* on hover */\n",
       "#sk-container-id-1 div.sk-estimator:hover {\n",
       "  /* unfitted */\n",
       "  background-color: var(--sklearn-color-unfitted-level-2);\n",
       "}\n",
       "\n",
       "#sk-container-id-1 div.sk-estimator.fitted:hover {\n",
       "  /* fitted */\n",
       "  background-color: var(--sklearn-color-fitted-level-2);\n",
       "}\n",
       "\n",
       "/* Specification for estimator info (e.g. \"i\" and \"?\") */\n",
       "\n",
       "/* Common style for \"i\" and \"?\" */\n",
       "\n",
       ".sk-estimator-doc-link,\n",
       "a:link.sk-estimator-doc-link,\n",
       "a:visited.sk-estimator-doc-link {\n",
       "  float: right;\n",
       "  font-size: smaller;\n",
       "  line-height: 1em;\n",
       "  font-family: monospace;\n",
       "  background-color: var(--sklearn-color-background);\n",
       "  border-radius: 1em;\n",
       "  height: 1em;\n",
       "  width: 1em;\n",
       "  text-decoration: none !important;\n",
       "  margin-left: 1ex;\n",
       "  /* unfitted */\n",
       "  border: var(--sklearn-color-unfitted-level-1) 1pt solid;\n",
       "  color: var(--sklearn-color-unfitted-level-1);\n",
       "}\n",
       "\n",
       ".sk-estimator-doc-link.fitted,\n",
       "a:link.sk-estimator-doc-link.fitted,\n",
       "a:visited.sk-estimator-doc-link.fitted {\n",
       "  /* fitted */\n",
       "  border: var(--sklearn-color-fitted-level-1) 1pt solid;\n",
       "  color: var(--sklearn-color-fitted-level-1);\n",
       "}\n",
       "\n",
       "/* On hover */\n",
       "div.sk-estimator:hover .sk-estimator-doc-link:hover,\n",
       ".sk-estimator-doc-link:hover,\n",
       "div.sk-label-container:hover .sk-estimator-doc-link:hover,\n",
       ".sk-estimator-doc-link:hover {\n",
       "  /* unfitted */\n",
       "  background-color: var(--sklearn-color-unfitted-level-3);\n",
       "  color: var(--sklearn-color-background);\n",
       "  text-decoration: none;\n",
       "}\n",
       "\n",
       "div.sk-estimator.fitted:hover .sk-estimator-doc-link.fitted:hover,\n",
       ".sk-estimator-doc-link.fitted:hover,\n",
       "div.sk-label-container:hover .sk-estimator-doc-link.fitted:hover,\n",
       ".sk-estimator-doc-link.fitted:hover {\n",
       "  /* fitted */\n",
       "  background-color: var(--sklearn-color-fitted-level-3);\n",
       "  color: var(--sklearn-color-background);\n",
       "  text-decoration: none;\n",
       "}\n",
       "\n",
       "/* Span, style for the box shown on hovering the info icon */\n",
       ".sk-estimator-doc-link span {\n",
       "  display: none;\n",
       "  z-index: 9999;\n",
       "  position: relative;\n",
       "  font-weight: normal;\n",
       "  right: .2ex;\n",
       "  padding: .5ex;\n",
       "  margin: .5ex;\n",
       "  width: min-content;\n",
       "  min-width: 20ex;\n",
       "  max-width: 50ex;\n",
       "  color: var(--sklearn-color-text);\n",
       "  box-shadow: 2pt 2pt 4pt #999;\n",
       "  /* unfitted */\n",
       "  background: var(--sklearn-color-unfitted-level-0);\n",
       "  border: .5pt solid var(--sklearn-color-unfitted-level-3);\n",
       "}\n",
       "\n",
       ".sk-estimator-doc-link.fitted span {\n",
       "  /* fitted */\n",
       "  background: var(--sklearn-color-fitted-level-0);\n",
       "  border: var(--sklearn-color-fitted-level-3);\n",
       "}\n",
       "\n",
       ".sk-estimator-doc-link:hover span {\n",
       "  display: block;\n",
       "}\n",
       "\n",
       "/* \"?\"-specific style due to the `<a>` HTML tag */\n",
       "\n",
       "#sk-container-id-1 a.estimator_doc_link {\n",
       "  float: right;\n",
       "  font-size: 1rem;\n",
       "  line-height: 1em;\n",
       "  font-family: monospace;\n",
       "  background-color: var(--sklearn-color-background);\n",
       "  border-radius: 1rem;\n",
       "  height: 1rem;\n",
       "  width: 1rem;\n",
       "  text-decoration: none;\n",
       "  /* unfitted */\n",
       "  color: var(--sklearn-color-unfitted-level-1);\n",
       "  border: var(--sklearn-color-unfitted-level-1) 1pt solid;\n",
       "}\n",
       "\n",
       "#sk-container-id-1 a.estimator_doc_link.fitted {\n",
       "  /* fitted */\n",
       "  border: var(--sklearn-color-fitted-level-1) 1pt solid;\n",
       "  color: var(--sklearn-color-fitted-level-1);\n",
       "}\n",
       "\n",
       "/* On hover */\n",
       "#sk-container-id-1 a.estimator_doc_link:hover {\n",
       "  /* unfitted */\n",
       "  background-color: var(--sklearn-color-unfitted-level-3);\n",
       "  color: var(--sklearn-color-background);\n",
       "  text-decoration: none;\n",
       "}\n",
       "\n",
       "#sk-container-id-1 a.estimator_doc_link.fitted:hover {\n",
       "  /* fitted */\n",
       "  background-color: var(--sklearn-color-fitted-level-3);\n",
       "}\n",
       "</style><div id=\"sk-container-id-1\" class=\"sk-top-container\"><div class=\"sk-text-repr-fallback\"><pre>XGBClassifier(base_score=None, booster=None, callbacks=None,\n",
       "              colsample_bylevel=None, colsample_bynode=None,\n",
       "              colsample_bytree=None, device=None, early_stopping_rounds=None,\n",
       "              enable_categorical=False, eval_metric=None, feature_types=None,\n",
       "              gamma=None, grow_policy=None, importance_type=None,\n",
       "              interaction_constraints=None, learning_rate=None, max_bin=None,\n",
       "              max_cat_threshold=None, max_cat_to_onehot=None,\n",
       "              max_delta_step=None, max_depth=None, max_leaves=None,\n",
       "              min_child_weight=None, missing=nan, monotone_constraints=None,\n",
       "              multi_strategy=None, n_estimators=None, n_jobs=None,\n",
       "              num_parallel_tree=None, random_state=None, ...)</pre><b>In a Jupyter environment, please rerun this cell to show the HTML representation or trust the notebook. <br />On GitHub, the HTML representation is unable to render, please try loading this page with nbviewer.org.</b></div><div class=\"sk-container\" hidden><div class=\"sk-item\"><div class=\"sk-estimator fitted sk-toggleable\"><input class=\"sk-toggleable__control sk-hidden--visually\" id=\"sk-estimator-id-1\" type=\"checkbox\" checked><label for=\"sk-estimator-id-1\" class=\"sk-toggleable__label fitted sk-toggleable__label-arrow fitted\">&nbsp;XGBClassifier<span class=\"sk-estimator-doc-link fitted\">i<span>Fitted</span></span></label><div class=\"sk-toggleable__content fitted\"><pre>XGBClassifier(base_score=None, booster=None, callbacks=None,\n",
       "              colsample_bylevel=None, colsample_bynode=None,\n",
       "              colsample_bytree=None, device=None, early_stopping_rounds=None,\n",
       "              enable_categorical=False, eval_metric=None, feature_types=None,\n",
       "              gamma=None, grow_policy=None, importance_type=None,\n",
       "              interaction_constraints=None, learning_rate=None, max_bin=None,\n",
       "              max_cat_threshold=None, max_cat_to_onehot=None,\n",
       "              max_delta_step=None, max_depth=None, max_leaves=None,\n",
       "              min_child_weight=None, missing=nan, monotone_constraints=None,\n",
       "              multi_strategy=None, n_estimators=None, n_jobs=None,\n",
       "              num_parallel_tree=None, random_state=None, ...)</pre></div> </div></div></div></div>"
      ],
      "text/plain": [
       "XGBClassifier(base_score=None, booster=None, callbacks=None,\n",
       "              colsample_bylevel=None, colsample_bynode=None,\n",
       "              colsample_bytree=None, device=None, early_stopping_rounds=None,\n",
       "              enable_categorical=False, eval_metric=None, feature_types=None,\n",
       "              gamma=None, grow_policy=None, importance_type=None,\n",
       "              interaction_constraints=None, learning_rate=None, max_bin=None,\n",
       "              max_cat_threshold=None, max_cat_to_onehot=None,\n",
       "              max_delta_step=None, max_depth=None, max_leaves=None,\n",
       "              min_child_weight=None, missing=nan, monotone_constraints=None,\n",
       "              multi_strategy=None, n_estimators=None, n_jobs=None,\n",
       "              num_parallel_tree=None, random_state=None, ...)"
      ]
     },
     "execution_count": 78,
     "metadata": {},
     "output_type": "execute_result"
    }
   ],
   "source": [
    "xgb.fit(X_train, y_train)"
   ]
  },
  {
   "cell_type": "code",
   "execution_count": 79,
   "id": "f5a08249-86fc-465c-ad26-959e16e01aeb",
   "metadata": {},
   "outputs": [],
   "source": [
    "y_pred = xgb.predict(X_test)"
   ]
  },
  {
   "cell_type": "code",
   "execution_count": 80,
   "id": "8d48238f-60f0-477e-9e92-7f0015082790",
   "metadata": {},
   "outputs": [
    {
     "data": {
      "text/plain": [
       "0.8696"
      ]
     },
     "execution_count": 80,
     "metadata": {},
     "output_type": "execute_result"
    }
   ],
   "source": [
    "accuracy_score(y_pred, y_test)"
   ]
  },
  {
   "cell_type": "code",
   "execution_count": null,
   "id": "bceaa14f-6393-4d4e-b8c0-b06af86bfcbf",
   "metadata": {},
   "outputs": [],
   "source": []
  },
  {
   "cell_type": "code",
   "execution_count": 81,
   "id": "25824737-929e-4bdc-af49-205150ce2372",
   "metadata": {},
   "outputs": [],
   "source": [
    "import pickle"
   ]
  },
  {
   "cell_type": "code",
   "execution_count": 86,
   "id": "e0c743b6-6b9e-41c0-abc0-f7b3b9d68954",
   "metadata": {},
   "outputs": [],
   "source": [
    "with open('model.pkl', 'wb') as file:\n",
    "    pickle.dump(xgb, file)"
   ]
  },
  {
   "cell_type": "code",
   "execution_count": 87,
   "id": "08d553a4-7589-4ad4-a8f5-961ae3263417",
   "metadata": {},
   "outputs": [],
   "source": [
    "with open('tfidf.pkl', 'wb') as file:\n",
    "    pickle.dump(tfidf, file)"
   ]
  },
  {
   "cell_type": "code",
   "execution_count": null,
   "id": "c0854d75-804c-4be9-afa7-ac10e64c0e8f",
   "metadata": {},
   "outputs": [],
   "source": []
  },
  {
   "cell_type": "code",
   "execution_count": null,
   "id": "1eae217c-fc7e-4997-b0c7-af5082cd9172",
   "metadata": {},
   "outputs": [],
   "source": []
  },
  {
   "cell_type": "code",
   "execution_count": null,
   "id": "0976908d-78a9-4805-a9af-1ff9c5e87fc8",
   "metadata": {},
   "outputs": [],
   "source": []
  },
  {
   "cell_type": "code",
   "execution_count": 88,
   "id": "c2085ac7-2318-4c5d-ab2f-7db5cc1fb785",
   "metadata": {},
   "outputs": [],
   "source": [
    "with open('model.pkl', 'rb') as file:\n",
    "    model = pickle.load(file)"
   ]
  },
  {
   "cell_type": "code",
   "execution_count": 89,
   "id": "9c168745-eaee-4892-a767-5c85edeb31aa",
   "metadata": {},
   "outputs": [],
   "source": [
    "with open('tfidf.pkl', 'rb') as file:\n",
    "    tfidf = pickle.load(file)"
   ]
  },
  {
   "cell_type": "code",
   "execution_count": null,
   "id": "86b2209e-1d77-41e3-9641-6844a865eb18",
   "metadata": {},
   "outputs": [],
   "source": []
  },
  {
   "cell_type": "code",
   "execution_count": 90,
   "id": "a6d2b3fb-e1c1-440b-98c0-e4eef2433a47",
   "metadata": {},
   "outputs": [],
   "source": [
    "a = ['This prodict is worse, unworth to buy']"
   ]
  },
  {
   "cell_type": "code",
   "execution_count": 91,
   "id": "c8175496-ab69-45e1-85d1-33438b5d7974",
   "metadata": {
    "scrolled": true
   },
   "outputs": [],
   "source": [
    "a_df = pd.DataFrame(a, columns=['Review'])"
   ]
  },
  {
   "cell_type": "code",
   "execution_count": 92,
   "id": "9f589f26-a02d-41ad-b0f2-541b4257f576",
   "metadata": {},
   "outputs": [
    {
     "data": {
      "text/html": [
       "<div>\n",
       "<style scoped>\n",
       "    .dataframe tbody tr th:only-of-type {\n",
       "        vertical-align: middle;\n",
       "    }\n",
       "\n",
       "    .dataframe tbody tr th {\n",
       "        vertical-align: top;\n",
       "    }\n",
       "\n",
       "    .dataframe thead th {\n",
       "        text-align: right;\n",
       "    }\n",
       "</style>\n",
       "<table border=\"1\" class=\"dataframe\">\n",
       "  <thead>\n",
       "    <tr style=\"text-align: right;\">\n",
       "      <th></th>\n",
       "      <th>Review</th>\n",
       "    </tr>\n",
       "  </thead>\n",
       "  <tbody>\n",
       "    <tr>\n",
       "      <th>0</th>\n",
       "      <td>This prodict is worse, unworth to buy</td>\n",
       "    </tr>\n",
       "  </tbody>\n",
       "</table>\n",
       "</div>"
      ],
      "text/plain": [
       "                                  Review\n",
       "0  This prodict is worse, unworth to buy"
      ]
     },
     "execution_count": 92,
     "metadata": {},
     "output_type": "execute_result"
    }
   ],
   "source": [
    "a_df"
   ]
  },
  {
   "cell_type": "code",
   "execution_count": 93,
   "id": "1fb12d21-a190-421c-b0a8-df79970fc41f",
   "metadata": {},
   "outputs": [
    {
     "name": "stderr",
     "output_type": "stream",
     "text": [
      "100%|██████████████████████| 1/1 [00:00<00:00, 164.12it/s]\n"
     ]
    }
   ],
   "source": [
    "a_df['Review'] = a_df['Review'].progress_apply(preprocessing)"
   ]
  },
  {
   "cell_type": "code",
   "execution_count": 94,
   "id": "6cb61ca5-6969-46ab-9da1-c89edb64648f",
   "metadata": {},
   "outputs": [
    {
     "data": {
      "text/html": [
       "<div>\n",
       "<style scoped>\n",
       "    .dataframe tbody tr th:only-of-type {\n",
       "        vertical-align: middle;\n",
       "    }\n",
       "\n",
       "    .dataframe tbody tr th {\n",
       "        vertical-align: top;\n",
       "    }\n",
       "\n",
       "    .dataframe thead th {\n",
       "        text-align: right;\n",
       "    }\n",
       "</style>\n",
       "<table border=\"1\" class=\"dataframe\">\n",
       "  <thead>\n",
       "    <tr style=\"text-align: right;\">\n",
       "      <th></th>\n",
       "      <th>Review</th>\n",
       "    </tr>\n",
       "  </thead>\n",
       "  <tbody>\n",
       "    <tr>\n",
       "      <th>0</th>\n",
       "      <td>prodict worse unworth buy</td>\n",
       "    </tr>\n",
       "  </tbody>\n",
       "</table>\n",
       "</div>"
      ],
      "text/plain": [
       "                      Review\n",
       "0  prodict worse unworth buy"
      ]
     },
     "execution_count": 94,
     "metadata": {},
     "output_type": "execute_result"
    }
   ],
   "source": [
    "a_df"
   ]
  },
  {
   "cell_type": "code",
   "execution_count": 95,
   "id": "bb02b3d6-5376-4c67-b5c3-2090053be0df",
   "metadata": {},
   "outputs": [],
   "source": [
    "a_df = feature_engineering(a_df)"
   ]
  },
  {
   "cell_type": "code",
   "execution_count": 96,
   "id": "ed853228-bcc2-4ed3-a22b-2a491c5e32f6",
   "metadata": {},
   "outputs": [
    {
     "data": {
      "text/html": [
       "<div>\n",
       "<style scoped>\n",
       "    .dataframe tbody tr th:only-of-type {\n",
       "        vertical-align: middle;\n",
       "    }\n",
       "\n",
       "    .dataframe tbody tr th {\n",
       "        vertical-align: top;\n",
       "    }\n",
       "\n",
       "    .dataframe thead th {\n",
       "        text-align: right;\n",
       "    }\n",
       "</style>\n",
       "<table border=\"1\" class=\"dataframe\">\n",
       "  <thead>\n",
       "    <tr style=\"text-align: right;\">\n",
       "      <th></th>\n",
       "      <th>Review</th>\n",
       "      <th>char_len</th>\n",
       "      <th>word_len</th>\n",
       "      <th>char_word_len_ratio</th>\n",
       "      <th>first_char_len</th>\n",
       "      <th>last_char_len</th>\n",
       "      <th>fuzz_ratio</th>\n",
       "      <th>fuzz_partial_ratio</th>\n",
       "      <th>fuzz_token_sort_ratio</th>\n",
       "      <th>fuzz_token_set_ratio</th>\n",
       "    </tr>\n",
       "  </thead>\n",
       "  <tbody>\n",
       "    <tr>\n",
       "      <th>0</th>\n",
       "      <td>prodict worse unworth buy</td>\n",
       "      <td>25</td>\n",
       "      <td>4</td>\n",
       "      <td>6.25</td>\n",
       "      <td>7</td>\n",
       "      <td>3</td>\n",
       "      <td>0</td>\n",
       "      <td>0</td>\n",
       "      <td>0</td>\n",
       "      <td>0</td>\n",
       "    </tr>\n",
       "  </tbody>\n",
       "</table>\n",
       "</div>"
      ],
      "text/plain": [
       "                      Review  char_len  word_len  char_word_len_ratio  \\\n",
       "0  prodict worse unworth buy        25         4                 6.25   \n",
       "\n",
       "   first_char_len  last_char_len  fuzz_ratio  fuzz_partial_ratio  \\\n",
       "0               7              3           0                   0   \n",
       "\n",
       "   fuzz_token_sort_ratio  fuzz_token_set_ratio  \n",
       "0                      0                     0  "
      ]
     },
     "execution_count": 96,
     "metadata": {},
     "output_type": "execute_result"
    }
   ],
   "source": [
    "a_df"
   ]
  },
  {
   "cell_type": "code",
   "execution_count": 97,
   "id": "d539fac9-39c6-4f6c-a5fa-2107dc47861e",
   "metadata": {},
   "outputs": [
    {
     "data": {
      "text/plain": [
       "(1, 10)"
      ]
     },
     "execution_count": 97,
     "metadata": {},
     "output_type": "execute_result"
    }
   ],
   "source": [
    "a_df.shape"
   ]
  },
  {
   "cell_type": "code",
   "execution_count": 98,
   "id": "c9aac950-21c5-4ed6-8b61-b38213cba665",
   "metadata": {},
   "outputs": [],
   "source": [
    "review_df = a_df['Review']"
   ]
  },
  {
   "cell_type": "code",
   "execution_count": 99,
   "id": "8de333f5-6ccd-426e-82f3-8b3d0c135cca",
   "metadata": {},
   "outputs": [
    {
     "data": {
      "text/plain": [
       "0    prodict worse unworth buy\n",
       "Name: Review, dtype: object"
      ]
     },
     "execution_count": 99,
     "metadata": {},
     "output_type": "execute_result"
    }
   ],
   "source": [
    "review_df"
   ]
  },
  {
   "cell_type": "code",
   "execution_count": 100,
   "id": "68f5193a-97c3-49c1-8faa-c78f02fea159",
   "metadata": {},
   "outputs": [],
   "source": [
    "review = tfidf.transform(review_df).toarray()"
   ]
  },
  {
   "cell_type": "code",
   "execution_count": 101,
   "id": "1cfd2517-3880-4261-964e-ca0b82750f71",
   "metadata": {},
   "outputs": [],
   "source": [
    "review_df = pd.DataFrame(review)"
   ]
  },
  {
   "cell_type": "code",
   "execution_count": 102,
   "id": "1fbcd8dc-6d56-4b72-a294-b2de36365c22",
   "metadata": {},
   "outputs": [
    {
     "data": {
      "text/html": [
       "<div>\n",
       "<style scoped>\n",
       "    .dataframe tbody tr th:only-of-type {\n",
       "        vertical-align: middle;\n",
       "    }\n",
       "\n",
       "    .dataframe tbody tr th {\n",
       "        vertical-align: top;\n",
       "    }\n",
       "\n",
       "    .dataframe thead th {\n",
       "        text-align: right;\n",
       "    }\n",
       "</style>\n",
       "<table border=\"1\" class=\"dataframe\">\n",
       "  <thead>\n",
       "    <tr style=\"text-align: right;\">\n",
       "      <th></th>\n",
       "      <th>0</th>\n",
       "      <th>1</th>\n",
       "      <th>2</th>\n",
       "      <th>3</th>\n",
       "      <th>4</th>\n",
       "      <th>5</th>\n",
       "      <th>6</th>\n",
       "      <th>7</th>\n",
       "      <th>8</th>\n",
       "      <th>9</th>\n",
       "      <th>...</th>\n",
       "      <th>4990</th>\n",
       "      <th>4991</th>\n",
       "      <th>4992</th>\n",
       "      <th>4993</th>\n",
       "      <th>4994</th>\n",
       "      <th>4995</th>\n",
       "      <th>4996</th>\n",
       "      <th>4997</th>\n",
       "      <th>4998</th>\n",
       "      <th>4999</th>\n",
       "    </tr>\n",
       "  </thead>\n",
       "  <tbody>\n",
       "    <tr>\n",
       "      <th>0</th>\n",
       "      <td>0.0</td>\n",
       "      <td>0.0</td>\n",
       "      <td>0.0</td>\n",
       "      <td>0.0</td>\n",
       "      <td>0.0</td>\n",
       "      <td>0.0</td>\n",
       "      <td>0.0</td>\n",
       "      <td>0.0</td>\n",
       "      <td>0.0</td>\n",
       "      <td>0.0</td>\n",
       "      <td>...</td>\n",
       "      <td>0.0</td>\n",
       "      <td>0.0</td>\n",
       "      <td>0.0</td>\n",
       "      <td>0.0</td>\n",
       "      <td>0.0</td>\n",
       "      <td>0.0</td>\n",
       "      <td>0.0</td>\n",
       "      <td>0.0</td>\n",
       "      <td>0.0</td>\n",
       "      <td>0.0</td>\n",
       "    </tr>\n",
       "  </tbody>\n",
       "</table>\n",
       "<p>1 rows × 5000 columns</p>\n",
       "</div>"
      ],
      "text/plain": [
       "   0     1     2     3     4     5     6     7     8     9     ...  4990  \\\n",
       "0   0.0   0.0   0.0   0.0   0.0   0.0   0.0   0.0   0.0   0.0  ...   0.0   \n",
       "\n",
       "   4991  4992  4993  4994  4995  4996  4997  4998  4999  \n",
       "0   0.0   0.0   0.0   0.0   0.0   0.0   0.0   0.0   0.0  \n",
       "\n",
       "[1 rows x 5000 columns]"
      ]
     },
     "execution_count": 102,
     "metadata": {},
     "output_type": "execute_result"
    }
   ],
   "source": [
    "review_df"
   ]
  },
  {
   "cell_type": "code",
   "execution_count": 103,
   "id": "9e668c9c-0c75-4745-8e81-7d5de87a0355",
   "metadata": {},
   "outputs": [],
   "source": [
    "other_df = a_df.drop(columns=['Review'])"
   ]
  },
  {
   "cell_type": "code",
   "execution_count": 104,
   "id": "fb9cd811-24f5-432d-917f-8343570442b4",
   "metadata": {},
   "outputs": [],
   "source": [
    "final_df = pd.concat([other_df, review_df], axis=1)"
   ]
  },
  {
   "cell_type": "code",
   "execution_count": 105,
   "id": "560dd569-0d21-44d1-818b-e8302f42fa98",
   "metadata": {},
   "outputs": [
    {
     "data": {
      "text/html": [
       "<div>\n",
       "<style scoped>\n",
       "    .dataframe tbody tr th:only-of-type {\n",
       "        vertical-align: middle;\n",
       "    }\n",
       "\n",
       "    .dataframe tbody tr th {\n",
       "        vertical-align: top;\n",
       "    }\n",
       "\n",
       "    .dataframe thead th {\n",
       "        text-align: right;\n",
       "    }\n",
       "</style>\n",
       "<table border=\"1\" class=\"dataframe\">\n",
       "  <thead>\n",
       "    <tr style=\"text-align: right;\">\n",
       "      <th></th>\n",
       "      <th>char_len</th>\n",
       "      <th>word_len</th>\n",
       "      <th>char_word_len_ratio</th>\n",
       "      <th>first_char_len</th>\n",
       "      <th>last_char_len</th>\n",
       "      <th>fuzz_ratio</th>\n",
       "      <th>fuzz_partial_ratio</th>\n",
       "      <th>fuzz_token_sort_ratio</th>\n",
       "      <th>fuzz_token_set_ratio</th>\n",
       "      <th>0</th>\n",
       "      <th>...</th>\n",
       "      <th>4990</th>\n",
       "      <th>4991</th>\n",
       "      <th>4992</th>\n",
       "      <th>4993</th>\n",
       "      <th>4994</th>\n",
       "      <th>4995</th>\n",
       "      <th>4996</th>\n",
       "      <th>4997</th>\n",
       "      <th>4998</th>\n",
       "      <th>4999</th>\n",
       "    </tr>\n",
       "  </thead>\n",
       "  <tbody>\n",
       "    <tr>\n",
       "      <th>0</th>\n",
       "      <td>25</td>\n",
       "      <td>4</td>\n",
       "      <td>6.25</td>\n",
       "      <td>7</td>\n",
       "      <td>3</td>\n",
       "      <td>0</td>\n",
       "      <td>0</td>\n",
       "      <td>0</td>\n",
       "      <td>0</td>\n",
       "      <td>0.0</td>\n",
       "      <td>...</td>\n",
       "      <td>0.0</td>\n",
       "      <td>0.0</td>\n",
       "      <td>0.0</td>\n",
       "      <td>0.0</td>\n",
       "      <td>0.0</td>\n",
       "      <td>0.0</td>\n",
       "      <td>0.0</td>\n",
       "      <td>0.0</td>\n",
       "      <td>0.0</td>\n",
       "      <td>0.0</td>\n",
       "    </tr>\n",
       "  </tbody>\n",
       "</table>\n",
       "<p>1 rows × 5009 columns</p>\n",
       "</div>"
      ],
      "text/plain": [
       "   char_len  word_len  char_word_len_ratio  first_char_len  last_char_len  \\\n",
       "0        25         4                 6.25               7              3   \n",
       "\n",
       "   fuzz_ratio  fuzz_partial_ratio  fuzz_token_sort_ratio  \\\n",
       "0           0                   0                      0   \n",
       "\n",
       "   fuzz_token_set_ratio    0  ...  4990  4991  4992  4993  4994  4995  4996  \\\n",
       "0                     0  0.0  ...   0.0   0.0   0.0   0.0   0.0   0.0   0.0   \n",
       "\n",
       "   4997  4998  4999  \n",
       "0   0.0   0.0   0.0  \n",
       "\n",
       "[1 rows x 5009 columns]"
      ]
     },
     "execution_count": 105,
     "metadata": {},
     "output_type": "execute_result"
    }
   ],
   "source": [
    "final_df.head()"
   ]
  },
  {
   "cell_type": "code",
   "execution_count": 106,
   "id": "ae4922e7-92cd-4b82-a2d6-caad9fe26a13",
   "metadata": {},
   "outputs": [
    {
     "data": {
      "text/plain": [
       "(1, 5009)"
      ]
     },
     "execution_count": 106,
     "metadata": {},
     "output_type": "execute_result"
    }
   ],
   "source": [
    "final_df.shape"
   ]
  },
  {
   "cell_type": "code",
   "execution_count": 107,
   "id": "ad87ddb3-c2be-4108-8b1e-7d605ce8decf",
   "metadata": {},
   "outputs": [
    {
     "data": {
      "text/plain": [
       "Index([<class 'str'>, <class 'str'>, <class 'str'>, <class 'str'>,\n",
       "       <class 'str'>, <class 'str'>, <class 'str'>, <class 'str'>,\n",
       "       <class 'str'>, <class 'int'>,\n",
       "       ...\n",
       "       <class 'int'>, <class 'int'>, <class 'int'>, <class 'int'>,\n",
       "       <class 'int'>, <class 'int'>, <class 'int'>, <class 'int'>,\n",
       "       <class 'int'>, <class 'int'>],\n",
       "      dtype='object', length=5009)"
      ]
     },
     "execution_count": 107,
     "metadata": {},
     "output_type": "execute_result"
    }
   ],
   "source": [
    "final_df.columns.map(type)"
   ]
  },
  {
   "cell_type": "code",
   "execution_count": 108,
   "id": "d750f369-5a62-494e-ade5-2ec61cab76c9",
   "metadata": {},
   "outputs": [],
   "source": [
    "final_df.columns = final_df.columns.astype(str)"
   ]
  },
  {
   "cell_type": "code",
   "execution_count": 109,
   "id": "44a2269f-44c1-4d46-8dc7-a1cb939a6765",
   "metadata": {},
   "outputs": [
    {
     "data": {
      "text/plain": [
       "Index([<class 'str'>, <class 'str'>, <class 'str'>, <class 'str'>,\n",
       "       <class 'str'>, <class 'str'>, <class 'str'>, <class 'str'>,\n",
       "       <class 'str'>, <class 'str'>,\n",
       "       ...\n",
       "       <class 'str'>, <class 'str'>, <class 'str'>, <class 'str'>,\n",
       "       <class 'str'>, <class 'str'>, <class 'str'>, <class 'str'>,\n",
       "       <class 'str'>, <class 'str'>],\n",
       "      dtype='object', length=5009)"
      ]
     },
     "execution_count": 109,
     "metadata": {},
     "output_type": "execute_result"
    }
   ],
   "source": [
    "final_df.columns.map(type)"
   ]
  },
  {
   "cell_type": "code",
   "execution_count": 110,
   "id": "b12fae81-6eb6-4903-b1e9-031ebe4ba1ec",
   "metadata": {},
   "outputs": [
    {
     "data": {
      "text/plain": [
       "array([0])"
      ]
     },
     "execution_count": 110,
     "metadata": {},
     "output_type": "execute_result"
    }
   ],
   "source": [
    "model.predict(final_df)"
   ]
  },
  {
   "cell_type": "code",
   "execution_count": null,
   "id": "c274655d-4c71-4865-bf5a-b9d2389584e1",
   "metadata": {},
   "outputs": [],
   "source": []
  },
  {
   "cell_type": "code",
   "execution_count": null,
   "id": "8c87f24a-1782-4dd3-9678-40f129b50bee",
   "metadata": {},
   "outputs": [],
   "source": []
  },
  {
   "cell_type": "code",
   "execution_count": null,
   "id": "20c98d14-df3c-4541-992e-9c1125b0d6ea",
   "metadata": {},
   "outputs": [],
   "source": []
  },
  {
   "cell_type": "code",
   "execution_count": null,
   "id": "3db16572-471f-4da3-a22e-38aec14e81c7",
   "metadata": {},
   "outputs": [],
   "source": []
  },
  {
   "cell_type": "code",
   "execution_count": null,
   "id": "072e19b6-2f85-40e5-a958-79cb3640a374",
   "metadata": {},
   "outputs": [],
   "source": []
  },
  {
   "cell_type": "code",
   "execution_count": null,
   "id": "8d8dfa1a-10f2-41e2-8b19-a421a0cb7a18",
   "metadata": {},
   "outputs": [],
   "source": []
  },
  {
   "cell_type": "code",
   "execution_count": null,
   "id": "e647b31b-baa0-4347-82f9-44ef727a8a93",
   "metadata": {},
   "outputs": [],
   "source": []
  },
  {
   "cell_type": "code",
   "execution_count": null,
   "id": "9f73ca8a-4170-4d5d-8d12-442339ebdd55",
   "metadata": {},
   "outputs": [],
   "source": []
  }
 ],
 "metadata": {
  "kernelspec": {
   "display_name": "Python 3 (ipykernel)",
   "language": "python",
   "name": "python3"
  },
  "language_info": {
   "codemirror_mode": {
    "name": "ipython",
    "version": 3
   },
   "file_extension": ".py",
   "mimetype": "text/x-python",
   "name": "python",
   "nbconvert_exporter": "python",
   "pygments_lexer": "ipython3",
   "version": "3.10.6"
  }
 },
 "nbformat": 4,
 "nbformat_minor": 5
}
